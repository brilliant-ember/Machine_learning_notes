{
 "cells": [
  {
   "cell_type": "markdown",
   "id": "b638b0d4-e2b3-4955-9d93-3a1aafee2691",
   "metadata": {},
   "source": [
    "# Basic RNN example using IMDB dataset"
   ]
  },
  {
   "cell_type": "code",
   "execution_count": 1,
   "id": "a78534b7-46be-4a89-a58b-e01f4afc39bb",
   "metadata": {},
   "outputs": [],
   "source": [
    "from keras.datasets import imdb\n",
    "from keras.preprocessing import sequence\n",
    "from keras.layers import Dense, SimpleRNN, LSTM, Embedding\n",
    "from keras.models import Sequential\n",
    "import matplotlib.pyplot as plt\n",
    "import helpers\n",
    "import keras\n",
    "import tensorflow as tf\n",
    "\n",
    "# this code below allows me to train the model even when the gpu is occupied by another process\n",
    "# https://stackoverflow.com/questions/43990046/tensorflow-blas-gemm-launch-failed\n",
    "physical_devices = tf.config.list_physical_devices('GPU') \n",
    "for device in physical_devices:\n",
    "    tf.config.experimental.set_memory_growth(device, True)\n"
   ]
  },
  {
   "cell_type": "code",
   "execution_count": 2,
   "id": "36aaa937-b996-4ac1-9841-8083accf22a5",
   "metadata": {},
   "outputs": [
    {
     "name": "stdout",
     "output_type": "stream",
     "text": [
      "Loading data...\n",
      "25000 train sequences\n",
      "25000 test sequences\n",
      "(25000,) input train shape\n",
      "(25000,) input_test shape\n"
     ]
    }
   ],
   "source": [
    "max_features = 10000 #consider the top 10,000 most common words\n",
    "maxlen = 500\n",
    "batch_size = 32\n",
    "\n",
    "print('Loading data...')\n",
    "# more info about dataset https://www.tensorflow.org/api_docs/python/tf/keras/datasets/imdb/load_data\n",
    "(input_train, y_train), (input_test, y_test) = imdb.load_data(\n",
    "    num_words=max_features)\n",
    "\n",
    "\n",
    "print(len(input_train), 'train sequences')\n",
    "print(len(input_test), 'test sequences')\n",
    "print(input_train.shape, \"input train shape\")\n",
    "print(input_test.shape, \"input_test shape\")\n"
   ]
  },
  {
   "cell_type": "code",
   "execution_count": 3,
   "id": "9554e4fb-6a1f-4ee2-96db-c7353527e7f4",
   "metadata": {},
   "outputs": [
    {
     "name": "stdout",
     "output_type": "stream",
     "text": [
      "After padding\n",
      "(25000, 500) input train shape\n",
      "(25000, 500) input_test shape\n"
     ]
    }
   ],
   "source": [
    "input_train = sequence.pad_sequences(input_train, maxlen=maxlen)\n",
    "input_test = sequence.pad_sequences(input_test, maxlen=maxlen)\n",
    "print(\"After padding\")\n",
    "print(input_train.shape, \"input train shape\")\n",
    "print(input_test.shape, \"input_test shape\")\n"
   ]
  },
  {
   "cell_type": "code",
   "execution_count": 4,
   "id": "e1d7624f-6ee2-4ab8-ad3a-813ff6ad44ae",
   "metadata": {},
   "outputs": [
    {
     "name": "stdout",
     "output_type": "stream",
     "text": [
      "[   0    0    0    0    0    0    0    0    0    0    0    0    0    0\n",
      "    0    0    0    0    0    0    0    0    0    0    0    0    0    0\n",
      "    0    0    0    0    0    0    0    0    0    0    0    0    0    0\n",
      "    0    0    0    0    0    0    0    0    0    0    0    0    0    0\n",
      "    0    0    0    0    0    0    0    0    0    0    0    0    0    0\n",
      "    0    0    0    0    0    0    0    0    0    0    0    0    0    0\n",
      "    0    0    0    0    0    0    0    0    0    0    0    0    0    0\n",
      "    0    0    0    0    0    0    0    0    0    0    0    0    0    0\n",
      "    0    0    0    0    0    0    0    0    0    0    0    0    0    0\n",
      "    0    0    0    0    0    0    0    0    0    0    0    0    0    0\n",
      "    0    0    0    0    0    0    0    0    0    0    0    0    0    0\n",
      "    0    0    0    0    0    0    0    0    0    0    0    0    0    0\n",
      "    0    0    0    0    0    0    0    0    0    0    0    0    0    0\n",
      "    0    0    0    0    0    0    0    0    0    0    0    0    0    0\n",
      "    0    0    0    0    0    0    0    0    0    0    0    0    0    0\n",
      "    0    0    0    0    0    0    0    0    0    0    0    0    0    0\n",
      "    0    0    0    0    0    0    0    0    0    0    0    0    0    0\n",
      "    0    0    0    0    0    0    0    0    0    0    0    0    0    0\n",
      "    0    0    0    0    0    0    0    0    0    0    0    0    0    0\n",
      "    0    0    0    0    0    0    0    0    0    0    0    0    0    0\n",
      "    0    0    1   14   22   16   43  530  973 1622 1385   65  458 4468\n",
      "   66 3941    4  173   36  256    5   25  100   43  838  112   50  670\n",
      "    2    9   35  480  284    5  150    4  172  112  167    2  336  385\n",
      "   39    4  172 4536 1111   17  546   38   13  447    4  192   50   16\n",
      "    6  147 2025   19   14   22    4 1920 4613  469    4   22   71   87\n",
      "   12   16   43  530   38   76   15   13 1247    4   22   17  515   17\n",
      "   12   16  626   18    2    5   62  386   12    8  316    8  106    5\n",
      "    4 2223 5244   16  480   66 3785   33    4  130   12   16   38  619\n",
      "    5   25  124   51   36  135   48   25 1415   33    6   22   12  215\n",
      "   28   77   52    5   14  407   16   82    2    8    4  107  117 5952\n",
      "   15  256    4    2    7 3766    5  723   36   71   43  530  476   26\n",
      "  400  317   46    7    4    2 1029   13  104   88    4  381   15  297\n",
      "   98   32 2071   56   26  141    6  194 7486   18    4  226   22   21\n",
      "  134  476   26  480    5  144   30 5535   18   51   36   28  224   92\n",
      "   25  104    4  226   65   16   38 1334   88   12   16  283    5   16\n",
      " 4472  113  103   32   15   16 5345   19  178   32]\n",
      "500\n"
     ]
    }
   ],
   "source": [
    "print(input_train[0]) # the words in the review are already encoded to integers\n",
    "print(len(input_train[0]))"
   ]
  },
  {
   "cell_type": "code",
   "execution_count": 8,
   "id": "ff4b5ff7-cebd-4807-8f29-907837b42aeb",
   "metadata": {},
   "outputs": [
    {
     "name": "stdout",
     "output_type": "stream",
     "text": [
      "Model: \"sequential_3\"\n",
      "_________________________________________________________________\n",
      "Layer (type)                 Output Shape              Param #   \n",
      "=================================================================\n",
      "embedding_3 (Embedding)      (None, None, 32)          320000    \n",
      "_________________________________________________________________\n",
      "simple_rnn_3 (SimpleRNN)     (None, 32)                2080      \n",
      "_________________________________________________________________\n",
      "dense_3 (Dense)              (None, 1)                 33        \n",
      "=================================================================\n",
      "Total params: 322,113\n",
      "Trainable params: 322,113\n",
      "Non-trainable params: 0\n",
      "_________________________________________________________________\n",
      "Epoch 1/10\n",
      "313/313 [==============================] - 84s 267ms/step - loss: 0.5575 - accuracy: 0.7017 - val_loss: 0.4516 - val_accuracy: 0.7940\n",
      "Epoch 2/10\n",
      "313/313 [==============================] - 83s 267ms/step - loss: 0.3505 - accuracy: 0.8555 - val_loss: 0.3632 - val_accuracy: 0.8472\n",
      "Epoch 3/10\n",
      "313/313 [==============================] - 83s 266ms/step - loss: 0.2803 - accuracy: 0.8875 - val_loss: 0.3437 - val_accuracy: 0.8546\n",
      "Epoch 4/10\n",
      "313/313 [==============================] - 84s 268ms/step - loss: 0.2261 - accuracy: 0.9133 - val_loss: 0.3673 - val_accuracy: 0.8586\n",
      "Epoch 5/10\n",
      "313/313 [==============================] - 86s 273ms/step - loss: 0.1792 - accuracy: 0.9329 - val_loss: 0.3928 - val_accuracy: 0.8332\n",
      "Epoch 6/10\n",
      "313/313 [==============================] - 87s 278ms/step - loss: 0.1390 - accuracy: 0.9497 - val_loss: 0.3974 - val_accuracy: 0.8610\n",
      "Epoch 7/10\n",
      "313/313 [==============================] - 85s 272ms/step - loss: 0.0990 - accuracy: 0.9650 - val_loss: 0.4773 - val_accuracy: 0.8560\n",
      "Epoch 8/10\n",
      "313/313 [==============================] - 84s 268ms/step - loss: 0.0681 - accuracy: 0.9766 - val_loss: 0.5087 - val_accuracy: 0.8336\n",
      "Epoch 9/10\n",
      "313/313 [==============================] - 84s 268ms/step - loss: 0.0476 - accuracy: 0.9834 - val_loss: 0.5973 - val_accuracy: 0.7998\n",
      "Epoch 10/10\n",
      "313/313 [==============================] - 84s 268ms/step - loss: 0.0361 - accuracy: 0.9889 - val_loss: 0.6149 - val_accuracy: 0.8338\n"
     ]
    }
   ],
   "source": [
    "model = Sequential()\n",
    "model.add(Embedding(max_features, 32))\n",
    "model.add(SimpleRNN(32))\n",
    "model.add(Dense(1, activation='sigmoid'))\n",
    "\n",
    "model.compile(optimizer='rmsprop',\n",
    "              loss='binary_crossentropy',\n",
    "              metrics=['accuracy'])\n",
    "model.summary()\n",
    "callbacks = [tf.keras.callbacks.EarlyStopping(\n",
    "    monitor=\"accuracy\", mode=\"auto\", restore_best_weights=True, patience=2)]\n",
    "    \n",
    "history = model.fit(input_train,\n",
    "                    y_train,\n",
    "                    epochs=10,\n",
    "                    batch_size=64, validation_split=0.2,\n",
    "                   callbacks=callbacks)\n"
   ]
  },
  {
   "cell_type": "code",
   "execution_count": 9,
   "id": "af5b1f59-87a8-4be2-be8a-5910bf37039b",
   "metadata": {},
   "outputs": [
    {
     "data": {
      "image/png": "[encoded data removed]",
      "text/plain": [
       "<Figure size 432x288 with 1 Axes>"
      ]
     },
     "metadata": {},
     "output_type": "display_data"
    },
    {
     "data": {
      "image/png": "[encoded data removed]",
      "text/plain": [
       "<Figure size 432x288 with 1 Axes>"
      ]
     },
     "metadata": {},
     "output_type": "display_data"
    }
   ],
   "source": [
    "helpers.plot_training_validation_accuracy_loss(history)"
   ]
  },
  {
   "cell_type": "code",
   "execution_count": 10,
   "id": "227a2ee3-d2bb-4b15-a0ea-8c06134891a5",
   "metadata": {},
   "outputs": [
    {
     "name": "stdout",
     "output_type": "stream",
     "text": [
      "Test Accuracy: 82.6960027217865 % \n"
     ]
    }
   ],
   "source": [
    "loss, accuracy = model.evaluate(input_test, y_test, verbose=0)\n",
    "print(f'Test Accuracy: {accuracy*100} % ')"
   ]
  },
  {
   "cell_type": "code",
   "execution_count": 16,
   "id": "045a38fb-20f9-4244-bae1-db2b9853fbc4",
   "metadata": {},
   "outputs": [
    {
     "name": "stdout",
     "output_type": "stream",
     "text": [
      "INFO:tensorflow:Assets written to: /home/mo/machine_learning_practice/saved_models/simpleRnnIMDB_1/assets\n"
     ]
    }
   ],
   "source": [
    "# this model took sometime to train, so I am saving it for the future\n",
    "import os\n",
    "# os.listdir()\n",
    "my_path = 'saved_models'\n",
    "cwd = os.getcwd()\n",
    "my_path = os.path.join(cwd, my_path)\n",
    "# try:\n",
    "#     os.mkdir(my_path)\n",
    "# except OSError:\n",
    "#     print (\"Creation of the directory %s failed\" % my_path)\n",
    "# else:\n",
    "#     print (\"Successfully created the directory %s \" % my_path)\n",
    "    \n",
    "my_path = os.path.join(my_path, \"simpleRnnIMDB_1\")\n",
    "model.save(my_path)"
   ]
  },
  {
   "cell_type": "code",
   "execution_count": 18,
   "id": "4eeb0a6d-9b4a-4ccd-907b-3a703aa6fc47",
   "metadata": {},
   "outputs": [
    {
     "name": "stdout",
     "output_type": "stream",
     "text": [
      "Model: \"sequential_3\"\n",
      "_________________________________________________________________\n",
      "Layer (type)                 Output Shape              Param #   \n",
      "=================================================================\n",
      "embedding_3 (Embedding)      (None, None, 32)          320000    \n",
      "_________________________________________________________________\n",
      "simple_rnn_3 (SimpleRNN)     (None, 32)                2080      \n",
      "_________________________________________________________________\n",
      "dense_3 (Dense)              (None, 1)                 33        \n",
      "=================================================================\n",
      "Total params: 322,113\n",
      "Trainable params: 322,113\n",
      "Non-trainable params: 0\n",
      "_________________________________________________________________\n",
      "782/782 - 31s - loss: 0.6434 - accuracy: 0.8270\n",
      "Restored model, accuracy: 82.70%\n"
     ]
    }
   ],
   "source": [
    "# Create a new model instance to check I saved it good\n",
    "model_reloaded = tf.keras.models.load_model(my_path)\n",
    "\n",
    "# Check its architecture\n",
    "model_reloaded.summary()\n",
    "\n",
    "\n",
    "# Evaluate the model\n",
    "loss, acc = model_reloaded.evaluate(input_test, y_test, verbose=2)\n",
    "print(\"Restored model, accuracy: {:5.2f}%\".format(100 * acc))\n"
   ]
  }
 ],
 "metadata": {
  "kernelspec": {
   "display_name": "Python 3",
   "language": "python",
   "name": "python3"
  },
  "language_info": {
   "codemirror_mode": {
    "name": "ipython",
    "version": 3
   },
   "file_extension": ".py",
   "mimetype": "text/x-python",
   "name": "python",
   "nbconvert_exporter": "python",
   "pygments_lexer": "ipython3",
   "version": "3.6.9"
  }
 },
 "nbformat": 4,
 "nbformat_minor": 5
}
