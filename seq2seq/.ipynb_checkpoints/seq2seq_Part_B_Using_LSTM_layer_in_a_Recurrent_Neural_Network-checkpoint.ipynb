{
  "nbformat": 4,
  "nbformat_minor": 0,
  "metadata": {
    "colab": {
      "name": "seq2seq Part B Using LSTM layer in a Recurrent Neural Network.ipynb",
      "provenance": [],
      "collapsed_sections": []
    },
    "kernelspec": {
      "name": "python3",
      "display_name": "Python 3"
    }
  },
  "cells": [
    {
      "cell_type": "markdown",
      "metadata": {
        "id": "0sru34D2_6jO"
      },
      "source": [
        "# Part B: Using LSTM layer in a Recurrent Neural Network\n",
        "\n",
        "Welcome to the **Part B** of Seq2Seq Learning Tutorial Series.\n",
        "In this tutorial, we will use several Recurrent Neural Network models to solve the sample Seq2Seq problem introduced in **Part A**.\n",
        "\n",
        "We will use **LSTM** as the Recurrent Neural Network layer in Keras.\n",
        "\n",
        "If you would like to follow up all the tutorials, please **subcribe** to [my YouTube Channel](https://www.youtube.com/channel/UCrCxCxTFL2ytaDrDYrN4_eA/playlists) or **follow** [my blog on Medium](https://medium.com/@kmkarakaya). Thank you!"
      ]
    },
    {
      "cell_type": "markdown",
      "metadata": {
        "id": "Mi1tgH2TAFsB"
      },
      "source": [
        "# References:\n"
      ]
    },
    {
      "cell_type": "markdown",
      "metadata": {
        "id": "uIDaHVJEKVNn"
      },
      "source": [
        "**Blogs**:\n",
        "\n",
        "* [tf.keras.layers.LSTM official website](https://www.tensorflow.org/api_docs/python/tf/keras/layers/LSTM)\n",
        "\n",
        "* [A ten-minute introduction to sequence-to-sequence learning in Keras by Francois Chollet](https://blog.keras.io/a-ten-minute-introduction-to-sequence-to-sequence-learning-in-keras.html)\n",
        "\n",
        "* [How to Develop an Encoder-Decoder Model with Attention in Keras by Jason Brownlee](https://machinelearningmastery.com/encoder-decoder-attention-sequence-to-sequence-prediction-keras/)\n",
        "\n",
        "**Presentations:**\n",
        "\n",
        "* [LSTM from a programmer's perspective by Murat Karakaya Akademi](https://github.com/kmkarakaya/ML_tutorials/raw/bf15d1d5aebd23e05420c12f3c954abea9204b1f/ppt/HOW%20KERAS%20LSTM%20WORKS.pptx)\n",
        "\n",
        "**Videos:**\n",
        "* [LSTM from scratch by Murat Karakaya Akademi](https://youtu.be/7nnSjZBJVDs)\n",
        "\n",
        "**Notebooks**:\n",
        "* [LSTM intro by Murat Karakaya Akademi](https://colab.research.google.com/drive/1kG5pUczEtqdDtMHiNL-mvgTi-5-Y058t?usp=sharing)\n",
        "* [Recap LSTM outputs by Murat Karakaya Akademi](https://colab.research.google.com/drive/1nUazJkXcRZi-XiXCr6sEgCy2Z5Mhze1n?usp=sharing)\n"
      ]
    },
    {
      "cell_type": "markdown",
      "metadata": {
        "id": "lQW-e4UkraAu"
      },
      "source": [
        "# Preparation"
      ]
    },
    {
      "cell_type": "code",
      "metadata": {
        "id": "ejlCnWNlFzdm",
        "colab": {
          "base_uri": "https://localhost:8080/"
        },
        "outputId": "b60ff19d-225d-4596-f525-4a3eeade2757"
      },
      "source": [
        "#@title Check GPU\n",
        "%tensorflow_version 2.x\n",
        "import tensorflow as tf\n",
        "device_name = tf.test.gpu_device_name()\n",
        "if device_name != '/device:GPU:0':\n",
        "  print('GPU device not found')\n",
        "else:\n",
        "  print('Found GPU at: {}'.format(device_name))"
      ],
      "execution_count": null,
      "outputs": [
        {
          "output_type": "stream",
          "text": [
            "GPU device not found\n"
          ],
          "name": "stdout"
        }
      ]
    },
    {
      "cell_type": "code",
      "metadata": {
        "id": "VbUbGOuqFzUY",
        "cellView": "form"
      },
      "source": [
        "#@title Version Info\n",
        "print('tf version: ', tf.__version__)\n",
        "print('tf.keras version:', tf.keras.__version__)\n"
      ],
      "execution_count": null,
      "outputs": []
    },
    {
      "cell_type": "code",
      "metadata": {
        "id": "IC4MdzOhgwRg"
      },
      "source": [
        "#@title Time\n",
        "!pip install ipython-autotime\n",
        "\n",
        "%load_ext autotime"
      ],
      "execution_count": null,
      "outputs": []
    },
    {
      "cell_type": "code",
      "metadata": {
        "id": "J9ZhrUeTDsx-",
        "cellView": "form"
      },
      "source": [
        "#@title Import Libraries\n",
        "from random import randint\n",
        "from numpy import array\n",
        "from numpy import argmax\n",
        "import keras.backend as K\n",
        "from tensorflow.keras import models\n",
        "from numpy import array_equal\n",
        "import numpy as np\n",
        "from tensorflow.keras.models import Sequential, Model\n",
        "from tensorflow.keras.layers import LSTM, Bidirectional\n",
        "from tensorflow.keras.layers import Dense, Flatten\n",
        "from tensorflow.keras import Input\n",
        "from tensorflow.keras.layers import TimeDistributed\n",
        "from tensorflow.keras.layers import RepeatVector\n",
        "from tensorflow.keras.callbacks import EarlyStopping\n",
        "from tensorflow.keras.utils import plot_model\n",
        "import matplotlib.pyplot as plt"
      ],
      "execution_count": null,
      "outputs": []
    },
    {
      "cell_type": "code",
      "metadata": {
        "id": "JHDIEj53Dj5p",
        "cellView": "form"
      },
      "source": [
        "#@title Function to Train & Test  given model (Early Stopping monitor 'val_loss')\n",
        "def train_test(model, X_train, y_train , \n",
        "               X_test, \ty_test, epochs=100, \n",
        "\t\t\t\t\t\t\t        verbose=0, patience=5):\n",
        "\t# patient early stopping\n",
        "\t#es = EarlyStopping(monitor='val_accuracy', mode='max', min_delta=1, patience=20)\n",
        "\tes = EarlyStopping(monitor='val_loss', mode='min', \n",
        "\t                   verbose=1, patience=patience)\n",
        "\t# train model\n",
        "\tprint('training for ',epochs,\n",
        "\t      ' epochs begins with',\n",
        "\t\t\t\t' EarlyStopping(monitor= val_loss ',\n",
        "\t\t\t\t' patience=',patience,')....')\n",
        "\thistory=model.fit(X_train, y_train, validation_split= 0.1, epochs=epochs,  verbose=verbose, callbacks=[es])\n",
        "\tprint(epochs,' epoch training finished...')\n",
        "\n",
        "\t# report training\n",
        "\t# list all data in history\n",
        "\t#print(history.history.keys())\n",
        "\t# evaluate the model\n",
        "\t_, train_acc = model.evaluate(X_train, y_train, verbose=0)\n",
        "\t_, test_acc = model.evaluate(X_test, \ty_test, verbose=0)\n",
        "\tprint('\\nPREDICTION ACCURACY (%):')\n",
        "\tprint('Train: %.3f, Test: %.3f' % (train_acc*100, test_acc*100))\n",
        "\t# summarize history for accuracy\n",
        "\tplt.plot(history.history['accuracy'])\n",
        "\tplt.plot(history.history['val_accuracy'])\n",
        "\tplt.title(model.name+' accuracy')\n",
        "\tplt.ylabel('accuracy')\n",
        "\tplt.xlabel('epoch')\n",
        "\tplt.legend(['train', 'val'], loc='upper left')\n",
        "\tplt.show()\n",
        "\t# summarize history for loss\n",
        "\tplt.plot(history.history['loss'])\n",
        "\tplt.plot(history.history['val_loss'])\n",
        "\tplt.title(model.name+' loss')\n",
        "\tplt.ylabel('loss')\n",
        "\tplt.xlabel('epoch')\n",
        "\tplt.legend(['train', 'val'], loc='upper left')\n",
        "\tplt.show()\n",
        "\n",
        "\n",
        "\n",
        "\n",
        "  \n",
        "\t# spot check some examples\n",
        "\tprint('some examples...')\n",
        "\tfor _ in range(10):\n",
        "\t\tX,y = get_reversed_pairs(n_timesteps, n_features)\n",
        "\t\tyhat = model.predict(X, verbose=0)\n",
        "\t\tprint('Input',one_hot_decode(X[0]),\n",
        "\t\t\t\t\t'Expected:', one_hot_decode(y[0]), \n",
        "\t\t\t\t\t\t'Predicted', one_hot_decode(yhat[0]),\n",
        "\t\t\t\t\t\t\t'', array_equal(one_hot_decode(y[0]), one_hot_decode(yhat[0])) )\n",
        "\t\n"
      ],
      "execution_count": null,
      "outputs": []
    },
    {
      "cell_type": "code",
      "metadata": {
        "id": "feLfHoNmBeXu",
        "cellView": "form"
      },
      "source": [
        "#@title Functions to generate Seq2Seq Dataset, one hot encode / decode Input & Output Sequences\n",
        "\n",
        "\n",
        "# generate a sequence of random integers\n",
        "def generate_sequence(length, n_unique):\n",
        "\treturn [randint(0, n_unique-1) for _ in range(length)]\n",
        "\n",
        "# one hot encode sequence\n",
        "def one_hot_encode(sequence, n_unique):\n",
        "\tencoding = list()\n",
        "\tfor value in sequence:\n",
        "\t\tvector = [0 for _ in range(n_unique)]\n",
        "\t\tvector[value] = 1\n",
        "\t\tencoding.append(vector)\n",
        "\treturn array(encoding)\n",
        "\n",
        "# decode a one hot encoded string\n",
        "def one_hot_decode(encoded_seq):\n",
        "\treturn [argmax(vector) for vector in encoded_seq]\n",
        "\n",
        "# prepare data for the LSTM\n",
        "def get_reversed_pairs(time_steps,vocabulary_size,verbose= False):\n",
        "\t# generate random sequence\n",
        "\tsequence_in = generate_sequence(time_steps, vocabulary_size)\n",
        "\tsequence_out = sequence_in[::-1]\n",
        "\t\n",
        "\t# one hot encode\n",
        "\tX = one_hot_encode(sequence_in, vocabulary_size)\n",
        "\ty = one_hot_encode(sequence_out, vocabulary_size)\n",
        "\t# reshape as 3D\n",
        "\tX = X.reshape((1, X.shape[0], X.shape[1]))\n",
        "\ty = y.reshape((1, y.shape[0], y.shape[1]))\n",
        "\n",
        "\tif(verbose):\n",
        "\t\tprint('\\nSample X and y')\n",
        "\t\tprint('\\nIn raw format:')\n",
        "\t\tprint('X=%s, y=%s' % (one_hot_decode(X[0]), one_hot_decode(y[0])))\n",
        "\t\tprint('\\nIn one_hot_encoded format:')\n",
        "\t\tprint('X=%s' % (X[0]))\n",
        "\t\tprint('y=%s' % (y[0]))\n",
        "\treturn X,y\n",
        "\n",
        "\n",
        "def create_dataset(train_size, test_size, time_steps,vocabulary_size, verbose= False):\n",
        "\tpairs = [get_reversed_pairs(time_steps,vocabulary_size) for _ in range(train_size)]\n",
        "\tpairs=np.array(pairs).squeeze()\n",
        "\tX_train = pairs[:,0]\n",
        "\ty_train = pairs[:,1]\n",
        "\tpairs = [get_reversed_pairs(time_steps,vocabulary_size) for _ in range(test_size)]\n",
        "\tpairs=np.array(pairs).squeeze()\n",
        "\tX_test = pairs[:,0]\n",
        "\ty_test = pairs[:,1]\t\n",
        "\n",
        "\tif(verbose):\n",
        "\t\tprint('\\nGenerated sequence datasets as follows')\n",
        "\t\tprint('X_train.shape: ', X_train.shape,'y_train.shape: ', y_train.shape)\n",
        "\t\tprint('X_test.shape: ', X_test.shape,'y_test.shape: ', y_test.shape)\n",
        "\t\n",
        "\treturn X_train, y_train, X_test, \ty_test"
      ],
      "execution_count": null,
      "outputs": []
    },
    {
      "cell_type": "markdown",
      "metadata": {
        "id": "YPi_8m1v-9Hk"
      },
      "source": [
        ""
      ]
    },
    {
      "cell_type": "markdown",
      "metadata": {
        "id": "NbPZnmB9oEz_"
      },
      "source": [
        "# REMINDER:\n",
        "* This is the **Part B** of the Seq2Seq Learning series.\n",
        "\n",
        "* **Please check out the previous part** to refresh the necessary background knowledge in order to follow this part with ease."
      ]
    },
    {
      "cell_type": "markdown",
      "metadata": {
        "id": "xL1t89XWMTc0"
      },
      "source": [
        "# SEQ2SEQ LEARNING SERIES:\n"
      ]
    },
    {
      "cell_type": "markdown",
      "metadata": {
        "id": "4RtsdgnSKvjx"
      },
      "source": [
        "You can access all my **SEQ2SEQ Learning** videos on **[Murat Karakaya Akademi Youtube channel](https://www.youtube.com/channel/UCrCxCxTFL2ytaDrDYrN4_eA/playlists?view=1&flow=grid)** in [ENGLISH](https://www.youtube.com/playlist?list=PLQflnv_s49v-4aH-xFcTykTpcyWSY4Tww) or in [TURKISH](https://www.youtube.com/playlist?list=PLQflnv_s49v97hDXtCo4mgje_SEiJ0_hH)\n",
        "\n",
        "You can access to [my blog on Medium](https://medium.com/@kmkarakaya)\n",
        "\n",
        "**Part A: AN INTRODUCTION TO SEQ2SEQ LEARNING AND A SAMPLE SOLUTION WITH MLP NETWORK** \n",
        " \n",
        "   * YouTube Videos in [ENGLISH](https://youtu.be/9TEPkRLhgSc) or [TURKISH](https://youtu.be/p2QlkuV4ito) / [Medium Post](https://medium.com/@kmkarakaya/part-a-introduction-to-seq2seq-learning-a-sample-solution-with-mlp-network-95dc0bcb9c83?sk=2063e3c62b1989efedf6625ac626c2ee) / [Colab Notebook](https://colab.research.google.com/drive/1fffqeeJsY89LuxsEl_7Re33nCWGusjCj?usp=sharing)\n",
        "\n",
        "**Part B: SEQ2SEQ LEARNING WITH RECURRENT NEURAL NETWORKS (LSTM)** \n",
        "\n",
        "   * YouTube Video in [ENGLISH](https://youtu.be/7L5bkMu0Pgg) or [TURKISH](https://youtu.be/UA4rDcq5Cuo) / [Medium Post](https://medium.com/@kmkarakaya/seq2seq-part-b-using-lstm-layer-in-a-recurrent-neural-network-9be629bb71e2?source=friends_link&sk=0b6e0f34592100b991664c55061ca394) / [Colab Notebook](https://colab.research.google.com/drive/1DBaHgsoPJCoj8SXAqNqQtKqAtwrUc4qS?usp=sharing)\n",
        "\n",
        "\n",
        "**Part C: SEQ2SEQ LEARNING WITH A BASIC ENCODER DECODER MODEL** \n",
        "\n",
        "   * YouTube Video in [ENGLISH](https://youtu.be/iHJkfsV9cqY) or [TURKISH](https://youtu.be/SZNqENbc9f4) / [Medium Post](https://medium.com/@kmkarakaya/seq2seq-part-c-basic-encoder-decoder-a7f536f5f510) / [Colab Notebook](https://colab.research.google.com/drive/1ErnVEZOmlu_nInxaoLStW0BHzgT4meVj?usp=sharing)\n",
        "\n",
        "**Part D: SEQ2SEQ LEARNING WITH AN ENCODER DECODER MODEL + TEACHER FORCING** \n",
        "\n",
        "   * YouTube Video / Medium Post / [Colab Notebook](https://colab.research.google.com/drive/1TNUB8vsZimVZl_wktWS1ac4wyw8kaNLW?usp=sharing)\n",
        "\n",
        "**Part E: SEQ2SEQ LEARNING WITH AN ENCODER DECODER MODEL FOR VARIABLE INPUT AND OUTPUT SIZE** \n",
        "\n",
        "   * YouTube Video / Medium Post / [Colab Notebook](https://colab.research.google.com/drive/1DtOpSacgqJ1hDQ3GSx0BZgnQHrjwJAsy?usp=sharing)\n",
        "\n",
        "**Part F: SEQ2SEQ LEARNING WITH AN ENCODER DECODER MODEL + TEACHER FORCING FOR VARIABLE INPUT AND OUTPUT SIZE** \n",
        "\n",
        "   * YouTube Video / Medium Post / [Colab Notebook](https://colab.research.google.com/drive/1cxDOWY7PQSx-tRy8inE2IG7-xGpVJWNP?usp=sharing)\n",
        "\n",
        "**Part G: SEQ2SEQ LEARNING WITH AN ENCODER DECODER MODEL + BAHDANAU ATTENTION** \n",
        "\n",
        "   * YouTube Video / Medium Post / [Colab Notebook](https://colab.research.google.com/drive/1VFfeP3eiauYCRvW8vMvL0NRKaOtcGz3J?usp=sharing)\n",
        "\n",
        "\n",
        "**Part H: SEQ2SEQ LEARNING WITH AN ENCODER DECODER MODEL + LUONG ATTENTION** \n",
        "\n",
        "   * YouTube Video / Medium Post / [Colab Notebook](https://colab.research.google.com/drive/1N0ycXm7Lq3jWzbJERRy6rwL1Ux4hmlWM?usp=sharing)\n"
      ]
    },
    {
      "cell_type": "markdown",
      "metadata": {
        "id": "0NP6C3O_LBm1"
      },
      "source": [
        "# WHY WE HAVE SO MANY PARTS?"
      ]
    },
    {
      "cell_type": "markdown",
      "metadata": {
        "id": "ORdWK6AYK9ct"
      },
      "source": [
        "* Our aim is to code an Encoder Decoder Model with Attention. \n",
        "* However, I would like to develop the solution by showing the shortcomings of other possible approaches.\n",
        "* Therefore, in the first 2 parts, we will observe that initial models have their own weakness.\n",
        "* We also understand why Encoder Decoder paradigm is so successful.\n",
        "\n",
        "**So, please patiently follow the parts as we develop a better solution :)**"
      ]
    },
    {
      "cell_type": "markdown",
      "metadata": {
        "id": "s6DOhys-LPR0"
      },
      "source": [
        "# A Simple Seq2Seq Problem: The reversed sequence problem\n",
        "Assume that:\n",
        "* We are given a **parallel data set** including X (input) and y (output) such that X[i] and y[i] have some relationship\n",
        "\n",
        "<br>\n",
        "\n",
        "In that tutorial, I will **generate** X and y parallel datasets such that **y sequence** will be  **the reverse of** the given **X sequence**. For example,\n",
        "\n",
        "* **Given sequence** X[i] length of 4:\n",
        "\n",
        " X[i]=[3, 2, 9, 1]\n",
        "\n",
        "* **Output sequence** (y[i]) is the **reversed** input sequence (X[i])  \n",
        "\n",
        " y[i]=[1, 9, 2, 3]\n",
        "\n",
        "I will call this parallel dataset: \"**the reversed sequence problem**\"\n",
        "\n",
        "<br>\n",
        "\n",
        "In real life (like *Machine Language Translation, Image Captioning*, etc.), we are ***given*** (or ***build***) a **parallel dataset**: X sequences and corresponding y sequences\n",
        "\n",
        "* However, to set up an ***easily traceable*** example, I opt out to set **y sequences as the reversed of X sequences**\n",
        "\n",
        "* However, you can create X and y parallel datasets as you wish: *sorted, reverse sorted, odd or even numbers selected*, etc.\n",
        "\n",
        "* We use the **parallel data set** to train a **seq2seq** model which would learn \n",
        "\n",
        "  * how to **convert/transform an input sequence from X \n",
        "to an output sequence in y**\n"
      ]
    },
    {
      "cell_type": "markdown",
      "metadata": {
        "id": "6yVEATl8sPSq"
      },
      "source": [
        "**IMPORTANT**: \n",
        "* In the reversed sequence problem, **the input & output sequence lengths are fixed and same**. \n",
        "* **In PART E**, we will change the problem and the solution such that we will be dealing with variable-length sequnces after we built the encoder-decoder model. \n",
        "\n",
        "## Configure the problem\n",
        "* **Number of Input Timesteps:** how many tokens / distict events /numbers / word etc in the input sequence \n",
        "* **Number of Features:** how many features/dimensions used to represent one tokens / distict events / numbers / word etc\n",
        "* Here, we use one-hot encoding to represent the integers.\n",
        "* The **length** of the one-hot coding vector is **Number of Features**\n",
        "* Thus, the greatest integer will be **Number of Features-1**\n",
        "* When **Number of Features=10** the **greatest integer will be 9** and will be represents as **[0 0 0 0 0 0 0 0 0 1]**\n",
        "\n"
      ]
    },
    {
      "cell_type": "code",
      "metadata": {
        "id": "4QW42m7LCHtO",
        "cellView": "form",
        "colab": {
          "base_uri": "https://localhost:8080/",
          "height": 364
        },
        "outputId": "43e4a6f5-1368-4b3c-b39d-aa2c054a6404"
      },
      "source": [
        "#@title Configure problem\n",
        "\n",
        "n_timesteps =   4#@param {type:\"integer\"}\n",
        "#each input sample has 4 values\n",
        "\n",
        "n_features = 10   #@param {type:\"integer\"}\n",
        "#each value is one_hot_encoded with 10 0/1\n",
        "#n_timesteps_out = 2  #@param {type:\"integer\"}\n",
        "#each output sample has 2 values padded with 0\n",
        "\n",
        "# generate random sequence\n",
        "X,y = get_reversed_pairs(n_timesteps,  n_features, verbose=True)\n",
        "# generate datasets\n",
        "train_size= 2000 #@param {type:\"integer\"}\n",
        "test_size = 200  #@param {type:\"integer\"}\n",
        "\n",
        "X_train, y_train , X_test, \ty_test=create_dataset(train_size, test_size, n_timesteps,n_features , verbose=True)\n",
        "\n"
      ],
      "execution_count": null,
      "outputs": [
        {
          "output_type": "stream",
          "text": [
            "\n",
            "Sample X and y\n",
            "\n",
            "In raw format:\n",
            "X=[1, 9, 1, 3], y=[3, 1, 9, 1]\n",
            "\n",
            "In one_hot_encoded format:\n",
            "X=[[0 1 0 0 0 0 0 0 0 0]\n",
            " [0 0 0 0 0 0 0 0 0 1]\n",
            " [0 1 0 0 0 0 0 0 0 0]\n",
            " [0 0 0 1 0 0 0 0 0 0]]\n",
            "y=[[0 0 0 1 0 0 0 0 0 0]\n",
            " [0 1 0 0 0 0 0 0 0 0]\n",
            " [0 0 0 0 0 0 0 0 0 1]\n",
            " [0 1 0 0 0 0 0 0 0 0]]\n",
            "\n",
            "Generated sequence datasets as follows\n",
            "X_train.shape:  (2000, 4, 10) y_train.shape:  (2000, 4, 10)\n",
            "X_test.shape:  (200, 4, 10) y_test.shape:  (200, 4, 10)\n",
            "time: 83 ms\n"
          ],
          "name": "stdout"
        }
      ]
    },
    {
      "cell_type": "markdown",
      "metadata": {
        "id": "hDwqCth7OO4J"
      },
      "source": [
        "# Before starting, **you need to know**:\n",
        "* Python\n",
        "* Keras/TF\n",
        "* Deep Neural Networks\n",
        "* **Recurrent Neural Network concepts**\n",
        "* **LSTM** parameters and outputs\n",
        "* Keras Functional API\n",
        "\n",
        "If you would like to refresh your knowledge about above topics please check Murat Karakaya Akademi resources on [YouTube](https://www.youtube.com/channel/UCrCxCxTFL2ytaDrDYrN4_eA/playlists?view=1&flow=grid) / [Medium](https://medium.com/@kmkarakaya) / COLAB \n"
      ]
    },
    {
      "cell_type": "markdown",
      "metadata": {
        "id": "q6srddJhWJkR"
      },
      "source": [
        "# PART B: Using LSTM layer in a Recurrent Neural Network \n",
        "\n",
        "In Part A, we observed that **Multi-Layer Perceptron (MLP)** does not perform well. Actually MLP is **not able to learn** Seq2Seq Learning.\n",
        "The main reason is that MLP pays attention all its inputs *equally* and is **not aware of** *time dimensionality* of the input-output relation. \n",
        "Thus, MLP **can not relate** input with output understanding the **sequence order** (***time dimension***)\n",
        "\n",
        "Therefore, in this part, we will create several models using **Recurrent Neural Networks (RNNs)**. In Keras, we have  3 kinds of implementation of RNNs. I opt out using **LSTM**.\n",
        "\n"
      ]
    },
    {
      "cell_type": "markdown",
      "metadata": {
        "id": "XpvgfugVSZSR"
      },
      "source": [
        "## Quick LSTM reminder:\n",
        "\n",
        "LSTM has 3 important parameters (for the time being!)\n",
        "\n",
        "* **units**: Positive integer, dimensionality of the output space\n",
        "* **return_sequences**: Boolean, whether to return the last output. in the output sequence, or the full sequence. Default: False.\n",
        "* **return_state**: Boolean, whether to return the last state in addition to the output. Default: False.\n",
        "\n",
        "The first parameter (**units**) indicates the **dimension** of the **output** vector/matrix.\n",
        "\n",
        "The last 2 parameters (**return_sequences** and **return_state**) determines **what** the LSTM layer outputs.\n",
        "LSTM can return 4 different sets of results/states according to the given parameters:\n",
        "\n",
        "\n",
        "1.   **Default:** Last Hidden State  (Hidden State of the last time step)\n",
        "2.   **return_sequences=True :** All Hidden States (Hidden State of ALL the time steps)\n",
        "3.   **return_state=True     :** Last Hidden State+ Last Hidden State (again!) + Last Cell State (Cell State of the last time step)\n",
        "4. **return_sequences=True + return_state=True:** All Hidden States (Hidden State of ALL the time steps) + Last Hidden State  + Last Cell State (Cell State of the last time step)\n",
        "\n",
        "\n",
        "Using these 4 different results/states we can stack  LSTM layers in various ways\n",
        "\n",
        "\n",
        "\n",
        "\n",
        "\n",
        "\n",
        "**IMPORTANT:** If you are **not familiar with LSTM**, you would like to consider refreshing your knowledge by watching / reading below resources:\n",
        "\n",
        "**Videos:**\n",
        "* [LSTM: From A Programmer's Perspective](https://youtu.be/7nnSjZBJVDs)\n",
        "\n",
        "**Notebooks**:\n",
        "* [LSTM: From A Programmer's Perspective](https://colab.research.google.com/drive/1kG5pUczEtqdDtMHiNL-mvgTi-5-Y058t?usp=sharing)\n",
        "* [LSTM: Understanding Output Types](https://colab.research.google.com/drive/1nUazJkXcRZi-XiXCr6sEgCy2Z5Mhze1n?usp=sharing)\n",
        "\n",
        "* [LSTM: Understanding Number of Parameters](https://colab.research.google.com/drive/1Wd5340XLy-MC3YJPh3MkDnbGQ4JSnFwp?usp=sharing)\n",
        "\n",
        "\n"
      ]
    },
    {
      "cell_type": "code",
      "metadata": {
        "id": "kCX0gk-twJ26",
        "cellView": "form",
        "colab": {
          "base_uri": "https://localhost:8080/",
          "height": 35
        },
        "outputId": "7568009c-1570-4626-b6e7-454cd379615e"
      },
      "source": [
        "\n",
        "numberOfUnits=16#@param {type:\"integer\"}\n"
      ],
      "execution_count": null,
      "outputs": [
        {
          "output_type": "stream",
          "text": [
            "time: 917 µs\n"
          ],
          "name": "stdout"
        }
      ]
    },
    {
      "cell_type": "markdown",
      "metadata": {
        "id": "X6dxDAMwC41m"
      },
      "source": [
        "## 1. LSTM with default output: \n",
        "* **Last Hidden State** (Hidden State of the last time step) \n",
        "* The **size** of the output vector will be as **numberOfUnits (16)**\n"
      ]
    },
    {
      "cell_type": "markdown",
      "metadata": {
        "id": "G9inOx7zF0I2"
      },
      "source": [
        "### Let's begin with a model using **Single** LSTM Layer \n",
        "I will use **Keras Sequential API** for the sake of simplicity.\n",
        "However, in the next part of the tutorial I will be using **Keras Functional API**\n",
        "\n",
        "In the model, I use **RepeatVector** layer. This layer simply repeats the input **n times**. Here I make a **copy** of LSTM output as the number of ***n_timesteps*** so that Dense layer can have an output shape of (batch_size, 4, 10)! "
      ]
    },
    {
      "cell_type": "code",
      "metadata": {
        "id": "rU4Kw5tPF-v4",
        "colab": {
          "base_uri": "https://localhost:8080/",
          "height": 277
        },
        "outputId": "910f62bd-3a01-41eb-b447-a362cb27ef1b"
      },
      "source": [
        "model_Single_LSTM_default_output = Sequential(name='model_Single_LSTM_default_output')\n",
        "model_Single_LSTM_default_output.add(Input(shape=(n_timesteps, n_features)))\n",
        "\n",
        "# Single LSTM Layer with default output\n",
        "model_Single_LSTM_default_output.add(LSTM(numberOfUnits))\n",
        "# Repeat the output of LSTM n_timesteps (4 in our example)\n",
        "model_Single_LSTM_default_output.add(RepeatVector(n_timesteps))\n",
        "# Dense layer recieves 4 x LSTM outputs as input vector\n",
        "model_Single_LSTM_default_output.add(Dense(n_features, activation='softmax'))\n",
        "\n",
        "\n",
        "model_Single_LSTM_default_output.compile(loss='categorical_crossentropy', optimizer='adam', \n",
        "              metrics=['accuracy'])\n",
        "model_Single_LSTM_default_output.summary()"
      ],
      "execution_count": null,
      "outputs": [
        {
          "output_type": "stream",
          "text": [
            "Model: \"model_Single_LSTM_default_output\"\n",
            "_________________________________________________________________\n",
            "Layer (type)                 Output Shape              Param #   \n",
            "=================================================================\n",
            "lstm_10 (LSTM)               (None, 16)                1728      \n",
            "_________________________________________________________________\n",
            "repeat_vector_5 (RepeatVecto (None, 4, 16)             0         \n",
            "_________________________________________________________________\n",
            "dense_6 (Dense)              (None, 4, 10)             170       \n",
            "=================================================================\n",
            "Total params: 1,898\n",
            "Trainable params: 1,898\n",
            "Non-trainable params: 0\n",
            "_________________________________________________________________\n",
            "time: 357 ms\n"
          ],
          "name": "stdout"
        }
      ]
    },
    {
      "cell_type": "markdown",
      "metadata": {
        "id": "lTLQ-NvL4l8w"
      },
      "source": [
        "We can run the compiled model with using the auxiliary function \"**train_test()**\" that I prepared for caring training and testing of a given model with Early Stopping mechanism. \n",
        "\n",
        "**IMPORTANT**: You can access and run [the full code on Colab](https://colab.research.google.com/drive/1DBaHgsoPJCoj8SXAqNqQtKqAtwrUc4qS?usp=sharing)."
      ]
    },
    {
      "cell_type": "code",
      "metadata": {
        "id": "AMB2lJaMG8uh",
        "colab": {
          "base_uri": "https://localhost:8080/",
          "height": 868
        },
        "outputId": "cf8de58f-ac81-4e00-ab92-7fe0c888cd72"
      },
      "source": [
        "train_test(model_Single_LSTM_default_output, \n",
        "           X_train, y_train , X_test, y_test, \n",
        "           verbose=0)"
      ],
      "execution_count": null,
      "outputs": [
        {
          "output_type": "stream",
          "text": [
            "training for  100  epochs begins with  EarlyStopping(monitor= val_loss   patience= 5 )....\n",
            "100  epoch training finished...\n",
            "\n",
            "PREDICTION ACCURACY (%):\n",
            "Train: 38.063, Test: 39.125\n"
          ],
          "name": "stdout"
        },
        {
          "output_type": "display_data",
          "data": {
            "image/png": "[encoded data removed]",
            "text/plain": [
              "<Figure size 432x288 with 1 Axes>"
            ]
          },
          "metadata": {
            "tags": [],
            "needs_background": "light"
          }
        },
        {
          "output_type": "display_data",
          "data": {
            "image/png": "[encoded data removed]",
            "text/plain": [
              "<Figure size 432x288 with 1 Axes>"
            ]
          },
          "metadata": {
            "tags": [],
            "needs_background": "light"
          }
        },
        {
          "output_type": "stream",
          "text": [
            "some examples...\n",
            "Input [0, 6, 2, 5] Expected: [5, 2, 6, 0] Predicted [2, 2, 2, 2]  False\n",
            "Input [3, 2, 1, 2] Expected: [2, 1, 2, 3] Predicted [2, 2, 2, 2]  False\n",
            "Input [0, 1, 3, 1] Expected: [1, 3, 1, 0] Predicted [1, 1, 1, 1]  False\n",
            "Input [0, 5, 9, 9] Expected: [9, 9, 5, 0] Predicted [9, 9, 9, 9]  False\n",
            "Input [3, 6, 2, 9] Expected: [9, 2, 6, 3] Predicted [3, 3, 3, 3]  False\n",
            "Input [6, 2, 9, 8] Expected: [8, 9, 2, 6] Predicted [8, 8, 8, 8]  False\n",
            "Input [4, 8, 6, 5] Expected: [5, 6, 8, 4] Predicted [5, 5, 5, 5]  False\n",
            "Input [2, 0, 7, 1] Expected: [1, 7, 0, 2] Predicted [1, 1, 1, 1]  False\n",
            "Input [8, 8, 8, 2] Expected: [2, 8, 8, 8] Predicted [8, 8, 8, 8]  False\n",
            "Input [9, 9, 4, 6] Expected: [6, 4, 9, 9] Predicted [9, 9, 9, 9]  False\n",
            "time: 34 s\n"
          ],
          "name": "stdout"
        }
      ]
    },
    {
      "cell_type": "markdown",
      "metadata": {
        "id": "Mja9G7d65n2C"
      },
      "source": [
        "**Observation**: PREDICTION ACCURACY is below 40% for even train data. Thus we need to **improve** this model by increasing its learning **capacity**.  "
      ]
    },
    {
      "cell_type": "markdown",
      "metadata": {
        "id": "a80xx7UuJY70"
      },
      "source": [
        "**Note**: In order to increment a model capacity & improve accuracy, ***in general***, we could increment\n",
        "* number of units\n",
        "*  number of layers\n",
        "*  number of epochs\n",
        "*  number of training samples\n",
        "\n",
        "We can try all of them on above model.\n",
        "\n",
        "For example we **incremented** the LSTM ***unit***, and noted the result below \n",
        "\n",
        "PREDICTION ACCURACY AT TEST DATA (%):\n",
        " * LSTM unit number **16**: 39.125\n",
        " * LSTM unit number **32**: 39.125\n",
        " * LSTM unit number **64**: 39.125\n",
        "\n",
        "\n",
        "However, incrementing the LSTM unit number does not help!\n",
        "\n",
        "Let's increment the **number of LSTM layers**\n"
      ]
    },
    {
      "cell_type": "markdown",
      "metadata": {
        "id": "8Eoot1gcMCMM"
      },
      "source": [
        "### Let's continue with a model using **Multiple** LSTM Layers\n",
        "* As discussed above, LSTM layer can return 4 different sets of outputs.\n",
        "* We will begin with a model containing multiple LSTM layer which are ***connected to each other*** by **default output** (last hidden states)\n",
        "* That is, the **default output** (last hidden states) of the first LSTM layer is supplied to the next LSTM layer as **inputs**!"
      ]
    },
    {
      "cell_type": "code",
      "metadata": {
        "id": "oYDx2iD6HyzW",
        "cellView": "code",
        "colab": {
          "base_uri": "https://localhost:8080/",
          "height": 347
        },
        "outputId": "f8f0cf31-eb27-4008-82fc-51d458793107"
      },
      "source": [
        "model_LSTM_default_output = Sequential(name='model_LSTM_default_output')\n",
        "model_LSTM_default_output.add(Input(shape=(n_timesteps, n_features)))\n",
        "\n",
        "# First LSTM layer\n",
        "model_LSTM_default_output.add(LSTM(numberOfUnits))\n",
        "\n",
        "# Repeat the output of the first LSTM n_timesteps (4 in our example)\n",
        "model_LSTM_default_output.add(RepeatVector(n_timesteps))\n",
        "\n",
        "# Second LSTM layer recieves 4 x LSTM outputs as input vector\n",
        "# Reminder LSTM layer requires 3 dimension input! \n",
        "# (batch_size, timesteps, features)\n",
        "# Therefore, we repeated the output of First LSTM layer\n",
        "model_LSTM_default_output.add(LSTM(numberOfUnits))\n",
        "\n",
        "\n",
        "model_LSTM_default_output.add(RepeatVector(n_timesteps))\n",
        "\n",
        "# Repeat the output of Second LSTM n_timesteps (4 in our example)\n",
        "# Dense layer recieves 4 x LSTM outputs as input vector\n",
        "model_LSTM_default_output.add(Dense(n_features, activation='softmax'))\n",
        "\n",
        "\n",
        "model_LSTM_default_output.compile(loss='categorical_crossentropy', optimizer='adam', \n",
        "              metrics=['accuracy'])\n",
        "model_LSTM_default_output.summary()"
      ],
      "execution_count": null,
      "outputs": [
        {
          "output_type": "stream",
          "text": [
            "Model: \"model_LSTM_default_output\"\n",
            "_________________________________________________________________\n",
            "Layer (type)                 Output Shape              Param #   \n",
            "=================================================================\n",
            "lstm_1 (LSTM)                (None, 16)                1728      \n",
            "_________________________________________________________________\n",
            "repeat_vector_1 (RepeatVecto (None, 4, 16)             0         \n",
            "_________________________________________________________________\n",
            "lstm_2 (LSTM)                (None, 16)                2112      \n",
            "_________________________________________________________________\n",
            "repeat_vector_2 (RepeatVecto (None, 4, 16)             0         \n",
            "_________________________________________________________________\n",
            "dense_1 (Dense)              (None, 4, 10)             170       \n",
            "=================================================================\n",
            "Total params: 4,010\n",
            "Trainable params: 4,010\n",
            "Non-trainable params: 0\n",
            "_________________________________________________________________\n",
            "time: 632 ms\n"
          ],
          "name": "stdout"
        }
      ]
    },
    {
      "cell_type": "markdown",
      "metadata": {
        "id": "qD7Xl_eR9FhY"
      },
      "source": [
        "We can train & test the **multi-layer** LSTM model using **default output** now:"
      ]
    },
    {
      "cell_type": "code",
      "metadata": {
        "id": "Ejquye6AG5O9",
        "colab": {
          "base_uri": "https://localhost:8080/",
          "height": 868
        },
        "outputId": "74020bfe-baed-4418-a15a-79d0f64a3934"
      },
      "source": [
        "train_test(model_LSTM_default_output, X_train, y_train , X_test, y_test, verbose=0)"
      ],
      "execution_count": null,
      "outputs": [
        {
          "output_type": "stream",
          "text": [
            "training for  100  epochs begins with  EarlyStopping(monitor= val_loss   patience= 5 )....\n",
            "100  epoch training finished...\n",
            "\n",
            "PREDICTION ACCURACY (%):\n",
            "Train: 38.087, Test: 39.125\n"
          ],
          "name": "stdout"
        },
        {
          "output_type": "display_data",
          "data": {
            "image/png": "[encoded data removed]",
            "text/plain": [
              "<Figure size 432x288 with 1 Axes>"
            ]
          },
          "metadata": {
            "tags": [],
            "needs_background": "light"
          }
        },
        {
          "output_type": "display_data",
          "data": {
            "image/png": "[encoded data removed]",
            "text/plain": [
              "<Figure size 432x288 with 1 Axes>"
            ]
          },
          "metadata": {
            "tags": [],
            "needs_background": "light"
          }
        },
        {
          "output_type": "stream",
          "text": [
            "some examples...\n",
            "Input [3, 1, 1, 1] Expected: [1, 1, 1, 3] Predicted [1, 1, 1, 1]  False\n",
            "Input [6, 6, 2, 1] Expected: [1, 2, 6, 6] Predicted [6, 6, 6, 6]  False\n",
            "Input [2, 4, 6, 3] Expected: [3, 6, 4, 2] Predicted [4, 4, 4, 4]  False\n",
            "Input [4, 2, 7, 6] Expected: [6, 7, 2, 4] Predicted [6, 6, 6, 6]  False\n",
            "Input [3, 1, 0, 8] Expected: [8, 0, 1, 3] Predicted [1, 1, 1, 1]  False\n",
            "Input [6, 2, 6, 1] Expected: [1, 6, 2, 6] Predicted [6, 6, 6, 6]  False\n",
            "Input [0, 6, 5, 6] Expected: [6, 5, 6, 0] Predicted [6, 6, 6, 6]  False\n",
            "Input [8, 5, 4, 6] Expected: [6, 4, 5, 8] Predicted [4, 4, 4, 4]  False\n",
            "Input [8, 6, 8, 3] Expected: [3, 8, 6, 8] Predicted [8, 8, 8, 8]  False\n",
            "Input [2, 5, 9, 2] Expected: [2, 9, 5, 2] Predicted [2, 2, 2, 2]  False\n",
            "time: 46.7 s\n"
          ],
          "name": "stdout"
        }
      ]
    },
    {
      "cell_type": "markdown",
      "metadata": {
        "id": "I6ddjYpON6w4"
      },
      "source": [
        "**Observation**: PREDICTION ACCURACY AT TEST DATA (%) has not changed at all!\n",
        "\n",
        "Before trying to increse the capacity of this model, we can use **other ways of connecting** LSTM layers as follows:"
      ]
    },
    {
      "cell_type": "markdown",
      "metadata": {
        "id": "jvln2KsWOifV"
      },
      "source": [
        "## 2. A model containing  **Multiple** LSTM Layers by connecting them with **return_sequences=True** output\n",
        "* As discussed above, LSTM layer can return 4 different sets of outputs.\n",
        "* In the last model, we used the **default output** to connect 2 LSTM layers\n",
        "* As a second option, we will create a model containing multiple LSTM layer which are ***connected to each other*** by **return_sequences=True output** (***all hidden states at each timesteps***)\n",
        "* That is, the **all hidden states**  of the first LSTM layer is supplied to the next LSTM layer as **inputs**!\n",
        "* Moreover, we also let the second LSTM layer return **all hidden states** as input to **dense** layer\n",
        "* To connect the last LSTM layer with dense layer  we use **TimeDistributed** layer so that for **each timestep** of the second LSTM's output, dense layer will generate **one prediction**"
      ]
    },
    {
      "cell_type": "code",
      "metadata": {
        "cellView": "code",
        "id": "yxZ6Nrcuw90g",
        "colab": {
          "base_uri": "https://localhost:8080/",
          "height": 277
        },
        "outputId": "875b2566-b8ab-4c3c-8d09-968dd72d0594"
      },
      "source": [
        "#@title LSTM with return_sequences=True output\n",
        "\n",
        "model_LSTM_return_sequences = Sequential(name='model_LSTM_return_sequences')\n",
        "model_LSTM_return_sequences.add(Input(shape=(n_timesteps, n_features)))\n",
        "\n",
        "# First LSTM layer with return_sequences=True\n",
        "model_LSTM_return_sequences.add(LSTM(numberOfUnits,return_sequences=True))\n",
        "\n",
        "# The output of the First LSTM has the 3 dimensions as expected by\n",
        "# Second LSTM layer\n",
        "# Thus, we do not need to use RepeatVector!\n",
        "model_LSTM_return_sequences.add(LSTM(numberOfUnits,return_sequences=True))\n",
        "\n",
        "# The output of the Second LSTM has the 3 dimensions \n",
        "# To supply the output to a dense layer\n",
        "# we need to use TimeDistributed layer!\n",
        "model_LSTM_return_sequences.add(TimeDistributed(Dense(n_features, activation='softmax')))\n",
        "model_LSTM_return_sequences.compile(loss='categorical_crossentropy', optimizer='adam', \n",
        "              metrics=['accuracy'])\n",
        "model_LSTM_return_sequences.summary()"
      ],
      "execution_count": null,
      "outputs": [
        {
          "output_type": "stream",
          "text": [
            "Model: \"model_LSTM_return_sequences\"\n",
            "_________________________________________________________________\n",
            "Layer (type)                 Output Shape              Param #   \n",
            "=================================================================\n",
            "lstm_3 (LSTM)                (None, 4, 16)             1728      \n",
            "_________________________________________________________________\n",
            "lstm_4 (LSTM)                (None, 4, 16)             2112      \n",
            "_________________________________________________________________\n",
            "time_distributed (TimeDistri (None, 4, 10)             170       \n",
            "=================================================================\n",
            "Total params: 4,010\n",
            "Trainable params: 4,010\n",
            "Non-trainable params: 0\n",
            "_________________________________________________________________\n",
            "time: 643 ms\n"
          ],
          "name": "stdout"
        }
      ]
    },
    {
      "cell_type": "markdown",
      "metadata": {
        "id": "SzZzfsuq_ZrP"
      },
      "source": [
        "We can train & test the **multi-layer** LSTM model using **return_sequences=True** now:"
      ]
    },
    {
      "cell_type": "code",
      "metadata": {
        "id": "D_daMF1N5XGU",
        "colab": {
          "base_uri": "https://localhost:8080/",
          "height": 868
        },
        "outputId": "714bdd4e-168f-4dca-ac9a-c9861a296709"
      },
      "source": [
        "train_test(model_LSTM_return_sequences, X_train, y_train , X_test, \ty_test)"
      ],
      "execution_count": null,
      "outputs": [
        {
          "output_type": "stream",
          "text": [
            "training for  100  epochs begins with  EarlyStopping(monitor= val_loss   patience= 5 )....\n",
            "100  epoch training finished...\n",
            "\n",
            "PREDICTION ACCURACY (%):\n",
            "Train: 55.225, Test: 56.250\n"
          ],
          "name": "stdout"
        },
        {
          "output_type": "display_data",
          "data": {
            "image/png": "[encoded data removed]",
            "text/plain": [
              "<Figure size 432x288 with 1 Axes>"
            ]
          },
          "metadata": {
            "tags": [],
            "needs_background": "light"
          }
        },
        {
          "output_type": "display_data",
          "data": {
            "image/png": "[encoded data removed]",
            "text/plain": [
              "<Figure size 432x288 with 1 Axes>"
            ]
          },
          "metadata": {
            "tags": [],
            "needs_background": "light"
          }
        },
        {
          "output_type": "stream",
          "text": [
            "some examples...\n",
            "Input [9, 4, 9, 0] Expected: [0, 9, 4, 9] Predicted [8, 4, 4, 9]  False\n",
            "Input [0, 1, 4, 2] Expected: [2, 4, 1, 0] Predicted [3, 1, 1, 0]  False\n",
            "Input [4, 1, 6, 5] Expected: [5, 6, 1, 4] Predicted [3, 1, 1, 4]  False\n",
            "Input [4, 2, 5, 9] Expected: [9, 5, 2, 4] Predicted [3, 2, 2, 4]  False\n",
            "Input [6, 7, 9, 6] Expected: [6, 9, 7, 6] Predicted [6, 7, 7, 6]  False\n",
            "Input [8, 7, 2, 0] Expected: [0, 2, 7, 8] Predicted [8, 7, 7, 8]  False\n",
            "Input [5, 1, 2, 2] Expected: [2, 2, 1, 5] Predicted [5, 5, 1, 5]  False\n",
            "Input [1, 3, 4, 2] Expected: [2, 4, 3, 1] Predicted [5, 3, 3, 1]  False\n",
            "Input [0, 9, 3, 0] Expected: [0, 3, 9, 0] Predicted [3, 9, 9, 0]  False\n",
            "Input [4, 0, 6, 4] Expected: [4, 6, 0, 4] Predicted [3, 0, 0, 4]  False\n",
            "time: 40.1 s\n"
          ],
          "name": "stdout"
        }
      ]
    },
    {
      "cell_type": "markdown",
      "metadata": {
        "id": "G4PS14ZgQciE"
      },
      "source": [
        "**Observations**: \n",
        "* PREDICTION ACCURACY AT TEST DATA (%) has improved \n",
        "from ***39*** to **56**\n",
        "\n",
        "* This observation indicates that **how to connect multiple LSTM layers are important**.\n",
        "\n",
        "* If we compare the latest model with the previous model it is clear that we are exchanging **more information** between LSTM layers and also with Dense layers. \n",
        "\n",
        "* **Even the parameter numbers are equal!**\n",
        "\n",
        "* In the previous model, we have **16 distinct numbers** as the output of the LSTM, on the other hand, in the latest model we have **64 (4*16)  distinct numbers**. \n",
        "\n",
        "* Remember in the first model we **replicate** 16 numbers by 4 times using **RepeatVector** layer!\n",
        " \n",
        "Let's continue trying **other ways of connecting** LSTM layers as follows:"
      ]
    },
    {
      "cell_type": "markdown",
      "metadata": {
        "id": "QeRbYWSITGGe"
      },
      "source": [
        "## 3. A model containing  **Multiple** LSTM Layers by connecting them with **return_state=True** output\n",
        "* As discussed above, LSTM layer can return 4 different sets of outputs.\n",
        "* As a **third** option, a model containing multiple LSTM layer which are ***connected to each other*** by **return_state=True output** (last hidden **cell** states)\n",
        "* Remember that when **return_state=True** LSTM layer will return 3 arrays of real numbers: \n",
        "1. LSTM_output (Last Hidden State)\n",
        "2. Last Hidden State (again!) \n",
        "3. Last Cell State (Cell State of the last time step)\n",
        "\n",
        "* So far we use ***Keras Sequentia API*** to create the models.\n",
        "* But \"**All layers in a Sequential model should have a single output tensor!**\"\n",
        "* For multi-output layers such as LSTM layer with **return_state=True**, we need to use the ***Keras functional API***!\n",
        "* Before continue you would like to **refresh your knowledge** about the Keras functional API which will help you follow the rest of the tutorial \n",
        "\n",
        "* **Please note that**, we use **2nd and 3rd** outputs of the **First** LSTM layer to **initialize** the **next** LSTM layer's state = [Last Hidden State + Last Cell State]. Thus, the Second LSTM layer starts with the last state of the First LSTM layer\n",
        "\n",
        "* As an input for the next LSTM layer, we can use the 1st output [LSTM_output (Last Hidden State)] but since it is **2D [batchsize,  features]** and LSTM layer requires **3D [batchsize, timesteps, features]** input, we need to **repeat** it by *timesteps*\n"
      ]
    },
    {
      "cell_type": "code",
      "metadata": {
        "cellView": "code",
        "id": "J3wWQSDd9IWC",
        "colab": {
          "base_uri": "https://localhost:8080/",
          "height": 381
        },
        "outputId": "a97acfb1-249c-4158-938b-698eab262e70"
      },
      "source": [
        "#@title LSTM with return_state=True output\n",
        "input= Input(shape=(n_timesteps, n_features))\n",
        "\n",
        "lstm1 = LSTM(numberOfUnits,return_state=True)\n",
        "LSTM_output, state_h, state_c = lstm1(input) \n",
        "states = [state_h, state_c]\n",
        "\n",
        "repeat=RepeatVector(n_timesteps)\n",
        "LSTM_output = repeat(LSTM_output)\n",
        "\n",
        "lstm2 = LSTM(numberOfUnits,return_sequences=True)\n",
        "all_state_h = lstm2(LSTM_output,initial_state=states)\n",
        "\n",
        "dense = TimeDistributed(Dense(n_features, activation='softmax'))\n",
        "output = dense(all_state_h)\n",
        "model_LSTM_return_state = Model(input,output,name='model_LSTM_return_state')\n",
        "model_LSTM_return_state.compile(loss='categorical_crossentropy', optimizer='adam', \n",
        "              metrics=['accuracy'])\n",
        "model_LSTM_return_state.summary()"
      ],
      "execution_count": null,
      "outputs": [
        {
          "output_type": "stream",
          "text": [
            "Model: \"model_LSTM_return_state\"\n",
            "__________________________________________________________________________________________________\n",
            "Layer (type)                    Output Shape         Param #     Connected to                     \n",
            "==================================================================================================\n",
            "input_4 (InputLayer)            [(None, 4, 10)]      0                                            \n",
            "__________________________________________________________________________________________________\n",
            "lstm_5 (LSTM)                   [(None, 16), (None,  1728        input_4[0][0]                    \n",
            "__________________________________________________________________________________________________\n",
            "repeat_vector_3 (RepeatVector)  (None, 4, 16)        0           lstm_5[0][0]                     \n",
            "__________________________________________________________________________________________________\n",
            "lstm_6 (LSTM)                   (None, 4, 16)        2112        repeat_vector_3[0][0]            \n",
            "                                                                 lstm_5[0][1]                     \n",
            "                                                                 lstm_5[0][2]                     \n",
            "__________________________________________________________________________________________________\n",
            "time_distributed_1 (TimeDistrib (None, 4, 10)        170         lstm_6[0][0]                     \n",
            "==================================================================================================\n",
            "Total params: 4,010\n",
            "Trainable params: 4,010\n",
            "Non-trainable params: 0\n",
            "__________________________________________________________________________________________________\n",
            "time: 603 ms\n"
          ],
          "name": "stdout"
        }
      ]
    },
    {
      "cell_type": "markdown",
      "metadata": {
        "id": "XMs0r_s1AVn4"
      },
      "source": [
        "We can train & test the **multi-layer** LSTM model using **return_state=True** now:"
      ]
    },
    {
      "cell_type": "code",
      "metadata": {
        "id": "IGVlhjxv9dYs",
        "colab": {
          "base_uri": "https://localhost:8080/",
          "height": 868
        },
        "outputId": "009162a6-5325-458b-df55-bd51102e25b8"
      },
      "source": [
        "train_test(model_LSTM_return_state, X_train, y_train , X_test, \ty_test)"
      ],
      "execution_count": null,
      "outputs": [
        {
          "output_type": "stream",
          "text": [
            "training for  100  epochs begins with  EarlyStopping(monitor= val_loss   patience= 5 )....\n",
            "100  epoch training finished...\n",
            "\n",
            "PREDICTION ACCURACY (%):\n",
            "Train: 93.988, Test: 89.500\n"
          ],
          "name": "stdout"
        },
        {
          "output_type": "display_data",
          "data": {
            "image/png": "[encoded data removed]",
            "text/plain": [
              "<Figure size 432x288 with 1 Axes>"
            ]
          },
          "metadata": {
            "tags": [],
            "needs_background": "light"
          }
        },
        {
          "output_type": "display_data",
          "data": {
            "image/png": "[encoded data removed]",
            "text/plain": [
              "<Figure size 432x288 with 1 Axes>"
            ]
          },
          "metadata": {
            "tags": [],
            "needs_background": "light"
          }
        },
        {
          "output_type": "stream",
          "text": [
            "some examples...\n",
            "Input [7, 2, 4, 1] Expected: [1, 4, 2, 7] Predicted [1, 4, 2, 7]  True\n",
            "Input [5, 0, 0, 9] Expected: [9, 0, 0, 5] Predicted [9, 0, 0, 5]  True\n",
            "Input [2, 3, 9, 4] Expected: [4, 9, 3, 2] Predicted [4, 9, 3, 2]  True\n",
            "Input [9, 5, 9, 0] Expected: [0, 9, 5, 9] Predicted [0, 9, 9, 9]  False\n",
            "Input [6, 3, 7, 0] Expected: [0, 7, 3, 6] Predicted [0, 7, 6, 6]  False\n",
            "Input [9, 1, 5, 9] Expected: [9, 5, 1, 9] Predicted [9, 5, 1, 1]  False\n",
            "Input [0, 7, 9, 3] Expected: [3, 9, 7, 0] Predicted [3, 9, 7, 0]  True\n",
            "Input [1, 7, 1, 1] Expected: [1, 1, 7, 1] Predicted [1, 1, 1, 1]  False\n",
            "Input [7, 0, 7, 5] Expected: [5, 7, 0, 7] Predicted [5, 7, 0, 4]  False\n",
            "Input [7, 3, 0, 2] Expected: [2, 0, 3, 7] Predicted [2, 0, 3, 3]  False\n",
            "time: 40.8 s\n"
          ],
          "name": "stdout"
        }
      ]
    },
    {
      "cell_type": "markdown",
      "metadata": {
        "id": "hD59TNi7p7kX"
      },
      "source": [
        "**Observations**: \n",
        "* PREDICTION ACCURACY AT TEST DATA (%) has improved \n",
        "from **39** to **56** to **90**\n",
        "\n",
        "* Again this observation indicates that **how to connect** multiple LSTM layers is **important**.\n",
        "\n",
        "* If we compare the latest model with the previous models it is clear that we are exchanging **more information** between LSTM layers **even though the number of parameters  is same!**\n",
        "\n",
        "* **Note that** we do **not only** provide the output of previous LSTM layer to the next one, but we **also** provide the **last state of the previous LSTM** layer to the next LSTM layer as the **initial state**!\n",
        "\n",
        "* In the **previous models** we have **only provide inputs** to the next layer, on the other hand, in the **latest model** we have also provided **initial values for hidden and cell states **of the next LSTM layer as well! \n",
        "\n",
        "**Notice that** we still **replicate** the hidden states by 4 times using **RepeatVector** layer! \n",
        "\n",
        "In the next model, we will **change what we provide as input** to the next layer\n",
        " "
      ]
    },
    {
      "cell_type": "markdown",
      "metadata": {
        "id": "DlKz5RCxrw4c"
      },
      "source": [
        "## 4. A model containing  **Multiple** LSTM Layers by connecting them with **return_sequences=True & return_state=True** output\n",
        "* As discussed above, LSTM layer can return **4** different sets of outputs.\n",
        "* As the **last** option, a model containing multiple LSTM layer which are ***connected to each other*** by **return_sequences=True & return_state=True** \n",
        "* Remember that when **return_sequences=True & return_state=True**  LSTM layer will return **3 arrays** of real numbers: \n",
        "1. All Hidden States (Hidden State of ALL the time steps)\n",
        "2. Last Hidden State (Hidden State of the last time step)\n",
        "3. Last Cell State (Cell State of the last time step)\n",
        "\n",
        "\n",
        "* As an input for the next LSTM layer we can use the 1st output [All Hidden States] but since it is **3D [batchsize, timesteps, features]**  we do not need to use **RepeatVector** as we did above.\n",
        "\n",
        "* The second and the third outputs will be used as the initial states to the Second LSTM layer."
      ]
    },
    {
      "cell_type": "code",
      "metadata": {
        "id": "8GNhkcA8r_JM",
        "colab": {
          "base_uri": "https://localhost:8080/",
          "height": 347
        },
        "outputId": "60d5a70d-956e-4e46-91de-88c580b6c773"
      },
      "source": [
        "input= Input(shape=(n_timesteps, n_features))\n",
        "\n",
        "lstm1 = LSTM(numberOfUnits,return_sequences=True, return_state=True)\n",
        "all_state_h, state_h, state_c = lstm1(input) \n",
        "states = [state_h, state_c]\n",
        "\n",
        "lstm2 = LSTM(numberOfUnits,return_sequences=True)\n",
        "all_state_h = lstm2(all_state_h,initial_state=states)\n",
        "\n",
        "dense = TimeDistributed(Dense(n_features, activation='softmax'))\n",
        "output = dense(all_state_h)\n",
        "model_LSTM_return_sequences_return_state = Model(input,output,\n",
        "                                name='model_LSTM_all_state_h_return_state')\n",
        "model_LSTM_return_sequences_return_state.compile(loss='categorical_crossentropy', \n",
        "                                                 optimizer='adam',\n",
        "                                                 metrics=['accuracy'])\n",
        "model_LSTM_return_sequences_return_state.summary()"
      ],
      "execution_count": null,
      "outputs": [
        {
          "output_type": "stream",
          "text": [
            "Model: \"model_LSTM_all_state_h_return_state\"\n",
            "__________________________________________________________________________________________________\n",
            "Layer (type)                    Output Shape         Param #     Connected to                     \n",
            "==================================================================================================\n",
            "input_5 (InputLayer)            [(None, 4, 10)]      0                                            \n",
            "__________________________________________________________________________________________________\n",
            "lstm_7 (LSTM)                   [(None, 4, 16), (Non 1728        input_5[0][0]                    \n",
            "__________________________________________________________________________________________________\n",
            "lstm_8 (LSTM)                   (None, 4, 16)        2112        lstm_7[0][0]                     \n",
            "                                                                 lstm_7[0][1]                     \n",
            "                                                                 lstm_7[0][2]                     \n",
            "__________________________________________________________________________________________________\n",
            "time_distributed_2 (TimeDistrib (None, 4, 10)        170         lstm_8[0][0]                     \n",
            "==================================================================================================\n",
            "Total params: 4,010\n",
            "Trainable params: 4,010\n",
            "Non-trainable params: 0\n",
            "__________________________________________________________________________________________________\n",
            "time: 576 ms\n"
          ],
          "name": "stdout"
        }
      ]
    },
    {
      "cell_type": "code",
      "metadata": {
        "id": "R2C2iihktYgz",
        "colab": {
          "base_uri": "https://localhost:8080/",
          "height": 868
        },
        "outputId": "be078db4-53e2-4165-aa33-10b20240cb74"
      },
      "source": [
        "train_test(model_LSTM_return_sequences_return_state, X_train, y_train , X_test, \ty_test)"
      ],
      "execution_count": null,
      "outputs": [
        {
          "output_type": "stream",
          "text": [
            "training for  100  epochs begins with  EarlyStopping(monitor= val_loss   patience= 5 )....\n",
            "100  epoch training finished...\n",
            "\n",
            "PREDICTION ACCURACY (%):\n",
            "Train: 99.750, Test: 97.375\n"
          ],
          "name": "stdout"
        },
        {
          "output_type": "display_data",
          "data": {
            "image/png": "[encoded data removed]",
            "text/plain": [
              "<Figure size 432x288 with 1 Axes>"
            ]
          },
          "metadata": {
            "tags": [],
            "needs_background": "light"
          }
        },
        {
          "output_type": "display_data",
          "data": {
            "image/png": "[encoded data removed]",
            "text/plain": [
              "<Figure size 432x288 with 1 Axes>"
            ]
          },
          "metadata": {
            "tags": [],
            "needs_background": "light"
          }
        },
        {
          "output_type": "stream",
          "text": [
            "some examples...\n",
            "Input [2, 7, 1, 1] Expected: [1, 1, 7, 2] Predicted [1, 1, 7, 2]  True\n",
            "Input [4, 4, 5, 3] Expected: [3, 5, 4, 4] Predicted [3, 5, 4, 4]  True\n",
            "Input [1, 7, 9, 7] Expected: [7, 9, 7, 1] Predicted [7, 9, 7, 1]  True\n",
            "Input [7, 5, 1, 3] Expected: [3, 1, 5, 7] Predicted [3, 1, 5, 7]  True\n",
            "Input [0, 6, 9, 0] Expected: [0, 9, 6, 0] Predicted [0, 9, 6, 0]  True\n",
            "Input [0, 5, 7, 4] Expected: [4, 7, 5, 0] Predicted [4, 7, 5, 0]  True\n",
            "Input [5, 2, 3, 1] Expected: [1, 3, 2, 5] Predicted [1, 3, 2, 5]  True\n",
            "Input [8, 9, 0, 6] Expected: [6, 0, 9, 8] Predicted [6, 8, 9, 8]  False\n",
            "Input [1, 9, 8, 4] Expected: [4, 8, 9, 1] Predicted [4, 8, 9, 1]  True\n",
            "Input [8, 4, 5, 0] Expected: [0, 5, 4, 8] Predicted [0, 5, 4, 8]  True\n",
            "time: 39 s\n"
          ],
          "name": "stdout"
        }
      ]
    },
    {
      "cell_type": "markdown",
      "metadata": {
        "id": "R9eVdI1w6iYN"
      },
      "source": [
        "**NOTES**: \n",
        "* PREDICTION ACCURACY AT TEST DATA (%) has improved (previous models: **39** **56** to **90**) to **97**\n",
        "\n",
        "* Again this observation indicates that **how to connect** multiple LSTM layers is **important**.\n",
        "\n",
        "* If we compare the latest model with the previous models it is clear that we are exchanging **more information** between LSTM layers **even though the number of parameters  is same!**\n",
        "\n",
        "In the **latest model**, we have  provided \n",
        "* previous LSTM's **last hidden and cell states** as **initial values** to the next LSTM layer's hidden and cell states \n",
        "*  previous LSTM's **all hidden states as inputs**  to the next LSTM layer\n",
        "\n",
        "In other words, **Second LSTM layer**:\n",
        "* **starts** to operate with last hidden states and cell states of the First LSTM layer\n",
        "*  **consumes** the First LSTM layer's all hidden states to produce the output\n",
        "\n",
        "As a result, during training, \n",
        "*  Second LSTM layer is conditioned to produce expected outputs given the  First LSTM layer's outputs.\n",
        "* First LSTM layer is conditioned to produce such outputs that Second LSTM layer would be successful in prediction.\n",
        "\n",
        "Thus:\n",
        "\n",
        "* We can argue that ***First LSTM layer encodes the input (X)*** in a represantation  that ***Second LSTM layer can decode*** it to produce the expected output (y)\n",
        "\n",
        "* The encoded represantation of the input (X) in the last model is composed of the all hidden states + last hidden + cell states\n",
        "\n",
        "* That is the **context vector** is [all hidden states + last hidden + cell states] of the First LSTM layer\n",
        "\n",
        "* The **First LSTM layer is called as Encoder** whereas the **Second LSTM layer  is called as Decoder**\n",
        "\n",
        "* We can use more LSTM layers to construct Encoder or Decoder as well\n",
        "\n",
        "\n",
        "\n",
        " "
      ]
    },
    {
      "cell_type": "markdown",
      "metadata": {
        "id": "skjf80lFqGdF"
      },
      "source": [
        "## Obervations:\n",
        "* Last model seems to be succesful\n",
        "* When n_timesteps is **4** Last model  is able to achive **97.3%** accuracy\n",
        "* What if we set n_timesteps to **8**?\n",
        "* What if we set n_timesteps to **16**?\n",
        "\n",
        "\n"
      ]
    },
    {
      "cell_type": "markdown",
      "metadata": {
        "id": "f9dE7_iGZ_Fr"
      },
      "source": [
        "## PREDICTION ACCURACY AT TEST DATA (%) FOR **4 MODELS** (100 Epochs 16 LSTM Cells) WITH **INCREASING INPUT TIMESTEPS**\n",
        "\n",
        "Sequence Size=4\n",
        " * **38.625** - **54.875** -  **91.625** - **97.250**\n",
        "\n",
        "Sequence Size=8\n",
        " * **29.625** - **34.688** -  **50.375** - **56.437**\n",
        "\n",
        "Sequence Size=16\n",
        " * **23.344** - **23.281** -  **33.344** - **37.469**\n",
        "\n",
        "All the models ***degrade*** their performance when we request them to deal with **longer sequences**!\n"
      ]
    },
    {
      "cell_type": "markdown",
      "metadata": {
        "id": "3aDpCM5RiGVI"
      },
      "source": [
        "### How to handle longer sequences? \n",
        "**Generic** Solution in ANN: Increment the model capacity!\n",
        "\n",
        "In order to increment a model capacity & improve accuracy, we could\n",
        "* increment number of units\n",
        "* increment number of layers\n",
        "* increment number of epochs\n",
        "* increment number of training samples\n",
        "\n",
        "However, even the length of the input sequence is increased a little bit (e.g. from 4 to 8), the model **can not catch up with** it to provide similar accuracy applying all above measures!\n",
        "\n",
        "For example: when sequence size is 16, **doubling the LSTM cell numbers** to 32, last model performance **improves only  10%** (from 37.469% to 47.219%)\n"
      ]
    },
    {
      "cell_type": "markdown",
      "metadata": {
        "id": "mtRh1I2ho2_H"
      },
      "source": [
        "## CONCLUSIONS:\n",
        "* LSTM cells and layers are designed to capture sequential relations\n",
        "* Best result is achived with **LSTM layer using return_sequences & return_sate are True** \n",
        "* In general, using LSTM layers in a simple Feed Forward Neural Network model **does NOT accomplish** a scalable accurate solution\n",
        "* LSTM layers **could NOT handle-remember-relate** ***longer*** sequences.\n",
        "\n",
        " "
      ]
    },
    {
      "cell_type": "markdown",
      "metadata": {
        "id": "9Sca1vTb5WLZ"
      },
      "source": [
        "### Moreover: Input or/and Output sequence length would be NOT fixed!\n",
        "* If we change the problem such that:\n",
        "output sequence is the inverse of the input sequence **and** **only consists of the first appereance of duplicated numbers**!\n",
        "\n",
        "**Ex:**\n",
        "* INPUT: [3,2,3,5,2]\n",
        "* OUTPUT: [2,5,3]\n",
        "\n",
        "**Notice that**: \n",
        "* output sequences do **NOT** have a **fixed** length!\n",
        "* output sequences **DO** have a **variable** length!\n",
        "\n",
        "NOTE: \n",
        "1. **Input sequence** length would also be **variable**\n",
        "2. Both  **Input and Output sequence** length could be **variable**!\n",
        "\n",
        "\n",
        "**Ex:**\n",
        "* Sentence Translation from language A to B\n",
        "* **Each sentece** in language A and B has varying number of words!\n",
        "\n",
        "**New Questions**:\n",
        "* How can you **create** a model to handle v**ariable-length** input/output?\n",
        "* How can you **train** such a model?"
      ]
    },
    {
      "cell_type": "markdown",
      "metadata": {
        "id": "nCra313WkAi4"
      },
      "source": [
        "## A MITIGATING SOLUTION FOR VARIABLE INPUT/OUTPUT\n",
        "\n",
        "* We can use **padding** -adding some special symbol (e.g. zero) **in front of** or **in the end of** each sequence such that all sequences has a equal length with the **maximum sequence length** in the dataset\n",
        "\n",
        "* There are many drawbacks of this solution. Few of them:\n",
        "1. **Waste** of space and computation power\n",
        "2. In real life, sometimes we do **NOT** know the the **maximum sequence length** \n",
        "3. In some applications, input sequence is **continuous** (e.g. speech recognition). Thus, you can **NOT** wait until the end of sequence to process ( ie padding) it!\n"
      ]
    },
    {
      "cell_type": "markdown",
      "metadata": {
        "id": "JLCQ4182a_7F"
      },
      "source": [
        "# A BETTER SOLUTION\n",
        "* We can change the model structure!\n",
        "* So far, we use a single model for training and inference\n",
        "* In the next part, we will focus on how to create such a model, namely a basic Encoder Decoder Model."
      ]
    },
    {
      "cell_type": "markdown",
      "metadata": {
        "id": "u-CwVS8nmlAG"
      },
      "source": [
        "# NEXT PART C: ENCODER DECODER ARCHITECTURE/DESIGN"
      ]
    }
  ]
}