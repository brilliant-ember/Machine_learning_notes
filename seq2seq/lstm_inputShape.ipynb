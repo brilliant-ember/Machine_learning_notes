{
 "cells": [
  {
   "cell_type": "markdown",
   "id": "420c84c8-109a-42bc-8b84-ac30cd885212",
   "metadata": {},
   "source": [
    "# inputting data to an LSTM\n",
    "\n",
    "The goal of this document is to show how to reshape our input to match the expections of an LSTM. "
   ]
  },
  {
   "cell_type": "code",
   "execution_count": 65,
   "id": "474c05ad-4d46-4687-9318-1c11cea913f0",
   "metadata": {},
   "outputs": [],
   "source": [
    "import numpy as np\n",
    "import tensorflow as tf\n",
    "from tensorflow.keras.models import Sequential\n",
    "from tensorflow.keras.layers import Dense, LSTM\n",
    "import tensorflow.keras as keras\n",
    "import helpers\n",
    "import time\n"
   ]
  },
  {
   "cell_type": "code",
   "execution_count": 29,
   "id": "2509c47d-b13a-4571-ae67-4dba0953e08a",
   "metadata": {},
   "outputs": [
    {
     "name": "stdout",
     "output_type": "stream",
     "text": [
      "is CUDA available: True\n",
      "Tensorflow version  2.6.0\n",
      "Keras version  2.6.0\n"
     ]
    }
   ],
   "source": [
    "helpers.check_gpu_tensorflow()"
   ]
  },
  {
   "cell_type": "code",
   "execution_count": 54,
   "id": "db3ef124-8888-4859-9f26-804ac7561256",
   "metadata": {},
   "outputs": [],
   "source": [
    "sequence_length = 3 # this sequence has a length of 3 so it has 3 timesteps\n",
    "num_sequences = 3000\n",
    "test_num = 500"
   ]
  },
  {
   "cell_type": "code",
   "execution_count": 50,
   "id": "8554448e-1ea0-48d8-85ac-1c8d7b603bb9",
   "metadata": {},
   "outputs": [
    {
     "name": "stdout",
     "output_type": "stream",
     "text": [
      "training_data: \n",
      " [[   0    1    2]\n",
      " [   1    2    3]\n",
      " [   2    3    4]\n",
      " ...\n",
      " [2997 2998 2999]\n",
      " [2998 2999 3000]\n",
      " [2999 3000 3001]]\n",
      "\n",
      "target_data: \n",
      " [[   2    3    4]\n",
      " [   3    4    5]\n",
      " [   4    5    6]\n",
      " ...\n",
      " [2999 3000 3001]\n",
      " [3000 3001 3002]\n",
      " [3001 3002 3003]]\n"
     ]
    }
   ],
   "source": [
    "data = [ [i+j for j in range(sequence_length)] for i in range(num_sequences) ]\n",
    "data = np.array(data)\n",
    "print(\"training_data: \\n\", data)\n",
    "\n",
    "offset = 1\n",
    "target = [ [i+j+1 for j in range(sequence_length)] for i in range(offset, num_sequences+offset)]\n",
    "target = np.array(target)\n",
    "print(\"\\ntarget_data: \\n\", target)"
   ]
  },
  {
   "cell_type": "code",
   "execution_count": 51,
   "id": "62271a99-a390-4a08-879a-d22b83272738",
   "metadata": {},
   "outputs": [
    {
     "name": "stdout",
     "output_type": "stream",
     "text": [
      "After normalization \n",
      "\n",
      "training_data: \n",
      " [[0.00000000e+00 3.33000333e-04 6.66000666e-04]\n",
      " [3.33000333e-04 6.66000666e-04 9.99000999e-04]\n",
      " [6.66000666e-04 9.99000999e-04 1.33200133e-03]\n",
      " ...\n",
      " [9.98001998e-01 9.98334998e-01 9.98667999e-01]\n",
      " [9.98334998e-01 9.98667999e-01 9.99000999e-01]\n",
      " [9.98667999e-01 9.99000999e-01 9.99333999e-01]]\n",
      "\n",
      "target_data: \n",
      " [[6.66000666e-04 9.99000999e-04 1.33200133e-03]\n",
      " [9.99000999e-04 1.33200133e-03 1.66500167e-03]\n",
      " [1.33200133e-03 1.66500167e-03 1.99800200e-03]\n",
      " ...\n",
      " [9.98667999e-01 9.99000999e-01 9.99333999e-01]\n",
      " [9.99000999e-01 9.99333999e-01 9.99667000e-01]\n",
      " [9.99333999e-01 9.99667000e-01 1.00000000e+00]]\n"
     ]
    }
   ],
   "source": [
    "### Normalizing the data so we have our max and min in range of 0 to 1\n",
    "\n",
    "# np.argmax will find the index of the biggest number of a flattened array, and we use that\n",
    "# to divdide all the elements to get a range between 1 and 0\n",
    "max_in_training = data.flatten()[np.argmax(data)] # gets max val in data\n",
    "max_in_labels = target.flatten()[np.argmax(target)] # gets max val in target\n",
    "\n",
    "normalization_factor = max_in_training\n",
    "\n",
    "if(max_in_labels > normalization_factor):\n",
    "    normalization_factor = max_in_labels\n",
    "\n",
    "data = data/normalization_factor\n",
    "target = target/normalization_factor\n",
    "\n",
    "print(\"After normalization \\n\")\n",
    "print(\"training_data: \\n\", data)\n",
    "print(\"\\ntarget_data: \\n\", target)"
   ]
  },
  {
   "cell_type": "code",
   "execution_count": 52,
   "id": "653c2f40-3028-4996-a832-72c15c47be43",
   "metadata": {},
   "outputs": [
    {
     "name": "stdout",
     "output_type": "stream",
     "text": [
      "(3000, 3)\n"
     ]
    }
   ],
   "source": [
    "print(data.shape)"
   ]
  },
  {
   "cell_type": "markdown",
   "id": "0bae0ddd-a673-4d83-a24f-080692fff0c5",
   "metadata": {},
   "source": [
    "# We see from above that we have 1000 sequences each sequence has 3 timesteps\n",
    "Our Sequences are 1 row, and 3 columns per sequence, in otherwords our sequences are matrices of shape (1,3) so that is the shape we have to feed our LSTM\n",
    "LSTM expects that we feed it shape (batch_size, timesteps, features), but that is confusing, so I think of it this way, an LSTM expects (batch_size, rows_per_sequence, columns_per_sequence)\n",
    "\n",
    "We need to reflect the rows_per_sequence in our data shape somehow, we do this by chaging the\n",
    "data shape from (1000,3) to be like this (1000, 1, 3), on otherwords we are injecting the rows_per_sequence into our data shape, it is an empty axis that is just like wrapping the data with an extra list like if the data is like this [a,b,c] we are making it like this [[a,b,c]] "
   ]
  },
  {
   "cell_type": "code",
   "execution_count": 53,
   "id": "17b222a8-a54a-4223-97f8-b0953116cb49",
   "metadata": {},
   "outputs": [
    {
     "data": {
      "text/plain": [
       "(3000, 1, 3)"
      ]
     },
     "execution_count": 53,
     "metadata": {},
     "output_type": "execute_result"
    }
   ],
   "source": [
    "# following the discussion above, we reshape our data to be  like this\n",
    "current_shape = data.shape\n",
    "new_shape = current_shape[0], 1, current_shape[1]\n",
    "data = data.reshape(new_shape)\n",
    "target = target.reshape(new_shape)\n",
    "data.shape"
   ]
  },
  {
   "cell_type": "code",
   "execution_count": 64,
   "id": "db6e8ce1-fc35-4f13-97d1-343f268904c6",
   "metadata": {},
   "outputs": [],
   "source": [
    "# splitting test_ds from data and target sets\n",
    "# using negative test_num means that I access the last test_num element index, \n",
    "# in other words indexing the list from the back\n",
    "test_input_ds = data[-test_num:]\n",
    "test_label_ds = target[-test_num:]\n",
    "\n",
    "data = data[:-test_num]\n",
    "target = target[:-test_num]"
   ]
  },
  {
   "cell_type": "code",
   "execution_count": 58,
   "id": "58f29907-5e56-4cd4-97da-32b69814eb59",
   "metadata": {},
   "outputs": [
    {
     "name": "stdout",
     "output_type": "stream",
     "text": [
      "WARNING:tensorflow:Layer input_lstm will not use cuDNN kernels since it doesn't meet the criteria. It will use a generic GPU kernel as fallback when running on GPU.\n",
      "WARNING:tensorflow:Layer lstm_16 will not use cuDNN kernels since it doesn't meet the criteria. It will use a generic GPU kernel as fallback when running on GPU.\n",
      "WARNING:tensorflow:Layer lstm_17 will not use cuDNN kernels since it doesn't meet the criteria. It will use a generic GPU kernel as fallback when running on GPU.\n",
      "WARNING:tensorflow:Layer lstm_18 will not use cuDNN kernels since it doesn't meet the criteria. It will use a generic GPU kernel as fallback when running on GPU.\n",
      "WARNING:tensorflow:Layer lstm_19 will not use cuDNN kernels since it doesn't meet the criteria. It will use a generic GPU kernel as fallback when running on GPU.\n",
      "WARNING:tensorflow:Layer lstm_20 will not use cuDNN kernels since it doesn't meet the criteria. It will use a generic GPU kernel as fallback when running on GPU.\n",
      "Model: \"sequential_9\"\n",
      "_________________________________________________________________\n",
      "Layer (type)                 Output Shape              Param #   \n",
      "=================================================================\n",
      "input_lstm (LSTM)            (None, 1, 3)              84        \n",
      "_________________________________________________________________\n",
      "lstm_16 (LSTM)               (None, 1, 3)              84        \n",
      "_________________________________________________________________\n",
      "lstm_17 (LSTM)               (None, 1, 3)              84        \n",
      "_________________________________________________________________\n",
      "lstm_18 (LSTM)               (None, 1, 3)              84        \n",
      "_________________________________________________________________\n",
      "lstm_19 (LSTM)               (None, 1, 3)              84        \n",
      "_________________________________________________________________\n",
      "lstm_20 (LSTM)               (None, 1, 3)              84        \n",
      "=================================================================\n",
      "Total params: 504\n",
      "Trainable params: 504\n",
      "Non-trainable params: 0\n",
      "_________________________________________________________________\n"
     ]
    }
   ],
   "source": [
    "model = Sequential()\n",
    "# each seq is 1 row and 3 columns\n",
    "model.add(LSTM(sequence_length, name= \"input_lstm\", input_shape=(1, 3), return_sequences=True, recurrent_dropout=0.2, activation='sigmoid'))\n",
    "model.add(LSTM(sequence_length, input_shape=(1, 3), return_sequences=True, recurrent_dropout=0.2, activation='sigmoid'))\n",
    "model.add(LSTM(sequence_length, input_shape=(1, 3), return_sequences=True, recurrent_dropout=0.2, activation='sigmoid'))\n",
    "model.add(LSTM(sequence_length, input_shape=(1, 3), return_sequences=True, recurrent_dropout=0.2, activation='sigmoid'))\n",
    "model.add(LSTM(sequence_length, input_shape=(1, 3), return_sequences=True, recurrent_dropout=0.2, activation='sigmoid'))\n",
    "model.add(LSTM(sequence_length, input_shape=(1, 3), return_sequences=True, recurrent_dropout=0.2, activation='sigmoid'))\n",
    "\n",
    "model.compile(loss='mse', optimizer='adam', metrics=['accuracy'])\n",
    "model.summary()"
   ]
  },
  {
   "cell_type": "code",
   "execution_count": 66,
   "id": "414ba3f2-883a-4e98-b389-0e587180fc36",
   "metadata": {},
   "outputs": [
    {
     "name": "stdout",
     "output_type": "stream",
     "text": [
      "--- 21.016963958740234 seconds ---\n"
     ]
    }
   ],
   "source": [
    "\n",
    "EARLYSTOP = keras.callbacks.EarlyStopping(\n",
    "                monitor=\"accuracy\", mode=\"auto\", restore_best_weights=True, patience=25)\n",
    "\n",
    "start_time = time.time()\n",
    "history = model.fit(data, target, epochs=10000, batch_size=32, verbose=0,validation_split=0.2, callbacks=EARLYSTOP)\n",
    "print(\"--- %s seconds ---\" % (time.time() - start_time))"
   ]
  },
  {
   "cell_type": "code",
   "execution_count": 67,
   "id": "61512119-d1a4-48e1-b85e-d6055dbe797f",
   "metadata": {},
   "outputs": [
    {
     "data": {
      "image/png": "[encoded data removed]",
      "text/plain": [
       "<Figure size 432x288 with 1 Axes>"
      ]
     },
     "metadata": {},
     "output_type": "display_data"
    },
    {
     "data": {
      "image/png": "[encoded data removed]",
      "text/plain": [
       "<Figure size 432x288 with 1 Axes>"
      ]
     },
     "metadata": {},
     "output_type": "display_data"
    }
   ],
   "source": [
    "helpers.plot_training_validation_accuracy_loss(history)\n"
   ]
  },
  {
   "cell_type": "code",
   "execution_count": 79,
   "id": "95cc14ef-360b-4ead-b495-00bc7c2d68b3",
   "metadata": {},
   "outputs": [
    {
     "data": {
      "text/plain": [
       "array([[[940.10364, 935.18823, 940.51044]],\n",
       "\n",
       "       [[940.10364, 935.18823, 940.51044]],\n",
       "\n",
       "       [[940.10364, 935.18823, 940.51044]],\n",
       "\n",
       "       ...,\n",
       "\n",
       "       [[940.10345, 935.1887 , 940.5105 ]],\n",
       "\n",
       "       [[940.10345, 935.1887 , 940.5105 ]],\n",
       "\n",
       "       [[940.10345, 935.1887 , 940.5105 ]]], dtype=float32)"
      ]
     },
     "execution_count": 79,
     "metadata": {},
     "output_type": "execute_result"
    }
   ],
   "source": [
    "predict = model.predict(data)\n",
    "predict*normalization_factor\n",
    "# target*normalization_factor"
   ]
  },
  {
   "cell_type": "code",
   "execution_count": 72,
   "id": "1d19a696-e2c3-4dab-9e07-62a39b118b4e",
   "metadata": {},
   "outputs": [
    {
     "name": "stdout",
     "output_type": "stream",
     "text": [
      "16/16 - 0s - loss: 0.1937 - accuracy: 1.0000\n",
      "model accuracy: 100.00%\n"
     ]
    }
   ],
   "source": [
    "# Evaluate the model\n",
    "loss, acc = model.evaluate(test_input_ds, test_label_ds, verbose=2)\n",
    "print(\"model accuracy: {:5.2f}%\".format(100 * acc))"
   ]
  },
  {
   "cell_type": "markdown",
   "id": "0f5e4c3e-59de-42b3-9f42-329242543d86",
   "metadata": {},
   "source": [
    "### we see that the model prediction is pretty bad lol it is not following the pattern in the data and instead has leanred to give constant values. But that is fine since the whole goal of this exeresie was to configure LSTM by using reshape.\n",
    "If we want to use a dense layer after an LSTM that has return_sequences=true we should wrap that dense with a TimeDistributed which will duplicate the dense layer enough times so that matches the seq length"
   ]
  }
 ],
 "metadata": {
  "kernelspec": {
   "display_name": "Python 3",
   "language": "python",
   "name": "python3"
  },
  "language_info": {
   "codemirror_mode": {
    "name": "ipython",
    "version": 3
   },
   "file_extension": ".py",
   "mimetype": "text/x-python",
   "name": "python",
   "nbconvert_exporter": "python",
   "pygments_lexer": "ipython3",
   "version": "3.6.9"
  }
 },
 "nbformat": 4,
 "nbformat_minor": 5
}
