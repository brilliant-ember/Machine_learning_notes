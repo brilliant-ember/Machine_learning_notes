{
 "cells": [
  {
   "cell_type": "markdown",
   "id": "af2f5a72-890d-4589-9124-d88512faf4e2",
   "metadata": {},
   "source": [
    "# Basic encoder decoder arch with LSTMs\n",
    "\n",
    "The first part will use LSTMs for encoder-decoder archetecture to predict the reverse of an input seq, example if input is [1,2,3,4] output should be [4,3,2,1]\n",
    "\n",
    "Part 1 will be just an encoder-decoder\n",
    "\n",
    "Part 2 will be the same but we will use the Teacher Forcing technique, it will be in a seprate doc called `teacherForcingEncoderDecoder.ipybn`\n",
    "\n",
    "ref:\n",
    "https://www.youtube.com/watch?v=iHJkfsV9cqY&list=PLQflnv_s49v-4aH-xFcTykTpcyWSY4Tww&index=5\n",
    "\n",
    "https://colab.research.google.com/drive/1ErnVEZOmlu_nInxaoLStW0BHzgT4meVj?usp=sharing#scrollTo=gPdIYn9yWDxk\n",
    "\n",
    "\n",
    "\n",
    "with teacher forcing\n",
    "https://colab.research.google.com/drive/1TNUB8vsZimVZl_wktWS1ac4wyw8kaNLW?usp=sharing"
   ]
  },
  {
   "cell_type": "code",
   "execution_count": 1,
   "id": "5959965d-80aa-475f-9dd5-e518f4b76ad0",
   "metadata": {},
   "outputs": [],
   "source": [
    "import helpers\n",
    "import tensorflow as tf\n",
    "import numpy as np\n",
    "\n",
    "from random import randint\n",
    "from numpy import array\n",
    "from numpy import argmax\n",
    "from numpy import array\n",
    "\n",
    "from tensorflow.keras import models\n",
    "from numpy import array_equal\n",
    "from tensorflow.keras.models import Sequential, Model\n",
    "from tensorflow.keras.layers import LSTM, Bidirectional\n",
    "from tensorflow.keras.layers import Dense, Flatten\n",
    "from tensorflow.keras import Input\n",
    "from tensorflow.keras.layers import TimeDistributed\n",
    "from tensorflow.keras.layers import RepeatVector\n",
    "from tensorflow.keras.callbacks import EarlyStopping\n",
    "from tensorflow.keras.utils import plot_model\n",
    "from tensorflow.keras.models import load_model\n",
    "import matplotlib.pyplot as plt\n",
    "\n",
    "from tensorflow.keras.layers import Lambda\n",
    "from tensorflow.keras import backend as K\n",
    "import pdb"
   ]
  },
  {
   "cell_type": "code",
   "execution_count": 2,
   "id": "c99a267a-f51b-4371-9dfd-1f6549288ad0",
   "metadata": {},
   "outputs": [
    {
     "name": "stdout",
     "output_type": "stream",
     "text": [
      "time: 195 µs (started: 2021-09-22 08:26:08 -04:00)\n"
     ]
    }
   ],
   "source": [
    "# !pip install ipython-autotime\n",
    "%load_ext autotime"
   ]
  },
  {
   "cell_type": "code",
   "execution_count": 3,
   "id": "60165127-4f57-42b8-9688-08ed37ffdadc",
   "metadata": {},
   "outputs": [
    {
     "name": "stdout",
     "output_type": "stream",
     "text": [
      "is CUDA available: True\n",
      "Tensorflow version  2.6.0\n",
      "Keras version  2.6.0\n",
      "time: 81.3 ms (started: 2021-09-22 08:26:08 -04:00)\n"
     ]
    }
   ],
   "source": [
    "helpers.check_gpu_tensorflow()"
   ]
  },
  {
   "cell_type": "code",
   "execution_count": 4,
   "id": "e0c01821-13f7-4a4b-99ea-aa4178bac557",
   "metadata": {},
   "outputs": [
    {
     "name": "stdout",
     "output_type": "stream",
     "text": [
      "time: 4.83 ms (started: 2021-09-22 08:26:08 -04:00)\n"
     ]
    }
   ],
   "source": [
    "\n",
    "# generate a sequence of random integers\n",
    "def generate_sequence(length, n_unique):\n",
    "\treturn [randint(1, n_unique-1) for _ in range(length)]\n",
    "\n",
    "# one hot encode sequence\n",
    "def one_hot_encode(sequence, n_unique):\n",
    "\tencoding = list()\n",
    "\tfor value in sequence:\n",
    "\t\tvector = [0 for _ in range(n_unique)]\n",
    "\t\tvector[value] = 1\n",
    "\t\tencoding.append(vector)\n",
    "\treturn array(encoding)\n",
    "\n",
    "# decode a one hot encoded string\n",
    "def one_hot_decode(encoded_seq):\n",
    "\treturn [argmax(vector) for vector in encoded_seq]\n",
    "\n",
    "# prepare data for the LSTM\n",
    "def get_reversed_pairs(time_steps,vocabulary_size,verbose= False):\n",
    "\t# generate random sequence\n",
    "\tsequence_in = generate_sequence(time_steps, vocabulary_size)\n",
    "\tsequence_out = sequence_in[::-1]\n",
    "\t\n",
    "\t# one hot encode\n",
    "\tX = one_hot_encode(sequence_in, vocabulary_size)\n",
    "\ty = one_hot_encode(sequence_out, vocabulary_size)\n",
    "\t# reshape as 3D\n",
    "\tX = X.reshape((1, X.shape[0], X.shape[1]))\n",
    "\ty = y.reshape((1, y.shape[0], y.shape[1]))\n",
    "\n",
    "\tif(verbose):\n",
    "\t\tprint(\"\\nNotes:\")\n",
    "\t\tprint('1. For each input sequence (X), selecting ',time_steps,\n",
    "\t\t      ' random numbers between 1 (inclusive) and ',\n",
    "\t\t      vocabulary_size, ' (exclusive) ')\n",
    "\t\tprint(\"2. 0 is reserved as the SART Symbol\")\n",
    "\t  \n",
    "\t\tprint('\\nA sample X ')\n",
    "\t\tprint('X=%s' % (one_hot_decode(X[0])))\n",
    "\t\tprint('\\nreversed input sequence (X) is the output sequence (y) ')\n",
    "\t\tprint('y=%s' % (one_hot_decode(y[0])))\n",
    "\t\n",
    "\t\tprint('\\nEach input and output sequences are converted one_hot_encoded format in ',\n",
    "\t\t      vocabulary_size,' dimensions')\n",
    "\t\tprint('X=%s' % (X[0]))\n",
    "\t\tprint('y=%s' % (y[0]))\n",
    "\treturn X,y\n",
    "\n",
    "\n",
    "def create_dataset(train_size, test_size, time_steps,vocabulary_size, verbose= False):\n",
    "\tpairs = [get_reversed_pairs(time_steps,vocabulary_size) for _ in range(train_size)]\n",
    "\tpairs=np.array(pairs).squeeze()\n",
    "\tX_train = pairs[:,0]\n",
    "\ty_train = pairs[:,1]\n",
    "\tpairs = [get_reversed_pairs(time_steps,vocabulary_size) for _ in range(test_size)]\n",
    "\tpairs=np.array(pairs).squeeze()\n",
    "\tX_test = pairs[:,0]\n",
    "\ty_test = pairs[:,1]\t\n",
    "\n",
    "\tif(verbose):\n",
    "\t\tprint('\\nGenerated sequence datasets as follows (batch_size,time_steps, features)')\n",
    "\t\tprint('X_train.shape: ', X_train.shape,'y_train.shape: ', y_train.shape)\n",
    "\t\tprint('X_test.shape: ', X_test.shape,'y_test.shape: ', y_test.shape)\n",
    "\t\n",
    "\treturn X_train, y_train, X_test, \ty_test"
   ]
  },
  {
   "cell_type": "code",
   "execution_count": 5,
   "id": "a4a6f706-2faa-492f-b1f9-83f392fdd892",
   "metadata": {},
   "outputs": [
    {
     "name": "stdout",
     "output_type": "stream",
     "text": [
      "time: 3.19 ms (started: 2021-09-22 08:26:08 -04:00)\n"
     ]
    }
   ],
   "source": [
    "def train_test(model, X_train, y_train, X_test, y_test, epochs=500,\n",
    "               batch_size=32, patience=5, verbose=0):\n",
    "    es = EarlyStopping(monitor='val_loss', mode='min', verbose=1, patience=patience)\n",
    "    print('training for ',epochs,' epochs begins with EarlyStopping(monitor= val_loss, patience=',patience,')....')\n",
    "    history=model.fit(X_train, y_train, validation_split= 0.1, epochs=epochs,batch_size=batch_size, verbose=verbose, callbacks=[es])\n",
    "    print(epochs,' epoch training finished...')\n",
    "    \n",
    "    _, train_acc = model.evaluate(X_train, y_train, batch_size=batch_size, verbose=0)\n",
    "    _, test_acc = model.evaluate(X_test, \ty_test, batch_size=batch_size, verbose=0)\n",
    "    print('\\nPREDICTION ACCURACY (%):')\n",
    "    print('Train: %.3f, Test: %.3f' % (train_acc*100, test_acc*100))\n",
    "    # summarize history for accuracy\n",
    "    plt.plot(history.history['accuracy'])\n",
    "    plt.plot(history.history['val_accuracy'])\n",
    "    plt.title(model.name+' accuracy')\n",
    "    plt.ylabel('accuracy')\n",
    "    plt.xlabel('epoch')\n",
    "    plt.legend(['train', 'val'], loc='upper left')\n",
    "    plt.show()\n",
    "    # summarize history for loss\n",
    "    plt.plot(history.history['loss'])\n",
    "    plt.plot(history.history['val_loss'])\n",
    "    plt.title(model.name+' loss')\n",
    "    plt.ylabel('loss')\n",
    "    plt.xlabel('epoch')\n",
    "    plt.legend(['train', 'val'], loc='upper left')\n",
    "    plt.show()\n",
    "    \n",
    "    # spot test some examples\n",
    "    space = 3*len(one_hot_decode(y_test[0]))\n",
    "    print(\"10 examples from test data ...\")\n",
    "    print('Input', ' '*(space-4), 'Expected',' '*(space-7),\n",
    "          'Predicted', ' '*(space-5), 'T/F')\n",
    "    \n",
    "    correct = 0\n",
    "    sampleNo = 10\n",
    "    \n",
    "    predicted = model_encoder_decoder.predict(X_test[:sampleNo], batch_size=batch_size)\n",
    "    for sample in range(0, sampleNo):\n",
    "        if (one_hot_decode(y_test[sample])) == one_hot_decode(predicted[sample]):\n",
    "            correct+=1\n",
    "        print( one_hot_decode(X_test[sample]), ' ', \n",
    "\t\t\t\t\tone_hot_decode(y_test[sample]),' ', one_hot_decode(predicted[sample]),\n",
    "\t\t\t\t\t' ',one_hot_decode(y_test[sample])== one_hot_decode(predicted[sample]))\n",
    "        print('Accuracy: ', correct/sampleNo)\n",
    "\n",
    "# a = get_reversed_pairs(2, 3, True)[0]\n",
    "# print(\"****\\n\",a.shape)\n",
    "# print(a)\n",
    "# print(\"\\n after squeeze\")\n",
    "# a = a.squeeze()\n",
    "# print(a)\n",
    "# a.shape\n",
    "\n",
    "        "
   ]
  },
  {
   "cell_type": "code",
   "execution_count": 6,
   "id": "1cc390c2-7ca5-4d2e-99e3-4d05417a3739",
   "metadata": {},
   "outputs": [
    {
     "name": "stdout",
     "output_type": "stream",
     "text": [
      "\n",
      "Notes:\n",
      "1. For each input sequence (X), selecting  4  random numbers between 1 (inclusive) and  10  (exclusive) \n",
      "2. 0 is reserved as the SART Symbol\n",
      "\n",
      "A sample X \n",
      "X=[7, 9, 8, 2]\n",
      "\n",
      "reversed input sequence (X) is the output sequence (y) \n",
      "y=[2, 8, 9, 7]\n",
      "\n",
      "Each input and output sequences are converted one_hot_encoded format in  10  dimensions\n",
      "X=[[0 0 0 0 0 0 0 1 0 0]\n",
      " [0 0 0 0 0 0 0 0 0 1]\n",
      " [0 0 0 0 0 0 0 0 1 0]\n",
      " [0 0 1 0 0 0 0 0 0 0]]\n",
      "y=[[0 0 1 0 0 0 0 0 0 0]\n",
      " [0 0 0 0 0 0 0 0 1 0]\n",
      " [0 0 0 0 0 0 0 0 0 1]\n",
      " [0 0 0 0 0 0 0 1 0 0]]\n",
      "\n",
      "Generated sequence datasets as follows (batch_size,time_steps, features)\n",
      "X_train.shape:  (2000, 4, 10) y_train.shape:  (2000, 4, 10)\n",
      "X_test.shape:  (200, 4, 10) y_test.shape:  (200, 4, 10)\n",
      "time: 61.7 ms (started: 2021-09-22 08:26:08 -04:00)\n"
     ]
    }
   ],
   "source": [
    "\n",
    "n_timesteps_in = 4 #each input sample has 4 values\n",
    "n_features = 10\n",
    "\n",
    "\n",
    "# generate random sequence\n",
    "X,y = get_reversed_pairs(n_timesteps_in,  n_features, verbose=True)\n",
    "# generate datasets\n",
    "train_size= 2000 \n",
    "test_size = 200  \n",
    "\n",
    "X_train, y_train, X_test, y_test=create_dataset(train_size, test_size, n_timesteps_in,n_features, verbose=True)\n"
   ]
  },
  {
   "cell_type": "code",
   "execution_count": 7,
   "id": "6967d380-a30f-436b-bd07-53b1f943b616",
   "metadata": {},
   "outputs": [
    {
     "data": {
      "text/plain": [
       "[(None, 16), (None, 16), (None, 16)]"
      ]
     },
     "execution_count": 7,
     "metadata": {},
     "output_type": "execute_result"
    },
    {
     "name": "stdout",
     "output_type": "stream",
     "text": [
      "time: 631 ms (started: 2021-09-22 08:26:08 -04:00)\n"
     ]
    }
   ],
   "source": [
    "tf.keras.backend.set_floatx('float64')\n",
    "\n",
    "numberOfLSTMunits = 16\n",
    "\n",
    "input_shape = (n_timesteps_in, n_features)\n",
    "\n",
    "encoder_inputs = Input(shape = input_shape, name=\"encoder_inputs\")\n",
    "encoder_lstm = LSTM(numberOfLSTMunits, return_state=True, name=\"encoder_lstm\")\n",
    "\n",
    "encoder_outputs, state_h, state_c = encoder_lstm(encoder_inputs)\n",
    "\n",
    "states = [state_h, state_c]\n",
    "\n",
    "encoder_lstm.output_shape\n",
    "\n"
   ]
  },
  {
   "cell_type": "markdown",
   "id": "24b48be1-964a-410b-a1bb-f9f3e3cc4ad7",
   "metadata": {},
   "source": [
    "* As seen above, encoder **LSTM with return_state=True** returns 3 tensors:\n",
    "** last hidden state: encoder_outputs\n",
    "** last hidden state (again!): state_h\n",
    "** last cell state : state_c\n",
    "* The **dimension** of each state equals to the **LSTM unit number**\n",
    "\n"
   ]
  },
  {
   "cell_type": "code",
   "execution_count": 8,
   "id": "b9285297-78bf-4c12-aeee-55b74e524cf3",
   "metadata": {},
   "outputs": [
    {
     "name": "stdout",
     "output_type": "stream",
     "text": [
      "X.shape:  (1, 4, 10)\n",
      "numberOfLSTMunits:  16\n",
      " last hidden states (1, 16)\n",
      " last cell states (1, 16)\n",
      "time: 1.16 s (started: 2021-09-22 08:26:09 -04:00)\n"
     ]
    }
   ],
   "source": [
    "# Define and compile model first\n",
    "model_encoder = Model(encoder_inputs, states) \n",
    "context_vector= model_encoder(X)\n",
    "print('X.shape: ', X.shape)\n",
    "print('numberOfLSTMunits: ', numberOfLSTMunits)\n",
    "print(' last hidden states',context_vector[0].numpy().shape)\n",
    "print(' last cell states',context_vector[1].numpy().shape)"
   ]
  },
  {
   "cell_type": "code",
   "execution_count": 9,
   "id": "e88a6783-cdf7-43e3-af50-50721459aec9",
   "metadata": {},
   "outputs": [
    {
     "name": "stdout",
     "output_type": "stream",
     "text": [
      "time: 158 ms (started: 2021-09-22 08:26:10 -04:00)\n"
     ]
    }
   ],
   "source": [
    "decoder_inputs = Input(shape=(1, n_features), name='decoder_inputs')\n",
    "\n",
    "decoder_lstm = LSTM(numberOfLSTMunits, return_sequences=True,\n",
    "                    return_state=True, name='decoder_lstm')\n",
    "\n",
    "decoder_dense = Dense(n_features, activation='softmax')\n",
    "\n",
    "outputs, state_h, state_c = decoder_lstm(decoder_inputs,initial_state=states)"
   ]
  },
  {
   "cell_type": "code",
   "execution_count": 10,
   "id": "f1dc1edd-ca15-4a2b-8658-e05d5ef1cc55",
   "metadata": {},
   "outputs": [
    {
     "name": "stdout",
     "output_type": "stream",
     "text": [
      "time: 1.89 ms (started: 2021-09-22 08:26:10 -04:00)\n"
     ]
    }
   ],
   "source": [
    "def create_hard_coded_decoder_input_model(batch_size):\n",
    "    # encoder\n",
    "    encoder_inputs = Input(shape=(n_timesteps_in, n_features), name='encoder_inputs')\n",
    "    encoder_lstm = LSTM(numberOfLSTMunits, return_state=True, name=\"encoder_lstm\")\n",
    "    encoder_outputs, state_h, state_c = encoder_lstm(encoder_inputs)\n",
    "\n",
    "\n",
    "    # initial context vector is the states of the encoder\n",
    "    states = [state_h, state_c]\n",
    "    \n",
    "    # decoder, note that decoder takes 1 input and gives 1 output at a time\n",
    "    decoder_inputs = Input(shape=(1, n_features))\n",
    "    decoder_lstm = LSTM(numberOfLSTMunits, return_state=True,\n",
    "                        return_sequences=True, name=\"decoder_lstm\")\n",
    "    decoder_dense = Dense(n_features, activation='softmax', name='decoder_dense')\n",
    "    \n",
    "    all_outputs = []\n",
    "    \n",
    "    # initalize decoder data, the START char is 0\n",
    "    # note that we made our data that [1 0 0 0 0 0 0 0 0 0] is the inital val for each loop\n",
    "    decoder_input_data = np.zeros((batch_size, 1, n_features))\n",
    "    decoder_input_data[:, 0, 0] = 1\n",
    "    inputs = decoder_input_data # making an alias for better readbility as we'll reassign val\n",
    "#     pdb.set_trace()\n",
    "\n",
    "\n",
    "    for _ in range(n_timesteps_in):\n",
    "#         print(_)\n",
    "        # run the decoder one timestep at a time\n",
    "        outputs, state_h, state_c = decoder_lstm(inputs, initial_state=states)\n",
    "        outputs = decoder_dense(outputs) # current prediction\n",
    "        all_outputs.append(outputs)\n",
    "        inputs = outputs\n",
    "        states = [state_h, state_c]\n",
    "        \n",
    "    # Concatenate all predictions such as [batch_size, timesteps, features]\n",
    "    decoder_outputs = Lambda(lambda x: K.concatenate(x, axis=1))(all_outputs)\n",
    "    \n",
    "    model = Model(encoder_inputs, decoder_outputs, name='model_encoder_decoder')\n",
    "    model.compile(optimizer='rmsprop', loss='categorical_crossentropy', metrics=['accuracy'])\n",
    "    return model"
   ]
  },
  {
   "cell_type": "code",
   "execution_count": null,
   "id": "fdd99e77-c27b-44a9-9f2a-9153946cf6b0",
   "metadata": {},
   "outputs": [],
   "source": []
  },
  {
   "cell_type": "code",
   "execution_count": 11,
   "id": "25a5ac6a-9dc8-443c-9416-83c0959be430",
   "metadata": {},
   "outputs": [
    {
     "name": "stdout",
     "output_type": "stream",
     "text": [
      "Model: \"model_encoder_decoder\"\n",
      "__________________________________________________________________________________________________\n",
      "Layer (type)                    Output Shape         Param #     Connected to                     \n",
      "==================================================================================================\n",
      "encoder_inputs (InputLayer)     [(None, 4, 10)]      0                                            \n",
      "__________________________________________________________________________________________________\n",
      "encoder_lstm (LSTM)             [(None, 16), (None,  1728        encoder_inputs[0][0]             \n",
      "__________________________________________________________________________________________________\n",
      "decoder_lstm (LSTM)             [(10, 1, 16), (None, 1728        encoder_lstm[0][1]               \n",
      "                                                                 encoder_lstm[0][2]               \n",
      "                                                                 decoder_dense[0][0]              \n",
      "                                                                 decoder_lstm[0][1]               \n",
      "                                                                 decoder_lstm[0][2]               \n",
      "                                                                 decoder_dense[1][0]              \n",
      "                                                                 decoder_lstm[1][1]               \n",
      "                                                                 decoder_lstm[1][2]               \n",
      "                                                                 decoder_dense[2][0]              \n",
      "                                                                 decoder_lstm[2][1]               \n",
      "                                                                 decoder_lstm[2][2]               \n",
      "__________________________________________________________________________________________________\n",
      "decoder_dense (Dense)           (10, 1, 10)          170         decoder_lstm[0][0]               \n",
      "                                                                 decoder_lstm[1][0]               \n",
      "                                                                 decoder_lstm[2][0]               \n",
      "                                                                 decoder_lstm[3][0]               \n",
      "__________________________________________________________________________________________________\n",
      "lambda (Lambda)                 (10, 4, 10)          0           decoder_dense[0][0]              \n",
      "                                                                 decoder_dense[1][0]              \n",
      "                                                                 decoder_dense[2][0]              \n",
      "                                                                 decoder_dense[3][0]              \n",
      "==================================================================================================\n",
      "Total params: 3,626\n",
      "Trainable params: 3,626\n",
      "Non-trainable params: 0\n",
      "__________________________________________________________________________________________________\n",
      "time: 834 ms (started: 2021-09-22 08:26:10 -04:00)\n"
     ]
    }
   ],
   "source": [
    "# %debug\n",
    "batch_size = 10\n",
    "model_encoder_decoder=create_hard_coded_decoder_input_model(batch_size=batch_size)\n",
    "model_encoder_decoder.summary()\n",
    "# tf.keras.utils.plot_model(model_encoder_decoder, show_shapes=True)"
   ]
  },
  {
   "cell_type": "code",
   "execution_count": 12,
   "id": "f0dd26d8-7f79-4f3d-87e1-ac2d2ad183ff",
   "metadata": {},
   "outputs": [
    {
     "name": "stdout",
     "output_type": "stream",
     "text": [
      "Epoch 1/30\n",
      "160/160 [==============================] - 7s 15ms/step - loss: 2.1996 - accuracy: 0.1972 - val_loss: 2.0587 - val_accuracy: 0.3050\n",
      "Epoch 2/30\n",
      "160/160 [==============================] - 1s 9ms/step - loss: 1.8889 - accuracy: 0.3258 - val_loss: 1.7619 - val_accuracy: 0.3481\n",
      "Epoch 3/30\n",
      "160/160 [==============================] - 1s 9ms/step - loss: 1.6855 - accuracy: 0.3633 - val_loss: 1.6087 - val_accuracy: 0.3881\n",
      "Epoch 4/30\n",
      "160/160 [==============================] - 1s 9ms/step - loss: 1.5586 - accuracy: 0.3952 - val_loss: 1.4990 - val_accuracy: 0.4081\n",
      "Epoch 5/30\n",
      "160/160 [==============================] - 1s 8ms/step - loss: 1.4589 - accuracy: 0.4048 - val_loss: 1.4182 - val_accuracy: 0.4250\n",
      "Epoch 6/30\n",
      "160/160 [==============================] - 1s 8ms/step - loss: 1.3826 - accuracy: 0.4239 - val_loss: 1.3552 - val_accuracy: 0.4394\n",
      "Epoch 7/30\n",
      "160/160 [==============================] - 1s 8ms/step - loss: 1.3195 - accuracy: 0.4433 - val_loss: 1.3009 - val_accuracy: 0.4581\n",
      "Epoch 8/30\n",
      "160/160 [==============================] - 1s 8ms/step - loss: 1.2643 - accuracy: 0.4606 - val_loss: 1.2511 - val_accuracy: 0.4731\n",
      "Epoch 9/30\n",
      "160/160 [==============================] - 1s 8ms/step - loss: 1.2105 - accuracy: 0.4795 - val_loss: 1.2015 - val_accuracy: 0.4863\n",
      "Epoch 10/30\n",
      "160/160 [==============================] - 1s 8ms/step - loss: 1.1545 - accuracy: 0.5047 - val_loss: 1.1485 - val_accuracy: 0.5006\n",
      "Epoch 11/30\n",
      "160/160 [==============================] - 1s 8ms/step - loss: 1.0982 - accuracy: 0.5356 - val_loss: 1.0943 - val_accuracy: 0.5425\n",
      "Epoch 12/30\n",
      "160/160 [==============================] - 1s 8ms/step - loss: 1.0404 - accuracy: 0.5659 - val_loss: 1.0349 - val_accuracy: 0.5731\n",
      "Epoch 13/30\n",
      "160/160 [==============================] - 1s 8ms/step - loss: 0.9821 - accuracy: 0.5925 - val_loss: 0.9726 - val_accuracy: 0.6100\n",
      "Epoch 14/30\n",
      "160/160 [==============================] - 1s 8ms/step - loss: 0.9229 - accuracy: 0.6292 - val_loss: 0.9171 - val_accuracy: 0.6381\n",
      "Epoch 15/30\n",
      "160/160 [==============================] - 1s 8ms/step - loss: 0.8637 - accuracy: 0.6558 - val_loss: 0.8498 - val_accuracy: 0.6681\n",
      "Epoch 16/30\n",
      "160/160 [==============================] - 1s 8ms/step - loss: 0.8006 - accuracy: 0.6845 - val_loss: 0.7906 - val_accuracy: 0.7019\n",
      "Epoch 17/30\n",
      "160/160 [==============================] - 1s 8ms/step - loss: 0.7319 - accuracy: 0.7214 - val_loss: 0.7222 - val_accuracy: 0.7300\n",
      "Epoch 18/30\n",
      "160/160 [==============================] - 1s 8ms/step - loss: 0.6559 - accuracy: 0.7620 - val_loss: 0.6357 - val_accuracy: 0.7762\n",
      "Epoch 19/30\n",
      "160/160 [==============================] - 1s 8ms/step - loss: 0.5730 - accuracy: 0.8083 - val_loss: 0.5560 - val_accuracy: 0.8144\n",
      "Epoch 20/30\n",
      "160/160 [==============================] - 1s 8ms/step - loss: 0.4894 - accuracy: 0.8555 - val_loss: 0.4749 - val_accuracy: 0.8631\n",
      "Epoch 21/30\n",
      "160/160 [==============================] - 1s 8ms/step - loss: 0.4080 - accuracy: 0.8906 - val_loss: 0.4048 - val_accuracy: 0.8950\n",
      "Epoch 22/30\n",
      "160/160 [==============================] - 1s 9ms/step - loss: 0.3348 - accuracy: 0.9223 - val_loss: 0.3419 - val_accuracy: 0.9119\n",
      "Epoch 23/30\n",
      "160/160 [==============================] - 1s 8ms/step - loss: 0.2736 - accuracy: 0.9458 - val_loss: 0.2893 - val_accuracy: 0.9381\n",
      "Epoch 24/30\n",
      "160/160 [==============================] - 1s 8ms/step - loss: 0.2241 - accuracy: 0.9587 - val_loss: 0.2400 - val_accuracy: 0.9569\n",
      "Epoch 25/30\n",
      "160/160 [==============================] - 1s 8ms/step - loss: 0.1860 - accuracy: 0.9709 - val_loss: 0.2036 - val_accuracy: 0.9606\n",
      "Epoch 26/30\n",
      "160/160 [==============================] - 1s 8ms/step - loss: 0.1544 - accuracy: 0.9770 - val_loss: 0.1731 - val_accuracy: 0.9663\n",
      "Epoch 27/30\n",
      "160/160 [==============================] - 1s 8ms/step - loss: 0.1287 - accuracy: 0.9831 - val_loss: 0.1515 - val_accuracy: 0.9688\n",
      "Epoch 28/30\n",
      "160/160 [==============================] - 1s 8ms/step - loss: 0.1085 - accuracy: 0.9872 - val_loss: 0.1364 - val_accuracy: 0.9744\n",
      "Epoch 29/30\n",
      "160/160 [==============================] - 1s 8ms/step - loss: 0.0917 - accuracy: 0.9922 - val_loss: 0.1134 - val_accuracy: 0.9794\n",
      "Epoch 30/30\n",
      "160/160 [==============================] - 1s 8ms/step - loss: 0.0769 - accuracy: 0.9934 - val_loss: 0.1092 - val_accuracy: 0.9788\n"
     ]
    },
    {
     "data": {
      "text/plain": [
       "<keras.callbacks.History at 0x7f934c051cf8>"
      ]
     },
     "execution_count": 12,
     "metadata": {},
     "output_type": "execute_result"
    },
    {
     "name": "stdout",
     "output_type": "stream",
     "text": [
      "time: 44.7 s (started: 2021-09-22 08:26:11 -04:00)\n"
     ]
    }
   ],
   "source": [
    "model_encoder_decoder.fit(X_train, y_train,\n",
    "          batch_size=batch_size,\n",
    "          epochs=30,\n",
    "          validation_split=0.2)"
   ]
  },
  {
   "cell_type": "code",
   "execution_count": 13,
   "id": "1825ced3-6fee-4ff7-bd3f-47ad9fd9c561",
   "metadata": {},
   "outputs": [
    {
     "name": "stdout",
     "output_type": "stream",
     "text": [
      "training for  500  epochs begins with EarlyStopping(monitor= val_loss, patience= 5 )....\n",
      "Epoch 1/500\n",
      "180/180 [==============================] - 1s 8ms/step - loss: 0.0689 - accuracy: 0.9936 - val_loss: 0.0925 - val_accuracy: 0.9812\n",
      "Epoch 2/500\n",
      "180/180 [==============================] - 1s 8ms/step - loss: 0.0571 - accuracy: 0.9960 - val_loss: 0.0864 - val_accuracy: 0.9800\n",
      "Epoch 3/500\n",
      "180/180 [==============================] - 1s 7ms/step - loss: 0.0474 - accuracy: 0.9971 - val_loss: 0.0610 - val_accuracy: 0.9925\n",
      "Epoch 4/500\n",
      "180/180 [==============================] - 1s 8ms/step - loss: 0.0391 - accuracy: 0.9981 - val_loss: 0.0557 - val_accuracy: 0.9900\n",
      "Epoch 5/500\n",
      "180/180 [==============================] - 1s 8ms/step - loss: 0.0331 - accuracy: 0.9989 - val_loss: 0.0443 - val_accuracy: 0.9950\n",
      "Epoch 6/500\n",
      "180/180 [==============================] - 1s 8ms/step - loss: 0.0272 - accuracy: 0.9989 - val_loss: 0.0431 - val_accuracy: 0.9925\n",
      "Epoch 7/500\n",
      "180/180 [==============================] - 1s 7ms/step - loss: 0.0232 - accuracy: 0.9997 - val_loss: 0.0386 - val_accuracy: 0.9975\n",
      "Epoch 8/500\n",
      "180/180 [==============================] - 1s 7ms/step - loss: 0.0195 - accuracy: 0.9996 - val_loss: 0.0296 - val_accuracy: 0.9962\n",
      "Epoch 9/500\n",
      "180/180 [==============================] - 1s 8ms/step - loss: 0.0162 - accuracy: 0.9997 - val_loss: 0.0273 - val_accuracy: 0.9962\n",
      "Epoch 10/500\n",
      "180/180 [==============================] - 1s 8ms/step - loss: 0.0138 - accuracy: 0.9996 - val_loss: 0.0199 - val_accuracy: 1.0000\n",
      "Epoch 11/500\n",
      "180/180 [==============================] - 1s 8ms/step - loss: 0.0115 - accuracy: 0.9997 - val_loss: 0.0167 - val_accuracy: 0.9975\n",
      "Epoch 12/500\n",
      "180/180 [==============================] - 1s 8ms/step - loss: 0.0095 - accuracy: 0.9999 - val_loss: 0.0145 - val_accuracy: 0.9988\n",
      "Epoch 13/500\n",
      "180/180 [==============================] - 1s 8ms/step - loss: 0.0081 - accuracy: 0.9999 - val_loss: 0.0173 - val_accuracy: 0.9962\n",
      "Epoch 14/500\n",
      "180/180 [==============================] - 1s 8ms/step - loss: 0.0069 - accuracy: 0.9999 - val_loss: 0.0133 - val_accuracy: 0.9975\n",
      "Epoch 15/500\n",
      "180/180 [==============================] - 1s 7ms/step - loss: 0.0059 - accuracy: 0.9999 - val_loss: 0.0106 - val_accuracy: 0.9988\n",
      "Epoch 16/500\n",
      "180/180 [==============================] - 1s 7ms/step - loss: 0.0051 - accuracy: 0.9999 - val_loss: 0.0102 - val_accuracy: 0.9988\n",
      "Epoch 17/500\n",
      "180/180 [==============================] - 1s 7ms/step - loss: 0.0043 - accuracy: 0.9999 - val_loss: 0.0067 - val_accuracy: 1.0000\n",
      "Epoch 18/500\n",
      "180/180 [==============================] - 1s 8ms/step - loss: 0.0038 - accuracy: 1.0000 - val_loss: 0.0059 - val_accuracy: 1.0000\n",
      "Epoch 19/500\n",
      "180/180 [==============================] - 1s 8ms/step - loss: 0.0032 - accuracy: 1.0000 - val_loss: 0.0050 - val_accuracy: 1.0000\n",
      "Epoch 20/500\n",
      "180/180 [==============================] - 2s 8ms/step - loss: 0.0027 - accuracy: 1.0000 - val_loss: 0.0053 - val_accuracy: 0.9988\n",
      "Epoch 21/500\n",
      "180/180 [==============================] - 1s 8ms/step - loss: 0.0024 - accuracy: 1.0000 - val_loss: 0.0040 - val_accuracy: 1.0000\n",
      "Epoch 22/500\n",
      "180/180 [==============================] - 1s 8ms/step - loss: 0.0020 - accuracy: 1.0000 - val_loss: 0.0039 - val_accuracy: 1.0000\n",
      "Epoch 23/500\n",
      "180/180 [==============================] - 2s 9ms/step - loss: 0.0018 - accuracy: 1.0000 - val_loss: 0.0038 - val_accuracy: 1.0000\n",
      "Epoch 24/500\n",
      "180/180 [==============================] - 2s 8ms/step - loss: 0.0016 - accuracy: 1.0000 - val_loss: 0.0029 - val_accuracy: 1.0000\n",
      "Epoch 25/500\n",
      "180/180 [==============================] - 2s 9ms/step - loss: 0.0014 - accuracy: 1.0000 - val_loss: 0.0024 - val_accuracy: 1.0000\n",
      "Epoch 26/500\n",
      "180/180 [==============================] - 2s 9ms/step - loss: 0.0012 - accuracy: 1.0000 - val_loss: 0.0025 - val_accuracy: 1.0000\n",
      "Epoch 27/500\n",
      "180/180 [==============================] - 2s 8ms/step - loss: 0.0010 - accuracy: 1.0000 - val_loss: 0.0028 - val_accuracy: 1.0000\n",
      "Epoch 28/500\n",
      "180/180 [==============================] - 1s 8ms/step - loss: 9.7499e-04 - accuracy: 1.0000 - val_loss: 0.0018 - val_accuracy: 1.0000\n",
      "Epoch 29/500\n",
      "180/180 [==============================] - 1s 7ms/step - loss: 8.3472e-04 - accuracy: 1.0000 - val_loss: 0.0021 - val_accuracy: 1.0000\n",
      "Epoch 30/500\n",
      "180/180 [==============================] - 1s 7ms/step - loss: 7.2326e-04 - accuracy: 1.0000 - val_loss: 0.0017 - val_accuracy: 1.0000\n",
      "Epoch 31/500\n",
      "180/180 [==============================] - 1s 8ms/step - loss: 6.9265e-04 - accuracy: 1.0000 - val_loss: 0.0018 - val_accuracy: 1.0000\n",
      "Epoch 32/500\n",
      "180/180 [==============================] - 1s 7ms/step - loss: 5.0087e-04 - accuracy: 1.0000 - val_loss: 0.0023 - val_accuracy: 1.0000\n",
      "Epoch 33/500\n",
      "180/180 [==============================] - 1s 7ms/step - loss: 6.5974e-04 - accuracy: 0.9999 - val_loss: 0.0028 - val_accuracy: 1.0000\n",
      "Epoch 34/500\n",
      "180/180 [==============================] - 1s 8ms/step - loss: 4.8144e-04 - accuracy: 1.0000 - val_loss: 0.0066 - val_accuracy: 0.9988\n",
      "Epoch 35/500\n",
      "180/180 [==============================] - 2s 8ms/step - loss: 3.7482e-04 - accuracy: 1.0000 - val_loss: 0.0011 - val_accuracy: 1.0000\n",
      "Epoch 36/500\n",
      "180/180 [==============================] - 1s 8ms/step - loss: 3.3122e-04 - accuracy: 1.0000 - val_loss: 9.2344e-04 - val_accuracy: 1.0000\n",
      "Epoch 37/500\n",
      "180/180 [==============================] - 1s 7ms/step - loss: 3.0369e-04 - accuracy: 1.0000 - val_loss: 0.0022 - val_accuracy: 1.0000\n",
      "Epoch 38/500\n",
      "180/180 [==============================] - 1s 8ms/step - loss: 2.7378e-04 - accuracy: 1.0000 - val_loss: 7.6146e-04 - val_accuracy: 1.0000\n",
      "Epoch 39/500\n",
      "180/180 [==============================] - 1s 8ms/step - loss: 2.3421e-04 - accuracy: 1.0000 - val_loss: 7.8069e-04 - val_accuracy: 1.0000\n",
      "Epoch 40/500\n",
      "180/180 [==============================] - 1s 7ms/step - loss: 2.1312e-04 - accuracy: 1.0000 - val_loss: 0.0032 - val_accuracy: 0.9988\n",
      "Epoch 41/500\n",
      "180/180 [==============================] - 1s 8ms/step - loss: 2.0049e-04 - accuracy: 1.0000 - val_loss: 5.7696e-04 - val_accuracy: 1.0000\n",
      "Epoch 42/500\n",
      "180/180 [==============================] - 2s 9ms/step - loss: 1.8643e-04 - accuracy: 1.0000 - val_loss: 5.9775e-04 - val_accuracy: 1.0000\n",
      "Epoch 43/500\n",
      "180/180 [==============================] - 2s 8ms/step - loss: 1.4030e-04 - accuracy: 1.0000 - val_loss: 5.6396e-04 - val_accuracy: 1.0000\n",
      "Epoch 44/500\n",
      "180/180 [==============================] - 2s 8ms/step - loss: 1.3434e-04 - accuracy: 1.0000 - val_loss: 5.0014e-04 - val_accuracy: 1.0000\n",
      "Epoch 45/500\n",
      "180/180 [==============================] - 1s 8ms/step - loss: 1.3110e-04 - accuracy: 1.0000 - val_loss: 7.6625e-04 - val_accuracy: 1.0000\n",
      "Epoch 46/500\n",
      "180/180 [==============================] - 1s 7ms/step - loss: 1.0985e-04 - accuracy: 1.0000 - val_loss: 3.0555e-04 - val_accuracy: 1.0000\n",
      "Epoch 47/500\n",
      "180/180 [==============================] - 1s 8ms/step - loss: 1.0035e-04 - accuracy: 1.0000 - val_loss: 4.6519e-04 - val_accuracy: 1.0000\n",
      "Epoch 48/500\n",
      "180/180 [==============================] - 1s 8ms/step - loss: 8.5925e-05 - accuracy: 1.0000 - val_loss: 0.0023 - val_accuracy: 0.9988\n",
      "Epoch 49/500\n",
      "180/180 [==============================] - 2s 9ms/step - loss: 7.2809e-05 - accuracy: 1.0000 - val_loss: 3.2898e-04 - val_accuracy: 1.0000\n",
      "Epoch 50/500\n",
      "180/180 [==============================] - 1s 8ms/step - loss: 8.0622e-05 - accuracy: 1.0000 - val_loss: 5.6954e-04 - val_accuracy: 1.0000\n",
      "Epoch 51/500\n",
      "180/180 [==============================] - 1s 7ms/step - loss: 1.0648e-04 - accuracy: 1.0000 - val_loss: 0.0014 - val_accuracy: 1.0000\n",
      "Epoch 00051: early stopping\n",
      "500  epoch training finished...\n",
      "\n",
      "PREDICTION ACCURACY (%):\n",
      "Train: 100.000, Test: 100.000\n"
     ]
    },
    {
     "data": {
      "image/png": "[encoded data removed]",
      "text/plain": [
       "<Figure size 432x288 with 1 Axes>"
      ]
     },
     "metadata": {
      "needs_background": "light"
     },
     "output_type": "display_data"
    },
    {
     "data": {
      "image/png": "[encoded data removed]",
      "text/plain": [
       "<Figure size 432x288 with 1 Axes>"
      ]
     },
     "metadata": {
      "needs_background": "light"
     },
     "output_type": "display_data"
    },
    {
     "name": "stdout",
     "output_type": "stream",
     "text": [
      "10 examples from test data ...\n",
      "Input          Expected       Predicted         T/F\n",
      "[3, 3, 5, 3]   [3, 5, 3, 3]   [3, 5, 3, 3]   True\n",
      "Accuracy:  0.1\n",
      "[9, 1, 3, 9]   [9, 3, 1, 9]   [9, 3, 1, 9]   True\n",
      "Accuracy:  0.2\n",
      "[6, 6, 1, 4]   [4, 1, 6, 6]   [4, 1, 6, 6]   True\n",
      "Accuracy:  0.3\n",
      "[3, 8, 3, 8]   [8, 3, 8, 3]   [8, 3, 8, 3]   True\n",
      "Accuracy:  0.4\n",
      "[3, 1, 9, 7]   [7, 9, 1, 3]   [7, 9, 1, 3]   True\n",
      "Accuracy:  0.5\n",
      "[7, 4, 4, 4]   [4, 4, 4, 7]   [4, 4, 4, 7]   True\n",
      "Accuracy:  0.6\n",
      "[3, 3, 7, 1]   [1, 7, 3, 3]   [1, 7, 3, 3]   True\n",
      "Accuracy:  0.7\n",
      "[9, 8, 5, 9]   [9, 5, 8, 9]   [9, 5, 8, 9]   True\n",
      "Accuracy:  0.8\n",
      "[8, 9, 1, 5]   [5, 1, 9, 8]   [5, 1, 9, 8]   True\n",
      "Accuracy:  0.9\n",
      "[4, 1, 1, 7]   [7, 1, 1, 4]   [7, 1, 1, 4]   True\n",
      "Accuracy:  1.0\n",
      "time: 1min 14s (started: 2021-09-22 08:26:56 -04:00)\n"
     ]
    }
   ],
   "source": [
    "########################\n",
    "###\n",
    "## Now we test run the train_test function\n",
    "\n",
    "train_test(model_encoder_decoder, X_train, y_train , X_test, y_test, batch_size=batch_size,epochs=500, verbose=1)\n",
    "\n"
   ]
  },
  {
   "cell_type": "code",
   "execution_count": null,
   "id": "c0aa7f91-182c-45cf-b7df-5783381c3ef3",
   "metadata": {},
   "outputs": [],
   "source": []
  },
  {
   "cell_type": "code",
   "execution_count": null,
   "id": "3b09e4c9-0152-4a0f-be24-5c0261a58ae8",
   "metadata": {},
   "outputs": [],
   "source": []
  },
  {
   "cell_type": "code",
   "execution_count": null,
   "id": "d406eb51-6a08-4d35-9071-cd869f50b559",
   "metadata": {},
   "outputs": [],
   "source": []
  },
  {
   "cell_type": "code",
   "execution_count": null,
   "id": "7c40e188-2cd0-4f9d-bb8a-071778539b8c",
   "metadata": {},
   "outputs": [],
   "source": []
  }
 ],
 "metadata": {
  "kernelspec": {
   "display_name": "Python 3",
   "language": "python",
   "name": "python3"
  },
  "language_info": {
   "codemirror_mode": {
    "name": "ipython",
    "version": 3
   },
   "file_extension": ".py",
   "mimetype": "text/x-python",
   "name": "python",
   "nbconvert_exporter": "python",
   "pygments_lexer": "ipython3",
   "version": "3.6.9"
  }
 },
 "nbformat": 4,
 "nbformat_minor": 5
}
