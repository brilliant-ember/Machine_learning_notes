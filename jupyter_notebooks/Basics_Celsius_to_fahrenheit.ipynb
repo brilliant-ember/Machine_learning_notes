{
  "nbformat": 4,
  "nbformat_minor": 0,
  "metadata": {
    "colab": {
      "name": "Basics_Celsius_to_fahrenheit.ipynb",
      "provenance": []
    },
    "kernelspec": {
      "name": "python3",
      "display_name": "Python 3"
    }
  },
  "cells": [
    {
      "cell_type": "markdown",
      "metadata": {
        "id": "nU_d96onXGAr",
        "colab_type": "text"
      },
      "source": [
        "# A simple machine learning model that will convert from degrees celsius to fahrenheit with machine learning rather than the formula \n",
        "\n",
        " f = 1.8*c + 32.\n",
        "\n",
        "Following https://classroom.udacity.com/courses/ud187/lessons/e0c70c77-5584-4f83-a47b-a67a6172ae75/concepts/fe91023e-9699-418a-8f4e-58c6acad1169\n",
        "### This notebook explains the code well:\n",
        "https://colab.research.google.com/github/tensorflow/examples/blob/master/courses/udacity_intro_to_tensorflow_for_deep_learning/l02c01_celsius_to_fahrenheit.ipynb#scrollTo=m8YQN1H41L-Y"
      ]
    },
    {
      "cell_type": "code",
      "metadata": {
        "id": "9wBDPPH_XbfL",
        "colab_type": "code",
        "colab": {}
      },
      "source": [
        "import tensorflow as tf\n",
        "import numpy as np\n",
        "import logging\n",
        "logger = tf.get_logger()\n"
      ],
      "execution_count": 0,
      "outputs": []
    },
    {
      "cell_type": "code",
      "metadata": {
        "id": "6853GuKSczDz",
        "colab_type": "code",
        "colab": {
          "base_uri": "https://localhost:8080/",
          "height": 138
        },
        "outputId": "4885c8de-d5c4-4fcc-efa4-067070fa6218"
      },
      "source": [
        "celsius_q    = np.array([-40, -10,  0,  8, 15, 22,  38],  dtype=float)\n",
        "fahrenheit_a = np.array([-40,  14, 32, 46, 59, 72, 100],  dtype=float)\n",
        "\n",
        "for index, element in enumerate(celsius_q):\n",
        "  print(\"{} Celsius = {} Fahrenheit\".format(element, fahrenheit_a[index]))"
      ],
      "execution_count": 2,
      "outputs": [
        {
          "output_type": "stream",
          "text": [
            "-40.0 Celsius = -40.0 Fahrenheit\n",
            "-10.0 Celsius = 14.0 Fahrenheit\n",
            "0.0 Celsius = 32.0 Fahrenheit\n",
            "8.0 Celsius = 46.0 Fahrenheit\n",
            "15.0 Celsius = 59.0 Fahrenheit\n",
            "22.0 Celsius = 72.0 Fahrenheit\n",
            "38.0 Celsius = 100.0 Fahrenheit\n"
          ],
          "name": "stdout"
        }
      ]
    },
    {
      "cell_type": "code",
      "metadata": {
        "id": "YpiCyFXUeHZG",
        "colab_type": "code",
        "colab": {}
      },
      "source": [
        "layer_0 = tf.keras.layers.Dense(1, input_shape = [1])\n",
        "model = tf.keras.Sequential([layer_0])\n",
        "model.compile(loss='mean_squared_error', optimizer=tf.keras.optimizers.Adam(0.1))"
      ],
      "execution_count": 0,
      "outputs": []
    },
    {
      "cell_type": "code",
      "metadata": {
        "id": "25CEAAavBOBo",
        "colab_type": "code",
        "colab": {
          "base_uri": "https://localhost:8080/",
          "height": 35
        },
        "outputId": "e847ef84-7bf4-49a5-9f30-d470cf8508d1"
      },
      "source": [
        "history = model.fit(celsius_q, fahrenheit_a, epochs=500,  verbose=False)\n",
        "print(\"{} done training!\".format(\"I am \"))\n",
        "#   We trained it with 3500 examples (7 pairs, over 500 epochs).\n"
      ],
      "execution_count": 7,
      "outputs": [
        {
          "output_type": "stream",
          "text": [
            "I am  done training!\n"
          ],
          "name": "stdout"
        }
      ]
    },
    {
      "cell_type": "code",
      "metadata": {
        "id": "O00BBXn5CwJY",
        "colab_type": "code",
        "colab": {
          "base_uri": "https://localhost:8080/",
          "height": 296
        },
        "outputId": "46ab1c44-7795-48ed-a2d5-77380014dea4"
      },
      "source": [
        "import matplotlib.pyplot as plt\n",
        "plt.xlabel(\"Epoch number\")\n",
        "plt.ylabel(\"loss\") #error, difference btwn actual and predicted result\n",
        "plt.plot(history.history['loss'])\n"
      ],
      "execution_count": 8,
      "outputs": [
        {
          "output_type": "execute_result",
          "data": {
            "text/plain": [
              "[<matplotlib.lines.Line2D at 0x7f2e7faee630>]"
            ]
          },
          "metadata": {
            "tags": []
          },
          "execution_count": 8
        },
        {
          "output_type": "display_data",
          "data": {
            "image/png": "[encoded data removed]",
            "text/plain": [
              "<Figure size 432x288 with 1 Axes>"
            ]
          },
          "metadata": {
            "tags": [],
            "needs_background": "light"
          }
        }
      ]
    },
    {
      "cell_type": "markdown",
      "metadata": {
        "id": "a5UBrSJ5DgOW",
        "colab_type": "text"
      },
      "source": [
        "### Now will try to use my trained model to predict fehrenheit from Celsius\n",
        "\n",
        "*The* correct answer is $100 \\times 1.8 + 32 = 212$, so our model is doing really well."
      ]
    },
    {
      "cell_type": "code",
      "metadata": {
        "id": "DoW7RBMqDBxb",
        "colab_type": "code",
        "colab": {
          "base_uri": "https://localhost:8080/",
          "height": 35
        },
        "outputId": "49e58202-bddc-42f6-8f98-57d0d6c4a86c"
      },
      "source": [
        "print(model.predict([100.0]))"
      ],
      "execution_count": 9,
      "outputs": [
        {
          "output_type": "stream",
          "text": [
            "[[211.74744]]\n"
          ],
          "name": "stdout"
        }
      ]
    },
    {
      "cell_type": "code",
      "metadata": {
        "id": "z_0zb0gEES0T",
        "colab_type": "code",
        "colab": {
          "base_uri": "https://localhost:8080/",
          "height": 35
        },
        "outputId": "e3fd3c24-e761-49c6-838b-3c35416e3621"
      },
      "source": [
        "print(\"These are the layer variables: {}\".format(layer_0.get_weights()))"
      ],
      "execution_count": 10,
      "outputs": [
        {
          "output_type": "stream",
          "text": [
            "These are the layer variables: [array([[1.7979496]], dtype=float32), array([31.952477], dtype=float32)]\n"
          ],
          "name": "stdout"
        }
      ]
    },
    {
      "cell_type": "markdown",
      "metadata": {
        "id": "nL-OgiLHE5Sl",
        "colab_type": "text"
      },
      "source": [
        "## From the udacity notebook: \n",
        "The first variable is close to ~1.8 and the second to ~32. These values (1.8 and 32) are the actual variables in the real conversion formula.\n",
        "\n",
        "This is really close to the values in the conversion formula. We'll explain this in an upcoming video where we show how a Dense layer works, but for a single neuron with a single input and a single output, the internal math looks the same as [the equation for a line](https://en.wikipedia.org/wiki/Linear_equation#Slope%E2%80%93intercept_form), $y = mx + b$, which has the same form as the conversion equation, $f = 1.8c + 32$.\n",
        "\n",
        "Since the form is the same, the variables should converge on the standard values of 1.8 and 32, which is exactly what happened.T\n",
        "\n",
        "With additional neurons, additional inputs, and additional outputs, the formula becomes much more complex, but the idea is the same."
      ]
    }
  ]
}