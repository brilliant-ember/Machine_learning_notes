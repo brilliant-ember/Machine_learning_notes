{
 "cells": [
  {
   "cell_type": "markdown",
   "id": "e6830e15-6d67-4b87-949e-9f0c05736341",
   "metadata": {},
   "source": [
    "LAB 03: Basic Feature Engineering in Keras\n",
    "dataset: https://developers.google.com/machine-learning/crash-course/california-housing-data-description\n",
    "        \n",
    "reference: https://github.com/GoogleCloudPlatform/training-data-analyst/blob/master/courses/machine_learning/deepdive2/feature_engineering/labs/3_keras_basic_feat_eng-lab.ipynb"
   ]
  },
  {
   "cell_type": "code",
   "execution_count": 1,
   "id": "8965fc7f-9815-447f-aab5-d3bef38f9a70",
   "metadata": {},
   "outputs": [
    {
     "name": "stdout",
     "output_type": "stream",
     "text": [
      "TensorFlow version:  2.5.0\n"
     ]
    }
   ],
   "source": [
    "import os\n",
    "import tensorflow.keras\n",
    "\n",
    "import matplotlib.pyplot as plt\n",
    "import pandas as pd\n",
    "import tensorflow as tf\n",
    "\n",
    "from tensorflow import feature_column as fc\n",
    "from tensorflow.keras import layers\n",
    "from sklearn.model_selection import train_test_split\n",
    "#from keras.utils import plot_model\n",
    "\n",
    "print(\"TensorFlow version: \",tf.version.VERSION)"
   ]
  },
  {
   "cell_type": "code",
   "execution_count": 2,
   "id": "1622a5fd-1492-4ad5-ac4e-35b9aa555138",
   "metadata": {},
   "outputs": [
    {
     "name": "stdout",
     "output_type": "stream",
     "text": [
      "\u001b[34mdata\u001b[m\u001b[m                         tensorflow_feature_col.ipynb\n",
      "kerasFeatureEng.ipynb\n"
     ]
    }
   ],
   "source": [
    "!ls"
   ]
  },
  {
   "cell_type": "code",
   "execution_count": 4,
   "id": "1e31c510-07c6-4493-b831-fa4fa387f142",
   "metadata": {},
   "outputs": [
    {
     "data": {
      "text/html": [
       "<div>\n",
       "<style scoped>\n",
       "    .dataframe tbody tr th:only-of-type {\n",
       "        vertical-align: middle;\n",
       "    }\n",
       "\n",
       "    .dataframe tbody tr th {\n",
       "        vertical-align: top;\n",
       "    }\n",
       "\n",
       "    .dataframe thead th {\n",
       "        text-align: right;\n",
       "    }\n",
       "</style>\n",
       "<table border=\"1\" class=\"dataframe\">\n",
       "  <thead>\n",
       "    <tr style=\"text-align: right;\">\n",
       "      <th></th>\n",
       "      <th>longitude</th>\n",
       "      <th>latitude</th>\n",
       "      <th>housing_median_age</th>\n",
       "      <th>total_rooms</th>\n",
       "      <th>total_bedrooms</th>\n",
       "      <th>population</th>\n",
       "      <th>households</th>\n",
       "      <th>median_income</th>\n",
       "      <th>median_house_value</th>\n",
       "      <th>ocean_proximity</th>\n",
       "    </tr>\n",
       "  </thead>\n",
       "  <tbody>\n",
       "    <tr>\n",
       "      <th>0</th>\n",
       "      <td>-122.23</td>\n",
       "      <td>37.88</td>\n",
       "      <td>41.0</td>\n",
       "      <td>880.0</td>\n",
       "      <td>129.0</td>\n",
       "      <td>322.0</td>\n",
       "      <td>126.0</td>\n",
       "      <td>8.3252</td>\n",
       "      <td>452600.0</td>\n",
       "      <td>NEAR BAY</td>\n",
       "    </tr>\n",
       "    <tr>\n",
       "      <th>1</th>\n",
       "      <td>-122.22</td>\n",
       "      <td>37.86</td>\n",
       "      <td>21.0</td>\n",
       "      <td>7099.0</td>\n",
       "      <td>1106.0</td>\n",
       "      <td>2401.0</td>\n",
       "      <td>1138.0</td>\n",
       "      <td>8.3014</td>\n",
       "      <td>358500.0</td>\n",
       "      <td>NEAR BAY</td>\n",
       "    </tr>\n",
       "    <tr>\n",
       "      <th>2</th>\n",
       "      <td>-122.24</td>\n",
       "      <td>37.85</td>\n",
       "      <td>52.0</td>\n",
       "      <td>1467.0</td>\n",
       "      <td>190.0</td>\n",
       "      <td>496.0</td>\n",
       "      <td>177.0</td>\n",
       "      <td>7.2574</td>\n",
       "      <td>352100.0</td>\n",
       "      <td>NEAR BAY</td>\n",
       "    </tr>\n",
       "    <tr>\n",
       "      <th>3</th>\n",
       "      <td>-122.25</td>\n",
       "      <td>37.85</td>\n",
       "      <td>52.0</td>\n",
       "      <td>1274.0</td>\n",
       "      <td>235.0</td>\n",
       "      <td>558.0</td>\n",
       "      <td>219.0</td>\n",
       "      <td>5.6431</td>\n",
       "      <td>341300.0</td>\n",
       "      <td>NEAR BAY</td>\n",
       "    </tr>\n",
       "    <tr>\n",
       "      <th>4</th>\n",
       "      <td>-122.25</td>\n",
       "      <td>37.85</td>\n",
       "      <td>52.0</td>\n",
       "      <td>1627.0</td>\n",
       "      <td>280.0</td>\n",
       "      <td>565.0</td>\n",
       "      <td>259.0</td>\n",
       "      <td>3.8462</td>\n",
       "      <td>342200.0</td>\n",
       "      <td>NEAR BAY</td>\n",
       "    </tr>\n",
       "  </tbody>\n",
       "</table>\n",
       "</div>"
      ],
      "text/plain": [
       "   longitude  latitude  housing_median_age  total_rooms  total_bedrooms  \\\n",
       "0    -122.23     37.88                41.0        880.0           129.0   \n",
       "1    -122.22     37.86                21.0       7099.0          1106.0   \n",
       "2    -122.24     37.85                52.0       1467.0           190.0   \n",
       "3    -122.25     37.85                52.0       1274.0           235.0   \n",
       "4    -122.25     37.85                52.0       1627.0           280.0   \n",
       "\n",
       "   population  households  median_income  median_house_value ocean_proximity  \n",
       "0       322.0       126.0         8.3252            452600.0        NEAR BAY  \n",
       "1      2401.0      1138.0         8.3014            358500.0        NEAR BAY  \n",
       "2       496.0       177.0         7.2574            352100.0        NEAR BAY  \n",
       "3       558.0       219.0         5.6431            341300.0        NEAR BAY  \n",
       "4       565.0       259.0         3.8462            342200.0        NEAR BAY  "
      ]
     },
     "execution_count": 4,
     "metadata": {},
     "output_type": "execute_result"
    }
   ],
   "source": [
    "housing_df = pd.read_csv('./data/housing_pre-proc.csv', error_bad_lines=False)\n",
    "housing_df.head()"
   ]
  },
  {
   "cell_type": "code",
   "execution_count": 5,
   "id": "ba11ba8b-4381-49a6-85db-9638f6d2fde7",
   "metadata": {},
   "outputs": [
    {
     "data": {
      "text/html": [
       "<div>\n",
       "<style scoped>\n",
       "    .dataframe tbody tr th:only-of-type {\n",
       "        vertical-align: middle;\n",
       "    }\n",
       "\n",
       "    .dataframe tbody tr th {\n",
       "        vertical-align: top;\n",
       "    }\n",
       "\n",
       "    .dataframe thead th {\n",
       "        text-align: right;\n",
       "    }\n",
       "</style>\n",
       "<table border=\"1\" class=\"dataframe\">\n",
       "  <thead>\n",
       "    <tr style=\"text-align: right;\">\n",
       "      <th></th>\n",
       "      <th>longitude</th>\n",
       "      <th>latitude</th>\n",
       "      <th>housing_median_age</th>\n",
       "      <th>total_rooms</th>\n",
       "      <th>total_bedrooms</th>\n",
       "      <th>population</th>\n",
       "      <th>households</th>\n",
       "      <th>median_income</th>\n",
       "      <th>median_house_value</th>\n",
       "    </tr>\n",
       "  </thead>\n",
       "  <tbody>\n",
       "    <tr>\n",
       "      <th>count</th>\n",
       "      <td>20433.000000</td>\n",
       "      <td>20433.000000</td>\n",
       "      <td>20433.000000</td>\n",
       "      <td>20433.000000</td>\n",
       "      <td>20433.000000</td>\n",
       "      <td>20433.000000</td>\n",
       "      <td>20433.000000</td>\n",
       "      <td>20433.000000</td>\n",
       "      <td>20433.000000</td>\n",
       "    </tr>\n",
       "    <tr>\n",
       "      <th>mean</th>\n",
       "      <td>-119.570689</td>\n",
       "      <td>35.633221</td>\n",
       "      <td>28.633094</td>\n",
       "      <td>2636.504233</td>\n",
       "      <td>537.870553</td>\n",
       "      <td>1424.946949</td>\n",
       "      <td>499.433465</td>\n",
       "      <td>3.871162</td>\n",
       "      <td>206864.413155</td>\n",
       "    </tr>\n",
       "    <tr>\n",
       "      <th>std</th>\n",
       "      <td>2.003578</td>\n",
       "      <td>2.136348</td>\n",
       "      <td>12.591805</td>\n",
       "      <td>2185.269567</td>\n",
       "      <td>421.385070</td>\n",
       "      <td>1133.208490</td>\n",
       "      <td>382.299226</td>\n",
       "      <td>1.899291</td>\n",
       "      <td>115435.667099</td>\n",
       "    </tr>\n",
       "    <tr>\n",
       "      <th>min</th>\n",
       "      <td>-124.350000</td>\n",
       "      <td>32.540000</td>\n",
       "      <td>1.000000</td>\n",
       "      <td>2.000000</td>\n",
       "      <td>1.000000</td>\n",
       "      <td>3.000000</td>\n",
       "      <td>1.000000</td>\n",
       "      <td>0.499900</td>\n",
       "      <td>14999.000000</td>\n",
       "    </tr>\n",
       "    <tr>\n",
       "      <th>25%</th>\n",
       "      <td>-121.800000</td>\n",
       "      <td>33.930000</td>\n",
       "      <td>18.000000</td>\n",
       "      <td>1450.000000</td>\n",
       "      <td>296.000000</td>\n",
       "      <td>787.000000</td>\n",
       "      <td>280.000000</td>\n",
       "      <td>2.563700</td>\n",
       "      <td>119500.000000</td>\n",
       "    </tr>\n",
       "    <tr>\n",
       "      <th>50%</th>\n",
       "      <td>-118.490000</td>\n",
       "      <td>34.260000</td>\n",
       "      <td>29.000000</td>\n",
       "      <td>2127.000000</td>\n",
       "      <td>435.000000</td>\n",
       "      <td>1166.000000</td>\n",
       "      <td>409.000000</td>\n",
       "      <td>3.536500</td>\n",
       "      <td>179700.000000</td>\n",
       "    </tr>\n",
       "    <tr>\n",
       "      <th>75%</th>\n",
       "      <td>-118.010000</td>\n",
       "      <td>37.720000</td>\n",
       "      <td>37.000000</td>\n",
       "      <td>3143.000000</td>\n",
       "      <td>647.000000</td>\n",
       "      <td>1722.000000</td>\n",
       "      <td>604.000000</td>\n",
       "      <td>4.744000</td>\n",
       "      <td>264700.000000</td>\n",
       "    </tr>\n",
       "    <tr>\n",
       "      <th>max</th>\n",
       "      <td>-114.310000</td>\n",
       "      <td>41.950000</td>\n",
       "      <td>52.000000</td>\n",
       "      <td>39320.000000</td>\n",
       "      <td>6445.000000</td>\n",
       "      <td>35682.000000</td>\n",
       "      <td>6082.000000</td>\n",
       "      <td>15.000100</td>\n",
       "      <td>500001.000000</td>\n",
       "    </tr>\n",
       "  </tbody>\n",
       "</table>\n",
       "</div>"
      ],
      "text/plain": [
       "          longitude      latitude  housing_median_age   total_rooms  \\\n",
       "count  20433.000000  20433.000000        20433.000000  20433.000000   \n",
       "mean    -119.570689     35.633221           28.633094   2636.504233   \n",
       "std        2.003578      2.136348           12.591805   2185.269567   \n",
       "min     -124.350000     32.540000            1.000000      2.000000   \n",
       "25%     -121.800000     33.930000           18.000000   1450.000000   \n",
       "50%     -118.490000     34.260000           29.000000   2127.000000   \n",
       "75%     -118.010000     37.720000           37.000000   3143.000000   \n",
       "max     -114.310000     41.950000           52.000000  39320.000000   \n",
       "\n",
       "       total_bedrooms    population    households  median_income  \\\n",
       "count    20433.000000  20433.000000  20433.000000   20433.000000   \n",
       "mean       537.870553   1424.946949    499.433465       3.871162   \n",
       "std        421.385070   1133.208490    382.299226       1.899291   \n",
       "min          1.000000      3.000000      1.000000       0.499900   \n",
       "25%        296.000000    787.000000    280.000000       2.563700   \n",
       "50%        435.000000   1166.000000    409.000000       3.536500   \n",
       "75%        647.000000   1722.000000    604.000000       4.744000   \n",
       "max       6445.000000  35682.000000   6082.000000      15.000100   \n",
       "\n",
       "       median_house_value  \n",
       "count        20433.000000  \n",
       "mean        206864.413155  \n",
       "std         115435.667099  \n",
       "min          14999.000000  \n",
       "25%         119500.000000  \n",
       "50%         179700.000000  \n",
       "75%         264700.000000  \n",
       "max         500001.000000  "
      ]
     },
     "execution_count": 5,
     "metadata": {},
     "output_type": "execute_result"
    }
   ],
   "source": [
    "housing_df.describe()\n"
   ]
  },
  {
   "cell_type": "code",
   "execution_count": 6,
   "id": "4dc966f2-43b8-4942-ad3f-0ac7555dc3ff",
   "metadata": {},
   "outputs": [
    {
     "name": "stdout",
     "output_type": "stream",
     "text": [
      "13076 train examples\n",
      "3270 validation examples\n",
      "4087 test examples\n"
     ]
    }
   ],
   "source": [
    "train, test = train_test_split(housing_df, test_size=0.2)\n",
    "train, val = train_test_split(train, test_size=0.2)\n",
    "\n",
    "print(len(train), 'train examples')\n",
    "print(len(val), 'validation examples')\n",
    "print(len(test), 'test examples')"
   ]
  },
  {
   "cell_type": "code",
   "execution_count": 18,
   "id": "38b7d725-eed3-4f7a-819d-4f1904a0afb7",
   "metadata": {},
   "outputs": [
    {
     "name": "stdout",
     "output_type": "stream",
     "text": [
      "/Users/mo/Desktop/gcp course/myNotebooks\n"
     ]
    }
   ],
   "source": [
    "processed_data_path = './played_with_data'\n",
    "if not os.path.isdir(\"./played_with_data\"):\n",
    "    os.makedirs(\"./played_with_data\")\n",
    "!pwd"
   ]
  },
  {
   "cell_type": "code",
   "execution_count": 19,
   "id": "6d1a2539-0c22-47eb-87ba-6b75fef599a2",
   "metadata": {},
   "outputs": [],
   "source": [
    "train_path = processed_data_path + '/housing-train.csv'\n",
    "val_path = processed_data_path + '/housing-val.csv'\n",
    "test_path = processed_data_path + '/housing-test.csv'\n",
    "\n",
    "train.to_csv(train_path, encoding='utf-8', index=False)\n",
    "val.to_csv(val_path , encoding='utf-8', index=False)\n",
    "test.to_csv(test_path, encoding='utf-8', index=False)\n"
   ]
  },
  {
   "cell_type": "code",
   "execution_count": 21,
   "id": "fd078994-fdc4-4faa-ae21-8f0fe87ab4e1",
   "metadata": {},
   "outputs": [
    {
     "name": "stdout",
     "output_type": "stream",
     "text": [
      "longitude,latitude,housing_median_age,total_rooms,total_bedrooms,population,households,median_income,median_house_value,ocean_proximity\n",
      "-122.23,37.88,41.0,880.0,129.0,322.0,126.0,8.3252,452600.0,NEAR BAY\n",
      "-122.22,37.86,21.0,7099.0,1106.0,2401.0,1138.0,8.3014,358500.0,NEAR BAY\n",
      "-122.24,37.85,52.0,1467.0,190.0,496.0,177.0,7.2574,352100.0,NEAR BAY\n",
      "-122.25,37.85,52.0,1274.0,235.0,558.0,219.0,5.6431,341300.0,NEAR BAY\n",
      "-122.25,37.85,52.0,1627.0,280.0,565.0,259.0,3.8462,342200.0,NEAR BAY\n",
      "-122.25,37.85,52.0,919.0,213.0,413.0,193.0,4.0368,269700.0,NEAR BAY\n",
      "-122.25,37.84,52.0,2535.0,489.0,1094.0,514.0,3.6591,299200.0,NEAR BAY\n",
      "-122.25,37.84,52.0,3104.0,687.0,1157.0,647.0,3.12,241400.0,NEAR BAY\n",
      "-122.26,37.84,42.0,2555.0,665.0,1206.0,595.0,2.0804,226700.0,NEAR BAY\n"
     ]
    }
   ],
   "source": [
    "!head ./data/housing*.csv\n"
   ]
  },
  {
   "cell_type": "code",
   "execution_count": 29,
   "id": "4aab786d-0f8b-4a14-a6ae-d03a0c2b971f",
   "metadata": {},
   "outputs": [],
   "source": [
    "# Now we want to wrap the dataframe with tf.data\n",
    "# so we can use cols in the dataframe to train the model\n",
    "\n",
    "def df_to_dataset(dataframe, shuffle=True, batch_size=32):\n",
    "    dataframe = dataframe.copy()\n",
    "    labels = dataframe.pop('median_house_value')\n",
    "    features_labels_tuple = ( dict(dataframe), labels )\n",
    "    ds = tf.data.Dataset.from_tensor_slices(features_labels_tuple)\n",
    "    if shuffle:\n",
    "        ds.shuffle(buffer_size=len(dataframe))\n",
    "    ds = ds.batch(batch_size)\n",
    "    return ds"
   ]
  },
  {
   "cell_type": "code",
   "execution_count": 30,
   "id": "c0a117bb-f6d8-43da-8f57-02babae618d2",
   "metadata": {},
   "outputs": [],
   "source": [
    "batch_size = 32\n",
    "train_ds = df_to_dataset(train)\n",
    "val_ds = df_to_dataset(val, shuffle=False, batch_size=batch_size)"
   ]
  },
  {
   "cell_type": "code",
   "execution_count": 51,
   "id": "0539e1df-32db-4596-a178-84c5463e4a65",
   "metadata": {},
   "outputs": [
    {
     "name": "stdout",
     "output_type": "stream",
     "text": [
      "All features: ['longitude', 'latitude', 'housing_median_age', 'total_rooms', 'total_bedrooms', 'population', 'households', 'median_income', 'ocean_proximity'] \n",
      "Number of features: 9 \n",
      "Elements per batch 32\n",
      "\n",
      "A batch of households: tf.Tensor(\n",
      "[ 107.  428.  247.  572.  662.  288.  273.  955.  408.  351.  898.  518.\n",
      "  265.  271.  434.  253.  481. 1457.  506.  271.  186.  155.  332.  634.\n",
      "  347.  288. 1505.  427.  465. 1229.  458.  276.], shape=(32,), dtype=float64)\n",
      "A batch of ocean_proximity: tf.Tensor(\n",
      "[b'INLAND' b'NEAR OCEAN' b'<1H OCEAN' b'<1H OCEAN' b'INLAND' b'<1H OCEAN'\n",
      " b'<1H OCEAN' b'<1H OCEAN' b'INLAND' b'NEAR BAY' b'<1H OCEAN' b'<1H OCEAN'\n",
      " b'NEAR BAY' b'INLAND' b'NEAR OCEAN' b'INLAND' b'<1H OCEAN' b'INLAND'\n",
      " b'INLAND' b'NEAR OCEAN' b'NEAR OCEAN' b'INLAND' b'INLAND' b'<1H OCEAN'\n",
      " b'<1H OCEAN' b'INLAND' b'<1H OCEAN' b'NEAR OCEAN' b'INLAND' b'NEAR OCEAN'\n",
      " b'NEAR OCEAN' b'INLAND'], shape=(32,), dtype=string)\n",
      "A batch of targets: tf.Tensor(\n",
      "[181300. 250700. 112500. 351500. 215500. 142600. 409800. 347700.  58800.\n",
      " 300900. 348800. 164100. 215300.  91700. 357400. 136800. 114000. 169100.\n",
      " 124300. 500001. 220700. 241100. 145600. 215000. 158400. 114300. 213200.\n",
      " 154300. 108600. 159100. 133400. 143400.], shape=(32,), dtype=float64)\n"
     ]
    }
   ],
   "source": [
    "for feature_batch, label_batch in train_ds.take(1):\n",
    "    print(f'All features: {list(feature_batch.keys())} \\nNumber of features: {len(feature_batch)} \\nElements per batch {len(feature_batch[\"households\"])}\\n')\n",
    "    print('A batch of households:', feature_batch['households'])\n",
    "    print('A batch of ocean_proximity:', feature_batch['ocean_proximity'])\n",
    "    print('A batch of targets:', label_batch)\n",
    "\n"
   ]
  },
  {
   "cell_type": "code",
   "execution_count": 58,
   "id": "31214484-975d-48bf-95f8-44ff703d4a80",
   "metadata": {},
   "outputs": [],
   "source": [
    "numeric_cols = ['longitude', 'latitude', 'housing_median_age', 'total_rooms',\n",
    "                'total_bedrooms', 'population', 'households', 'median_income']\n",
    "# we need to normalize the numeric cols, we make a function that returns another function which\n",
    "# is the minmax function which will use in tf.feature_column\n",
    "# minmax datascaling scales the data to be in the range from 0 - 1, it is a unity scaling normalization\n",
    "# here is the pythonic implementation. This will only be used during training\n",
    "def get_scale_function(feature):\n",
    "    def minmax(current_element):\n",
    "        mini = train[feature].min()\n",
    "        maxi = train[feature].max()\n",
    "        return (current_element - mini)/(maxi-mini)\n",
    "    return(minmax)"
   ]
  },
  {
   "cell_type": "code",
   "execution_count": 60,
   "id": "7f9c971b-4567-4bc4-a794-3445731c02d1",
   "metadata": {},
   "outputs": [
    {
     "name": "stdout",
     "output_type": "stream",
     "text": [
      "Total number of feature columns:  8\n"
     ]
    }
   ],
   "source": [
    "feature_columns = []\n",
    "for feature_name in numeric_cols:\n",
    "    scale_input_fn = get_scale_function(feature_name)\n",
    "    feature_col = fc.numeric_column(feature_name, normalizer_fn = scale_input_fn)\n",
    "    feature_columns.append(feature_col)\n",
    "print('Total number of feature columns: ', len(feature_columns))\n"
   ]
  },
  {
   "cell_type": "code",
   "execution_count": 61,
   "id": "6b072b6f-d85c-4afa-b67c-078e183a6454",
   "metadata": {},
   "outputs": [],
   "source": [
    "# this is our input layer\n",
    "feature_layer = tf.keras.layers.DenseFeatures(feature_columns, dtype='float64') \n",
    "\n",
    "model = tf.keras.Sequential([\n",
    "  feature_layer,\n",
    "  layers.Dense(12, input_dim=8, activation='relu'),\n",
    "  layers.Dense(8, activation='relu'),\n",
    "  layers.Dense(1, activation='linear',  name='median_house_value') # output layer\n",
    "])"
   ]
  },
  {
   "cell_type": "code",
   "execution_count": 65,
   "id": "bb3e7b9e-6369-422e-b235-edbdbbeca9be",
   "metadata": {},
   "outputs": [
    {
     "name": "stdout",
     "output_type": "stream",
     "text": [
      "Epoch 1/32\n",
      "WARNING:tensorflow:Layers in a Sequential model should only have a single input tensor, but we receive a <class 'dict'> input: {'longitude': <tf.Tensor 'ExpandDims_3:0' shape=(None, 1) dtype=float64>, 'latitude': <tf.Tensor 'ExpandDims_2:0' shape=(None, 1) dtype=float64>, 'housing_median_age': <tf.Tensor 'ExpandDims_1:0' shape=(None, 1) dtype=float64>, 'total_rooms': <tf.Tensor 'ExpandDims_8:0' shape=(None, 1) dtype=float64>, 'total_bedrooms': <tf.Tensor 'ExpandDims_7:0' shape=(None, 1) dtype=float64>, 'population': <tf.Tensor 'ExpandDims_6:0' shape=(None, 1) dtype=float64>, 'households': <tf.Tensor 'ExpandDims:0' shape=(None, 1) dtype=float64>, 'median_income': <tf.Tensor 'ExpandDims_4:0' shape=(None, 1) dtype=float64>, 'ocean_proximity': <tf.Tensor 'ExpandDims_5:0' shape=(None, 1) dtype=string>}\n",
      "Consider rewriting this model with the Functional API.\n",
      "WARNING:tensorflow:Layers in a Sequential model should only have a single input tensor, but we receive a <class 'dict'> input: {'longitude': <tf.Tensor 'ExpandDims_3:0' shape=(None, 1) dtype=float64>, 'latitude': <tf.Tensor 'ExpandDims_2:0' shape=(None, 1) dtype=float64>, 'housing_median_age': <tf.Tensor 'ExpandDims_1:0' shape=(None, 1) dtype=float64>, 'total_rooms': <tf.Tensor 'ExpandDims_8:0' shape=(None, 1) dtype=float64>, 'total_bedrooms': <tf.Tensor 'ExpandDims_7:0' shape=(None, 1) dtype=float64>, 'population': <tf.Tensor 'ExpandDims_6:0' shape=(None, 1) dtype=float64>, 'households': <tf.Tensor 'ExpandDims:0' shape=(None, 1) dtype=float64>, 'median_income': <tf.Tensor 'ExpandDims_4:0' shape=(None, 1) dtype=float64>, 'ocean_proximity': <tf.Tensor 'ExpandDims_5:0' shape=(None, 1) dtype=string>}\n",
      "Consider rewriting this model with the Functional API.\n",
      "388/409 [===========================>..] - ETA: 0s - loss: 31462799360.0000 - mse: 31462799360.0000WARNING:tensorflow:Layers in a Sequential model should only have a single input tensor, but we receive a <class 'dict'> input: {'longitude': <tf.Tensor 'ExpandDims_3:0' shape=(None, 1) dtype=float64>, 'latitude': <tf.Tensor 'ExpandDims_2:0' shape=(None, 1) dtype=float64>, 'housing_median_age': <tf.Tensor 'ExpandDims_1:0' shape=(None, 1) dtype=float64>, 'total_rooms': <tf.Tensor 'ExpandDims_8:0' shape=(None, 1) dtype=float64>, 'total_bedrooms': <tf.Tensor 'ExpandDims_7:0' shape=(None, 1) dtype=float64>, 'population': <tf.Tensor 'ExpandDims_6:0' shape=(None, 1) dtype=float64>, 'households': <tf.Tensor 'ExpandDims:0' shape=(None, 1) dtype=float64>, 'median_income': <tf.Tensor 'ExpandDims_4:0' shape=(None, 1) dtype=float64>, 'ocean_proximity': <tf.Tensor 'ExpandDims_5:0' shape=(None, 1) dtype=string>}\n",
      "Consider rewriting this model with the Functional API.\n",
      "409/409 [==============================] - 1s 2ms/step - loss: 31314429952.0000 - mse: 31314429952.0000 - val_loss: 31047374848.0000 - val_mse: 31047374848.0000\n",
      "Epoch 2/32\n",
      "409/409 [==============================] - 0s 1ms/step - loss: 28942809088.0000 - mse: 28942809088.0000 - val_loss: 28618854400.0000 - val_mse: 28618854400.0000\n",
      "Epoch 3/32\n",
      "409/409 [==============================] - 0s 984us/step - loss: 26557726720.0000 - mse: 26557726720.0000 - val_loss: 26202191872.0000 - val_mse: 26202191872.0000\n",
      "Epoch 4/32\n",
      "409/409 [==============================] - 0s 997us/step - loss: 24215670784.0000 - mse: 24215670784.0000 - val_loss: 23856054272.0000 - val_mse: 23856054272.0000\n",
      "Epoch 5/32\n",
      "409/409 [==============================] - 0s 1ms/step - loss: 21975228416.0000 - mse: 21975228416.0000 - val_loss: 21639139328.0000 - val_mse: 21639139328.0000\n",
      "Epoch 6/32\n",
      "409/409 [==============================] - 0s 987us/step - loss: 19893032960.0000 - mse: 19893032960.0000 - val_loss: 19606585344.0000 - val_mse: 19606585344.0000\n",
      "Epoch 7/32\n",
      "409/409 [==============================] - 0s 982us/step - loss: 18020159488.0000 - mse: 18020159488.0000 - val_loss: 17806129152.0000 - val_mse: 17806129152.0000\n",
      "Epoch 8/32\n",
      "409/409 [==============================] - 0s 1ms/step - loss: 16398312448.0000 - mse: 16398312448.0000 - val_loss: 16274400256.0000 - val_mse: 16274400256.0000\n",
      "Epoch 9/32\n",
      "409/409 [==============================] - 1s 1ms/step - loss: 15055884288.0000 - mse: 15055884288.0000 - val_loss: 15032779776.0000 - val_mse: 15032779776.0000\n",
      "Epoch 10/32\n",
      "409/409 [==============================] - 0s 991us/step - loss: 14003980288.0000 - mse: 14003980288.0000 - val_loss: 14083547136.0000 - val_mse: 14083547136.0000\n",
      "Epoch 11/32\n",
      "409/409 [==============================] - 0s 981us/step - loss: 13232988160.0000 - mse: 13232988160.0000 - val_loss: 13407194112.0000 - val_mse: 13407194112.0000\n",
      "Epoch 12/32\n",
      "409/409 [==============================] - 0s 1ms/step - loss: 12711351296.0000 - mse: 12711351296.0000 - val_loss: 12962830336.0000 - val_mse: 12962830336.0000\n",
      "Epoch 13/32\n",
      "409/409 [==============================] - 0s 998us/step - loss: 12388597760.0000 - mse: 12388597760.0000 - val_loss: 12693897216.0000 - val_mse: 12693897216.0000\n",
      "Epoch 14/32\n",
      "409/409 [==============================] - 0s 1ms/step - loss: 12204495872.0000 - mse: 12204495872.0000 - val_loss: 12539832320.0000 - val_mse: 12539832320.0000\n",
      "Epoch 15/32\n",
      "409/409 [==============================] - 0s 1ms/step - loss: 12102374400.0000 - mse: 12102374400.0000 - val_loss: 12449528832.0000 - val_mse: 12449528832.0000\n",
      "Epoch 16/32\n",
      "409/409 [==============================] - 0s 998us/step - loss: 12040294400.0000 - mse: 12040294400.0000 - val_loss: 12389032960.0000 - val_mse: 12389032960.0000\n",
      "Epoch 17/32\n",
      "409/409 [==============================] - 0s 1ms/step - loss: 11994010624.0000 - mse: 11994010624.0000 - val_loss: 12340425728.0000 - val_mse: 12340425728.0000\n",
      "Epoch 18/32\n",
      "409/409 [==============================] - 0s 1ms/step - loss: 11952522240.0000 - mse: 11952522240.0000 - val_loss: 12295938048.0000 - val_mse: 12295938048.0000\n",
      "Epoch 19/32\n",
      "409/409 [==============================] - 0s 1ms/step - loss: 11911869440.0000 - mse: 11911869440.0000 - val_loss: 12252645376.0000 - val_mse: 12252645376.0000\n",
      "Epoch 20/32\n",
      "409/409 [==============================] - 0s 1ms/step - loss: 11870958592.0000 - mse: 11870958592.0000 - val_loss: 12209546240.0000 - val_mse: 12209546240.0000\n",
      "Epoch 21/32\n",
      "409/409 [==============================] - 0s 984us/step - loss: 11829591040.0000 - mse: 11829591040.0000 - val_loss: 12166317056.0000 - val_mse: 12166317056.0000\n",
      "Epoch 22/32\n",
      "409/409 [==============================] - 0s 993us/step - loss: 11787806720.0000 - mse: 11787806720.0000 - val_loss: 12122893312.0000 - val_mse: 12122893312.0000\n",
      "Epoch 23/32\n",
      "409/409 [==============================] - 0s 1ms/step - loss: 11745690624.0000 - mse: 11745690624.0000 - val_loss: 12079260672.0000 - val_mse: 12079260672.0000\n",
      "Epoch 24/32\n",
      "409/409 [==============================] - 0s 1ms/step - loss: 11703315456.0000 - mse: 11703315456.0000 - val_loss: 12035451904.0000 - val_mse: 12035451904.0000\n",
      "Epoch 25/32\n",
      "409/409 [==============================] - 0s 1ms/step - loss: 11660726272.0000 - mse: 11660726272.0000 - val_loss: 11991479296.0000 - val_mse: 11991479296.0000\n",
      "Epoch 26/32\n",
      "409/409 [==============================] - 0s 987us/step - loss: 11617947648.0000 - mse: 11617947648.0000 - val_loss: 11947356160.0000 - val_mse: 11947356160.0000\n",
      "Epoch 27/32\n",
      "409/409 [==============================] - 0s 992us/step - loss: 11575006208.0000 - mse: 11575006208.0000 - val_loss: 11903095808.0000 - val_mse: 11903095808.0000\n",
      "Epoch 28/32\n",
      "409/409 [==============================] - 0s 982us/step - loss: 11531915264.0000 - mse: 11531915264.0000 - val_loss: 11858697216.0000 - val_mse: 11858697216.0000\n",
      "Epoch 29/32\n",
      "409/409 [==============================] - 0s 989us/step - loss: 11488665600.0000 - mse: 11488665600.0000 - val_loss: 11814167552.0000 - val_mse: 11814167552.0000\n",
      "Epoch 30/32\n",
      "409/409 [==============================] - 0s 996us/step - loss: 11445272576.0000 - mse: 11445272576.0000 - val_loss: 11769496576.0000 - val_mse: 11769496576.0000\n",
      "Epoch 31/32\n",
      "409/409 [==============================] - 0s 1ms/step - loss: 11401720832.0000 - mse: 11401720832.0000 - val_loss: 11724679168.0000 - val_mse: 11724679168.0000\n",
      "Epoch 32/32\n",
      "409/409 [==============================] - 0s 1000us/step - loss: 11358003200.0000 - mse: 11358003200.0000 - val_loss: 11679710208.0000 - val_mse: 11679710208.0000\n"
     ]
    }
   ],
   "source": [
    "# compile and train\n",
    "# Model compile\n",
    "model.compile(optimizer='adam',\n",
    "              loss='mse',\n",
    "              metrics=['mse'])\n",
    "\n",
    "# Model Fit\n",
    "history = model.fit(train_ds,\n",
    "                    validation_data=val_ds,\n",
    "                    epochs=32)"
   ]
  },
  {
   "cell_type": "code",
   "execution_count": 67,
   "id": "559c918b-76c8-4705-b34d-df245ab68cdd",
   "metadata": {},
   "outputs": [],
   "source": [
    "def plot_curves(history, metrics):\n",
    "    nrows = 1\n",
    "    ncols = 2\n",
    "    fig = plt.figure(figsize=(10, 5))\n",
    "\n",
    "    for idx, key in enumerate(metrics):  \n",
    "        ax = fig.add_subplot(nrows, ncols, idx+1)\n",
    "        plt.plot(history.history[key])\n",
    "        plt.plot(history.history['val_{}'.format(key)])\n",
    "        plt.title('model {}'.format(key))\n",
    "        plt.ylabel(key)\n",
    "        plt.xlabel('epoch')\n",
    "        plt.legend(['train', 'validation'], loc='upper left');\n",
    "        plt.grid()"
   ]
  },
  {
   "cell_type": "code",
   "execution_count": 68,
   "id": "078203fe-7c88-45a5-a5d2-e7b3965845a7",
   "metadata": {},
   "outputs": [
    {
     "data": {
      "image/png": "[encoded data removed]",
      "text/plain": [
       "<Figure size 720x360 with 2 Axes>"
      ]
     },
     "metadata": {
      "needs_background": "light"
     },
     "output_type": "display_data"
    }
   ],
   "source": [
    "plot_curves(history, ['loss', 'mse'])\n"
   ]
  },
  {
   "cell_type": "code",
   "execution_count": 69,
   "id": "8059a737-3bf2-42f4-b49a-15c53e0a2ef9",
   "metadata": {},
   "outputs": [
    {
     "data": {
      "text/html": [
       "<div>\n",
       "<style scoped>\n",
       "    .dataframe tbody tr th:only-of-type {\n",
       "        vertical-align: middle;\n",
       "    }\n",
       "\n",
       "    .dataframe tbody tr th {\n",
       "        vertical-align: top;\n",
       "    }\n",
       "\n",
       "    .dataframe thead th {\n",
       "        text-align: right;\n",
       "    }\n",
       "</style>\n",
       "<table border=\"1\" class=\"dataframe\">\n",
       "  <thead>\n",
       "    <tr style=\"text-align: right;\">\n",
       "      <th></th>\n",
       "      <th>longitude</th>\n",
       "      <th>latitude</th>\n",
       "      <th>housing_median_age</th>\n",
       "      <th>total_rooms</th>\n",
       "      <th>total_bedrooms</th>\n",
       "      <th>population</th>\n",
       "      <th>households</th>\n",
       "      <th>median_income</th>\n",
       "      <th>median_house_value</th>\n",
       "    </tr>\n",
       "  </thead>\n",
       "  <tbody>\n",
       "    <tr>\n",
       "      <th>count</th>\n",
       "      <td>4087.00000</td>\n",
       "      <td>4087.000000</td>\n",
       "      <td>4087.000000</td>\n",
       "      <td>4087.000000</td>\n",
       "      <td>4087.000000</td>\n",
       "      <td>4087.000000</td>\n",
       "      <td>4087.000000</td>\n",
       "      <td>4087.000000</td>\n",
       "      <td>4087.000000</td>\n",
       "    </tr>\n",
       "    <tr>\n",
       "      <th>mean</th>\n",
       "      <td>-119.57492</td>\n",
       "      <td>35.607255</td>\n",
       "      <td>28.549547</td>\n",
       "      <td>2670.996330</td>\n",
       "      <td>540.298997</td>\n",
       "      <td>1421.934426</td>\n",
       "      <td>501.468314</td>\n",
       "      <td>3.916259</td>\n",
       "      <td>211431.102031</td>\n",
       "    </tr>\n",
       "    <tr>\n",
       "      <th>std</th>\n",
       "      <td>1.98374</td>\n",
       "      <td>2.103225</td>\n",
       "      <td>12.666084</td>\n",
       "      <td>2350.670833</td>\n",
       "      <td>440.251448</td>\n",
       "      <td>1143.860029</td>\n",
       "      <td>397.709464</td>\n",
       "      <td>1.919097</td>\n",
       "      <td>117113.541865</td>\n",
       "    </tr>\n",
       "    <tr>\n",
       "      <th>min</th>\n",
       "      <td>-124.18000</td>\n",
       "      <td>32.550000</td>\n",
       "      <td>2.000000</td>\n",
       "      <td>2.000000</td>\n",
       "      <td>2.000000</td>\n",
       "      <td>3.000000</td>\n",
       "      <td>2.000000</td>\n",
       "      <td>0.499900</td>\n",
       "      <td>14999.000000</td>\n",
       "    </tr>\n",
       "    <tr>\n",
       "      <th>25%</th>\n",
       "      <td>-121.79000</td>\n",
       "      <td>33.930000</td>\n",
       "      <td>18.000000</td>\n",
       "      <td>1411.500000</td>\n",
       "      <td>290.000000</td>\n",
       "      <td>773.000000</td>\n",
       "      <td>276.000000</td>\n",
       "      <td>2.600000</td>\n",
       "      <td>122000.000000</td>\n",
       "    </tr>\n",
       "    <tr>\n",
       "      <th>50%</th>\n",
       "      <td>-118.48000</td>\n",
       "      <td>34.250000</td>\n",
       "      <td>29.000000</td>\n",
       "      <td>2122.000000</td>\n",
       "      <td>431.000000</td>\n",
       "      <td>1150.000000</td>\n",
       "      <td>408.000000</td>\n",
       "      <td>3.575000</td>\n",
       "      <td>183800.000000</td>\n",
       "    </tr>\n",
       "    <tr>\n",
       "      <th>75%</th>\n",
       "      <td>-118.02000</td>\n",
       "      <td>37.710000</td>\n",
       "      <td>37.000000</td>\n",
       "      <td>3149.000000</td>\n",
       "      <td>645.000000</td>\n",
       "      <td>1704.500000</td>\n",
       "      <td>597.000000</td>\n",
       "      <td>4.795750</td>\n",
       "      <td>271150.000000</td>\n",
       "    </tr>\n",
       "    <tr>\n",
       "      <th>max</th>\n",
       "      <td>-114.55000</td>\n",
       "      <td>41.860000</td>\n",
       "      <td>52.000000</td>\n",
       "      <td>39320.000000</td>\n",
       "      <td>6210.000000</td>\n",
       "      <td>16305.000000</td>\n",
       "      <td>5358.000000</td>\n",
       "      <td>15.000100</td>\n",
       "      <td>500001.000000</td>\n",
       "    </tr>\n",
       "  </tbody>\n",
       "</table>\n",
       "</div>"
      ],
      "text/plain": [
       "        longitude     latitude  housing_median_age   total_rooms  \\\n",
       "count  4087.00000  4087.000000         4087.000000   4087.000000   \n",
       "mean   -119.57492    35.607255           28.549547   2670.996330   \n",
       "std       1.98374     2.103225           12.666084   2350.670833   \n",
       "min    -124.18000    32.550000            2.000000      2.000000   \n",
       "25%    -121.79000    33.930000           18.000000   1411.500000   \n",
       "50%    -118.48000    34.250000           29.000000   2122.000000   \n",
       "75%    -118.02000    37.710000           37.000000   3149.000000   \n",
       "max    -114.55000    41.860000           52.000000  39320.000000   \n",
       "\n",
       "       total_bedrooms    population   households  median_income  \\\n",
       "count     4087.000000   4087.000000  4087.000000    4087.000000   \n",
       "mean       540.298997   1421.934426   501.468314       3.916259   \n",
       "std        440.251448   1143.860029   397.709464       1.919097   \n",
       "min          2.000000      3.000000     2.000000       0.499900   \n",
       "25%        290.000000    773.000000   276.000000       2.600000   \n",
       "50%        431.000000   1150.000000   408.000000       3.575000   \n",
       "75%        645.000000   1704.500000   597.000000       4.795750   \n",
       "max       6210.000000  16305.000000  5358.000000      15.000100   \n",
       "\n",
       "       median_house_value  \n",
       "count         4087.000000  \n",
       "mean        211431.102031  \n",
       "std         117113.541865  \n",
       "min          14999.000000  \n",
       "25%         122000.000000  \n",
       "50%         183800.000000  \n",
       "75%         271150.000000  \n",
       "max         500001.000000  "
      ]
     },
     "execution_count": 69,
     "metadata": {},
     "output_type": "execute_result"
    }
   ],
   "source": [
    "# load test data\n",
    "test_data = pd.read_csv(test_path)\n",
    "test_data.describe()"
   ]
  },
  {
   "cell_type": "code",
   "execution_count": 73,
   "id": "17a930ce-2ecb-4cd5-b14a-2d3303864c4d",
   "metadata": {},
   "outputs": [],
   "source": [
    "# make a dataset from the pandas dataframe\n",
    "def test_dataframe_to_ds(features, batch_size=256):\n",
    "    # we dont have labels this time \n",
    "    return tf.data.Dataset.from_tensor_slices(dict(features)).batch(batch_size)\n",
    "test_ds = test_dataframe_to_ds(dict(test_data))\n"
   ]
  },
  {
   "cell_type": "code",
   "execution_count": 74,
   "id": "2f10a760-5478-4d62-a918-27e1bdbae2f9",
   "metadata": {},
   "outputs": [
    {
     "name": "stdout",
     "output_type": "stream",
     "text": [
      "WARNING:tensorflow:Layers in a Sequential model should only have a single input tensor, but we receive a <class 'dict'> input: {'longitude': <tf.Tensor 'ExpandDims_3:0' shape=(None, 1) dtype=float64>, 'latitude': <tf.Tensor 'ExpandDims_2:0' shape=(None, 1) dtype=float64>, 'housing_median_age': <tf.Tensor 'ExpandDims_1:0' shape=(None, 1) dtype=float64>, 'total_rooms': <tf.Tensor 'ExpandDims_9:0' shape=(None, 1) dtype=float64>, 'total_bedrooms': <tf.Tensor 'ExpandDims_8:0' shape=(None, 1) dtype=float64>, 'population': <tf.Tensor 'ExpandDims_7:0' shape=(None, 1) dtype=float64>, 'households': <tf.Tensor 'ExpandDims:0' shape=(None, 1) dtype=float64>, 'median_income': <tf.Tensor 'ExpandDims_5:0' shape=(None, 1) dtype=float64>, 'median_house_value': <tf.Tensor 'ExpandDims_4:0' shape=(None, 1) dtype=float64>, 'ocean_proximity': <tf.Tensor 'ExpandDims_6:0' shape=(None, 1) dtype=string>}\n",
      "Consider rewriting this model with the Functional API.\n"
     ]
    },
    {
     "data": {
      "text/plain": [
       "array([[174445.36],\n",
       "       [193625.17],\n",
       "       [221210.02],\n",
       "       ...,\n",
       "       [195842.55],\n",
       "       [226151.67],\n",
       "       [201061.02]], dtype=float32)"
      ]
     },
     "execution_count": 74,
     "metadata": {},
     "output_type": "execute_result"
    }
   ],
   "source": [
    "predicted_median_house_value = model.predict(test_ds)\n",
    "predicted_median_house_value"
   ]
  },
  {
   "cell_type": "code",
   "execution_count": 75,
   "id": "c7e91313-6742-4124-8506-5d1e7bdd51c5",
   "metadata": {},
   "outputs": [
    {
     "name": "stdout",
     "output_type": "stream",
     "text": [
      "WARNING:tensorflow:Layers in a Sequential model should only have a single input tensor, but we receive a <class 'dict'> input: {'longitude': <tf.Tensor 'ExpandDims_3:0' shape=(1, 1) dtype=float32>, 'latitude': <tf.Tensor 'ExpandDims_2:0' shape=(1, 1) dtype=float32>, 'housing_median_age': <tf.Tensor 'ExpandDims_1:0' shape=(1, 1) dtype=float32>, 'total_rooms': <tf.Tensor 'ExpandDims_8:0' shape=(1, 1) dtype=float32>, 'total_bedrooms': <tf.Tensor 'ExpandDims_7:0' shape=(1, 1) dtype=float32>, 'population': <tf.Tensor 'ExpandDims_6:0' shape=(1, 1) dtype=float32>, 'households': <tf.Tensor 'ExpandDims:0' shape=(1, 1) dtype=float32>, 'median_income': <tf.Tensor 'ExpandDims_4:0' shape=(1, 1) dtype=float32>, 'ocean_proximity': <tf.Tensor 'ExpandDims_5:0' shape=(1, 1) dtype=string>}\n",
      "Consider rewriting this model with the Functional API.\n"
     ]
    },
    {
     "data": {
      "text/plain": [
       "array([[227055.98]], dtype=float32)"
      ]
     },
     "execution_count": 75,
     "metadata": {},
     "output_type": "execute_result"
    }
   ],
   "source": [
    "# lets do one manuel prediction\n",
    "\n",
    "# Ocean_proximity is INLAND\n",
    "model.predict({\n",
    "    'longitude': tf.convert_to_tensor([-121.86]),\n",
    "    'latitude': tf.convert_to_tensor([39.78]),\n",
    "    'housing_median_age': tf.convert_to_tensor([12.0]),\n",
    "    'total_rooms': tf.convert_to_tensor([7653.0]),\n",
    "    'total_bedrooms': tf.convert_to_tensor([1578.0]),\n",
    "    'population': tf.convert_to_tensor([3628.0]),\n",
    "    'households': tf.convert_to_tensor([1494.0]),\n",
    "    'median_income': tf.convert_to_tensor([3.0905]),\n",
    "    'ocean_proximity': tf.convert_to_tensor(['INLAND'])\n",
    "}, steps=1)"
   ]
  },
  {
   "cell_type": "markdown",
   "id": "5a779b2d-1121-4a9d-8778-c01e799aab2c",
   "metadata": {},
   "source": [
    "# now that we have a baseline lets do some feature engineering to improve the model"
   ]
  },
  {
   "cell_type": "code",
   "execution_count": 76,
   "id": "bfe7e51d-6418-4264-a603-3b0c8930db7b",
   "metadata": {},
   "outputs": [],
   "source": [
    "numeric_cols = ['longitude', 'latitude', 'housing_median_age', 'total_rooms',\n",
    "                'total_bedrooms', 'population', 'households', 'median_income']\n",
    "\n",
    "bucketized_cols = ['housing_median_age']\n",
    "\n",
    "# indicator columns,Categorical features\n",
    "categorical_cols = ['ocean_proximity']"
   ]
  },
  {
   "cell_type": "code",
   "execution_count": 78,
   "id": "675d807a-f818-4797-abcc-f7ed5c071ffe",
   "metadata": {},
   "outputs": [
    {
     "name": "stdout",
     "output_type": "stream",
     "text": [
      "Total number of feature columns:  8\n"
     ]
    }
   ],
   "source": [
    "feature_columns_2 = []\n",
    "for feature_name in numeric_cols:\n",
    "    scale_input_fn = get_scale_function(feature_name)\n",
    "    feature_col = fc.numeric_column(feature_name, normalizer_fn = scale_input_fn)\n",
    "    feature_columns_2.append(feature_col)\n",
    "print('Total number of feature columns: ', len(feature_columns_2))"
   ]
  },
  {
   "cell_type": "code",
   "execution_count": 79,
   "id": "1e178b23-b7d5-4f85-b7c4-ec1b597b5588",
   "metadata": {},
   "outputs": [],
   "source": [
    "# now instead of feading the houseing_median_age as a raw number we want to catogerize it\n",
    "# ie put it in different brackets, so houses younger than 10yrs, and houses btwn 10 and 20 yrs, 60yers plus and so on\n",
    "# so we use the bucketized column function\n",
    "age = fc.numeric_column(\"housing_median_age\")\n",
    "age_buckets = fc.bucketized_column(age, boundaries=[10, 20, 30, 40, 50, 60, 80, 100])\n",
    "feature_columns_2.append(age_buckets)\n"
   ]
  },
  {
   "cell_type": "code",
   "execution_count": 80,
   "id": "ab34ee23-3063-4fac-b168-90adabb68f4a",
   "metadata": {},
   "outputs": [
    {
     "name": "stdout",
     "output_type": "stream",
     "text": [
      "Total number of feature columns:  10\n"
     ]
    }
   ],
   "source": [
    "# feature crosses is to combine multiple features into a single feature\n",
    "# we create a feature cross of 'housing_median_age' and 'ocean_proximity'.\n",
    "\n",
    "vocabulary = housing_df['ocean_proximity'].unique()\n",
    "ocean_proximity = fc.categorical_column_with_vocabulary_list('ocean_proximity',\n",
    "                                                             vocabulary)\n",
    "crossed_feature = fc.crossed_column([age_buckets, ocean_proximity],\n",
    "                                    hash_bucket_size=1000)\n",
    "crossed_feature = fc.indicator_column(crossed_feature)\n",
    "feature_columns_2.append(crossed_feature)\n",
    "\n",
    "print('Total number of feature columns: ', len(feature_columns_2))\n"
   ]
  },
  {
   "cell_type": "code",
   "execution_count": 82,
   "id": "7ed306f5-914e-4b03-9dd1-0e0be919cf6c",
   "metadata": {},
   "outputs": [
    {
     "name": "stdout",
     "output_type": "stream",
     "text": [
      "Epoch 1/32\n",
      "WARNING:tensorflow:Layers in a Sequential model should only have a single input tensor, but we receive a <class 'dict'> input: {'longitude': <tf.Tensor 'ExpandDims_3:0' shape=(None, 1) dtype=float64>, 'latitude': <tf.Tensor 'ExpandDims_2:0' shape=(None, 1) dtype=float64>, 'housing_median_age': <tf.Tensor 'ExpandDims_1:0' shape=(None, 1) dtype=float64>, 'total_rooms': <tf.Tensor 'ExpandDims_8:0' shape=(None, 1) dtype=float64>, 'total_bedrooms': <tf.Tensor 'ExpandDims_7:0' shape=(None, 1) dtype=float64>, 'population': <tf.Tensor 'ExpandDims_6:0' shape=(None, 1) dtype=float64>, 'households': <tf.Tensor 'ExpandDims:0' shape=(None, 1) dtype=float64>, 'median_income': <tf.Tensor 'ExpandDims_4:0' shape=(None, 1) dtype=float64>, 'ocean_proximity': <tf.Tensor 'ExpandDims_5:0' shape=(None, 1) dtype=string>}\n",
      "Consider rewriting this model with the Functional API.\n",
      "WARNING:tensorflow:Layers in a Sequential model should only have a single input tensor, but we receive a <class 'dict'> input: {'longitude': <tf.Tensor 'ExpandDims_3:0' shape=(None, 1) dtype=float64>, 'latitude': <tf.Tensor 'ExpandDims_2:0' shape=(None, 1) dtype=float64>, 'housing_median_age': <tf.Tensor 'ExpandDims_1:0' shape=(None, 1) dtype=float64>, 'total_rooms': <tf.Tensor 'ExpandDims_8:0' shape=(None, 1) dtype=float64>, 'total_bedrooms': <tf.Tensor 'ExpandDims_7:0' shape=(None, 1) dtype=float64>, 'population': <tf.Tensor 'ExpandDims_6:0' shape=(None, 1) dtype=float64>, 'households': <tf.Tensor 'ExpandDims:0' shape=(None, 1) dtype=float64>, 'median_income': <tf.Tensor 'ExpandDims_4:0' shape=(None, 1) dtype=float64>, 'ocean_proximity': <tf.Tensor 'ExpandDims_5:0' shape=(None, 1) dtype=string>}\n",
      "Consider rewriting this model with the Functional API.\n",
      "404/409 [============================>.] - ETA: 0s - loss: 55326343168.0000 - mse: 55326343168.0000WARNING:tensorflow:Layers in a Sequential model should only have a single input tensor, but we receive a <class 'dict'> input: {'longitude': <tf.Tensor 'ExpandDims_3:0' shape=(None, 1) dtype=float64>, 'latitude': <tf.Tensor 'ExpandDims_2:0' shape=(None, 1) dtype=float64>, 'housing_median_age': <tf.Tensor 'ExpandDims_1:0' shape=(None, 1) dtype=float64>, 'total_rooms': <tf.Tensor 'ExpandDims_8:0' shape=(None, 1) dtype=float64>, 'total_bedrooms': <tf.Tensor 'ExpandDims_7:0' shape=(None, 1) dtype=float64>, 'population': <tf.Tensor 'ExpandDims_6:0' shape=(None, 1) dtype=float64>, 'households': <tf.Tensor 'ExpandDims:0' shape=(None, 1) dtype=float64>, 'median_income': <tf.Tensor 'ExpandDims_4:0' shape=(None, 1) dtype=float64>, 'ocean_proximity': <tf.Tensor 'ExpandDims_5:0' shape=(None, 1) dtype=string>}\n",
      "Consider rewriting this model with the Functional API.\n",
      "409/409 [==============================] - 1s 2ms/step - loss: 55287988224.0000 - mse: 55287988224.0000 - val_loss: 56530751488.0000 - val_mse: 56530751488.0000\n",
      "Epoch 2/32\n",
      "409/409 [==============================] - 1s 1ms/step - loss: 55229243392.0000 - mse: 55229243392.0000 - val_loss: 56410398720.0000 - val_mse: 56410398720.0000\n",
      "Epoch 3/32\n",
      "409/409 [==============================] - 1s 1ms/step - loss: 55021756416.0000 - mse: 55021756416.0000 - val_loss: 56099999744.0000 - val_mse: 56099999744.0000\n",
      "Epoch 4/32\n",
      "409/409 [==============================] - 1s 1ms/step - loss: 54601646080.0000 - mse: 54601646080.0000 - val_loss: 55553339392.0000 - val_mse: 55553339392.0000\n",
      "Epoch 5/32\n",
      "409/409 [==============================] - 1s 1ms/step - loss: 53934002176.0000 - mse: 53934002176.0000 - val_loss: 54744440832.0000 - val_mse: 54744440832.0000\n",
      "Epoch 6/32\n",
      "409/409 [==============================] - 1s 1ms/step - loss: 53000560640.0000 - mse: 53000560640.0000 - val_loss: 53661622272.0000 - val_mse: 53661622272.0000\n",
      "Epoch 7/32\n",
      "409/409 [==============================] - 1s 1ms/step - loss: 51795288064.0000 - mse: 51795288064.0000 - val_loss: 52303511552.0000 - val_mse: 52303511552.0000\n",
      "Epoch 8/32\n",
      "409/409 [==============================] - 1s 1ms/step - loss: 50321051648.0000 - mse: 50321051648.0000 - val_loss: 50676895744.0000 - val_mse: 50676895744.0000\n",
      "Epoch 9/32\n",
      "409/409 [==============================] - 1s 1ms/step - loss: 48588083200.0000 - mse: 48588083200.0000 - val_loss: 48795316224.0000 - val_mse: 48795316224.0000\n",
      "Epoch 10/32\n",
      "409/409 [==============================] - 1s 1ms/step - loss: 46613172224.0000 - mse: 46613172224.0000 - val_loss: 46678499328.0000 - val_mse: 46678499328.0000\n",
      "Epoch 11/32\n",
      "409/409 [==============================] - 1s 1ms/step - loss: 44418797568.0000 - mse: 44418797568.0000 - val_loss: 44351905792.0000 - val_mse: 44351905792.0000\n",
      "Epoch 12/32\n",
      "409/409 [==============================] - 1s 1ms/step - loss: 42033254400.0000 - mse: 42033254400.0000 - val_loss: 41846710272.0000 - val_mse: 41846710272.0000\n",
      "Epoch 13/32\n",
      "409/409 [==============================] - 1s 1ms/step - loss: 39490322432.0000 - mse: 39490322432.0000 - val_loss: 39199518720.0000 - val_mse: 39199518720.0000\n",
      "Epoch 14/32\n",
      "409/409 [==============================] - 1s 1ms/step - loss: 36829126656.0000 - mse: 36829126656.0000 - val_loss: 36452139008.0000 - val_mse: 36452139008.0000\n",
      "Epoch 15/32\n",
      "409/409 [==============================] - 1s 1ms/step - loss: 34093717504.0000 - mse: 34093717504.0000 - val_loss: 33651243008.0000 - val_mse: 33651243008.0000\n",
      "Epoch 16/32\n",
      "409/409 [==============================] - 1s 1ms/step - loss: 31332558848.0000 - mse: 31332558848.0000 - val_loss: 30847518720.0000 - val_mse: 30847518720.0000\n",
      "Epoch 17/32\n",
      "409/409 [==============================] - 1s 1ms/step - loss: 28597608448.0000 - mse: 28597608448.0000 - val_loss: 28094605312.0000 - val_mse: 28094605312.0000\n",
      "Epoch 18/32\n",
      "409/409 [==============================] - 1s 1ms/step - loss: 25942857728.0000 - mse: 25942857728.0000 - val_loss: 25447546880.0000 - val_mse: 25447546880.0000\n",
      "Epoch 19/32\n",
      "409/409 [==============================] - 1s 2ms/step - loss: 23422502912.0000 - mse: 23422502912.0000 - val_loss: 22960355328.0000 - val_mse: 22960355328.0000\n",
      "Epoch 20/32\n",
      "409/409 [==============================] - 1s 1ms/step - loss: 21088131072.0000 - mse: 21088131072.0000 - val_loss: 20683096064.0000 - val_mse: 20683096064.0000\n",
      "Epoch 21/32\n",
      "409/409 [==============================] - 1s 2ms/step - loss: 18985453568.0000 - mse: 18985453568.0000 - val_loss: 18658252800.0000 - val_mse: 18658252800.0000\n",
      "Epoch 22/32\n",
      "409/409 [==============================] - 1s 1ms/step - loss: 17150660608.0000 - mse: 17150660608.0000 - val_loss: 16916994048.0000 - val_mse: 16916994048.0000\n",
      "Epoch 23/32\n",
      "409/409 [==============================] - 1s 1ms/step - loss: 15607062528.0000 - mse: 15607062528.0000 - val_loss: 15476325376.0000 - val_mse: 15476325376.0000\n",
      "Epoch 24/32\n",
      "409/409 [==============================] - 1s 1ms/step - loss: 14362735616.0000 - mse: 14362735616.0000 - val_loss: 14337048576.0000 - val_mse: 14337048576.0000\n",
      "Epoch 25/32\n",
      "409/409 [==============================] - 1s 2ms/step - loss: 13408642048.0000 - mse: 13408642048.0000 - val_loss: 13482160128.0000 - val_mse: 13482160128.0000\n",
      "Epoch 26/32\n",
      "409/409 [==============================] - 1s 1ms/step - loss: 12717398016.0000 - mse: 12717398016.0000 - val_loss: 12876015616.0000 - val_mse: 12876015616.0000\n",
      "Epoch 27/32\n",
      "409/409 [==============================] - 1s 1ms/step - loss: 12244123648.0000 - mse: 12244123648.0000 - val_loss: 12467257344.0000 - val_mse: 12467257344.0000\n",
      "Epoch 28/32\n",
      "409/409 [==============================] - 1s 1ms/step - loss: 11932496896.0000 - mse: 11932496896.0000 - val_loss: 12197378048.0000 - val_mse: 12197378048.0000\n",
      "Epoch 29/32\n",
      "409/409 [==============================] - 1s 1ms/step - loss: 11725617152.0000 - mse: 11725617152.0000 - val_loss: 12012688384.0000 - val_mse: 12012688384.0000\n",
      "Epoch 30/32\n",
      "409/409 [==============================] - 1s 1ms/step - loss: 11577112576.0000 - mse: 11577112576.0000 - val_loss: 11873504256.0000 - val_mse: 11873504256.0000\n",
      "Epoch 31/32\n",
      "409/409 [==============================] - 1s 1ms/step - loss: 11456707584.0000 - mse: 11456707584.0000 - val_loss: 11756151808.0000 - val_mse: 11756151808.0000\n",
      "Epoch 32/32\n",
      "409/409 [==============================] - 1s 2ms/step - loss: 11348521984.0000 - mse: 11348521984.0000 - val_loss: 11648881664.0000 - val_mse: 11648881664.0000\n"
     ]
    }
   ],
   "source": [
    "# Model create\n",
    "# `tf.keras.layers.DenseFeatures()` is a layer that produces a dense Tensor based on given feature_columns.\n",
    "feature_layer = tf.keras.layers.DenseFeatures(feature_columns_2,\n",
    "                                              dtype='float64')\n",
    "\n",
    "# `tf.keras.Sequential()` groups a linear stack of layers into a tf.keras.Model.\n",
    "model = tf.keras.Sequential([\n",
    "  feature_layer,\n",
    "  layers.Dense(12, input_dim=8, activation='relu'),\n",
    "  layers.Dense(8, activation='relu'),\n",
    "  layers.Dense(1, activation='linear',  name='median_house_value')\n",
    "])\n",
    "\n",
    "# Model compile\n",
    "model.compile(optimizer='adam',\n",
    "              loss='mse',\n",
    "              metrics=['mse'])\n",
    "\n",
    "# Model Fit\n",
    "history = model.fit(train_ds,\n",
    "                    validation_data=val_ds,\n",
    "                    epochs=32)"
   ]
  },
  {
   "cell_type": "code",
   "execution_count": 83,
   "id": "05cc7f3a-129a-4179-a132-b5710d6a498a",
   "metadata": {},
   "outputs": [
    {
     "name": "stdout",
     "output_type": "stream",
     "text": [
      "409/409 [==============================] - 0s 956us/step - loss: 11295094784.0000 - mse: 11295094784.0000\n",
      "Mean Squared Error 11295094784.0\n"
     ]
    }
   ],
   "source": [
    "\n",
    "loss, mse = model.evaluate(train_ds)\n",
    "print(\"Mean Squared Error\", mse)"
   ]
  },
  {
   "cell_type": "code",
   "execution_count": 84,
   "id": "fc30b5da-b3c5-4d47-8284-f201efbd991f",
   "metadata": {},
   "outputs": [
    {
     "data": {
      "image/png": "[encoded data removed]",
      "text/plain": [
       "<Figure size 720x360 with 2 Axes>"
      ]
     },
     "metadata": {
      "needs_background": "light"
     },
     "output_type": "display_data"
    }
   ],
   "source": [
    "plot_curves(history, ['loss', 'mse'])\n"
   ]
  },
  {
   "cell_type": "code",
   "execution_count": 85,
   "id": "a7e36fcb-17a2-4b41-aa3e-bd9e2e6cbcef",
   "metadata": {},
   "outputs": [
    {
     "name": "stdout",
     "output_type": "stream",
     "text": [
      "WARNING:tensorflow:Layers in a Sequential model should only have a single input tensor, but we receive a <class 'dict'> input: {'longitude': <tf.Tensor 'ExpandDims_3:0' shape=(1, 1) dtype=float32>, 'latitude': <tf.Tensor 'ExpandDims_2:0' shape=(1, 1) dtype=float32>, 'housing_median_age': <tf.Tensor 'ExpandDims_1:0' shape=(1, 1) dtype=float32>, 'total_rooms': <tf.Tensor 'ExpandDims_8:0' shape=(1, 1) dtype=float32>, 'total_bedrooms': <tf.Tensor 'ExpandDims_7:0' shape=(1, 1) dtype=float32>, 'population': <tf.Tensor 'ExpandDims_6:0' shape=(1, 1) dtype=float32>, 'households': <tf.Tensor 'ExpandDims:0' shape=(1, 1) dtype=float32>, 'median_income': <tf.Tensor 'ExpandDims_4:0' shape=(1, 1) dtype=float32>, 'ocean_proximity': <tf.Tensor 'ExpandDims_5:0' shape=(1, 1) dtype=string>}\n",
      "Consider rewriting this model with the Functional API.\n"
     ]
    },
    {
     "data": {
      "text/plain": [
       "array([[224429.27]], dtype=float32)"
      ]
     },
     "execution_count": 85,
     "metadata": {},
     "output_type": "execute_result"
    }
   ],
   "source": [
    "model.predict({\n",
    "    'longitude': tf.convert_to_tensor([-122.43]),\n",
    "    'latitude': tf.convert_to_tensor([37.63]),\n",
    "    'housing_median_age': tf.convert_to_tensor([34.0]),\n",
    "    'total_rooms': tf.convert_to_tensor([4135.0]),\n",
    "    'total_bedrooms': tf.convert_to_tensor([687.0]),\n",
    "    'population': tf.convert_to_tensor([2154.0]),\n",
    "    'households': tf.convert_to_tensor([742.0]),\n",
    "    'median_income': tf.convert_to_tensor([4.9732]),\n",
    "    'ocean_proximity': tf.convert_to_tensor(['NEAR OCEAN'])\n",
    "}, steps=1)"
   ]
  },
  {
   "cell_type": "code",
   "execution_count": null,
   "id": "b0a955e7-00f8-4fbc-b54e-18351ceed660",
   "metadata": {},
   "outputs": [],
   "source": []
  }
 ],
 "metadata": {
  "kernelspec": {
   "display_name": "Python 3",
   "language": "python",
   "name": "python3"
  },
  "language_info": {
   "codemirror_mode": {
    "name": "ipython",
    "version": 3
   },
   "file_extension": ".py",
   "mimetype": "text/x-python",
   "name": "python",
   "nbconvert_exporter": "python",
   "pygments_lexer": "ipython3",
   "version": "3.9.6"
  }
 },
 "nbformat": 4,
 "nbformat_minor": 5
}
