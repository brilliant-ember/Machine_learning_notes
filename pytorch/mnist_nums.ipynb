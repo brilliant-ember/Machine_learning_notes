{
 "metadata": {
  "language_info": {
   "codemirror_mode": {
    "name": "ipython",
    "version": 3
   },
   "file_extension": ".py",
   "mimetype": "text/x-python",
   "name": "python",
   "nbconvert_exporter": "python",
   "pygments_lexer": "ipython3",
   "version": "3.9.4"
  },
  "orig_nbformat": 2,
  "kernelspec": {
   "name": "python394jvsc74a57bd0aee8b7b246df8f9039afb4144a1f6fd8d2ca17a180786b69acc140d282b71a49",
   "display_name": "Python 3.9.4 64-bit"
  },
  "metadata": {
   "interpreter": {
    "hash": "aee8b7b246df8f9039afb4144a1f6fd8d2ca17a180786b69acc140d282b71a49"
   }
  }
 },
 "nbformat": 4,
 "nbformat_minor": 2,
 "cells": [
  {
   "source": [
    "# Introduction \n",
    "following this tutorial https://pytorch.org/tutorials/beginner/basics/quickstart_tutorial.html"
   ],
   "cell_type": "markdown",
   "metadata": {}
  },
  {
   "cell_type": "code",
   "execution_count": 1,
   "metadata": {},
   "outputs": [],
   "source": [
    "import torch\n",
    "from torch import nn\n",
    "from torch.utils.data import DataLoader\n",
    "from torchvision import datasets\n",
    "from torchvision.transforms import ToTensor, Lambda, Compose\n",
    "import matplotlib.pyplot as plt"
   ]
  },
  {
   "cell_type": "code",
   "execution_count": 2,
   "metadata": {},
   "outputs": [],
   "source": [
    "training_data = datasets.FashionMNIST(\n",
    "    root=\"data\",\n",
    "    train=True,\n",
    "    download=True,\n",
    "    transform=ToTensor(),\n",
    ")\n",
    "# Download test data from open datasets.\n",
    "test_data = datasets.FashionMNIST(\n",
    "    root=\"data\",\n",
    "    train=False,\n",
    "    download=True,\n",
    "    transform=ToTensor(),\n",
    ")"
   ]
  },
  {
   "cell_type": "code",
   "execution_count": 10,
   "metadata": {},
   "outputs": [
    {
     "output_type": "stream",
     "name": "stdout",
     "text": [
      "Shape of X [num_elems, Channels, Height, Width]:  torch.Size([64, 1, 28, 28])\nShape of y:  torch.Size([64]) torch.int64\n the x , or features\ntensor([[[[0., 0., 0.,  ..., 0., 0., 0.],\n          [0., 0., 0.,  ..., 0., 0., 0.],\n          [0., 0., 0.,  ..., 0., 0., 0.],\n          ...,\n          [0., 0., 0.,  ..., 0., 0., 0.],\n          [0., 0., 0.,  ..., 0., 0., 0.],\n          [0., 0., 0.,  ..., 0., 0., 0.]]],\n\n\n        [[[0., 0., 0.,  ..., 0., 0., 0.],\n          [0., 0., 0.,  ..., 0., 0., 0.],\n          [0., 0., 0.,  ..., 0., 0., 0.],\n          ...,\n          [0., 0., 0.,  ..., 0., 0., 0.],\n          [0., 0., 0.,  ..., 0., 0., 0.],\n          [0., 0., 0.,  ..., 0., 0., 0.]]],\n\n\n        [[[0., 0., 0.,  ..., 0., 0., 0.],\n          [0., 0., 0.,  ..., 0., 0., 0.],\n          [0., 0., 0.,  ..., 0., 0., 0.],\n          ...,\n          [0., 0., 0.,  ..., 0., 0., 0.],\n          [0., 0., 0.,  ..., 0., 0., 0.],\n          [0., 0., 0.,  ..., 0., 0., 0.]]],\n\n\n        ...,\n\n\n        [[[0., 0., 0.,  ..., 0., 0., 0.],\n          [0., 0., 0.,  ..., 0., 0., 0.],\n          [0., 0., 0.,  ..., 0., 0., 0.],\n          ...,\n          [0., 0., 0.,  ..., 0., 0., 0.],\n          [0., 0., 0.,  ..., 0., 0., 0.],\n          [0., 0., 0.,  ..., 0., 0., 0.]]],\n\n\n        [[[0., 0., 0.,  ..., 0., 0., 0.],\n          [0., 0., 0.,  ..., 0., 0., 0.],\n          [0., 0., 0.,  ..., 0., 0., 0.],\n          ...,\n          [0., 0., 0.,  ..., 0., 0., 0.],\n          [0., 0., 0.,  ..., 0., 0., 0.],\n          [0., 0., 0.,  ..., 0., 0., 0.]]],\n\n\n        [[[0., 0., 0.,  ..., 0., 0., 0.],\n          [0., 0., 0.,  ..., 0., 0., 0.],\n          [0., 0., 0.,  ..., 0., 0., 0.],\n          ...,\n          [0., 0., 0.,  ..., 0., 0., 0.],\n          [0., 0., 0.,  ..., 0., 0., 0.],\n          [0., 0., 0.,  ..., 0., 0., 0.]]]])\nthe y or labels: \ntensor([9, 2, 1, 1, 6, 1, 4, 6, 5, 7, 4, 5, 7, 3, 4, 1, 2, 4, 8, 0, 2, 5, 7, 9,\n        1, 4, 6, 0, 9, 3, 8, 8, 3, 3, 8, 0, 7, 5, 7, 9, 6, 1, 3, 7, 6, 7, 2, 1,\n        2, 2, 4, 4, 5, 8, 2, 2, 8, 4, 8, 0, 7, 7, 8, 5])\n"
     ]
    }
   ],
   "source": [
    "# we pass the dataset to the dataloader so that we can batch it and better process the data. Each element in the dataloader iterable will return a batch of size 64 of 64 labels and features\n",
    "\n",
    "batch_size = 64\n",
    "\n",
    "train_dataloader = DataLoader(training_data, batch_size=batch_size)\n",
    "test_dataloader = DataLoader(test_data, batch_size)\n",
    "\n",
    "for x,y in test_dataloader:\n",
    "    print(\"Shape of X [num_elems, Channels, Height, Width]: \", x.shape)\n",
    "    print(\"Shape of y: \", y.shape, y.dtype)\n",
    "    print(\" the x , or features\")\n",
    "    print(x)\n",
    "    print(\"the y or labels: \")\n",
    "    print(y)\n",
    "    break\n"
   ]
  },
  {
   "cell_type": "code",
   "execution_count": null,
   "metadata": {},
   "outputs": [],
   "source": [
    "device = \"cuda\" if torch.cuda.is_available() else \"cpu\"\n",
    "print(\"Using {} device\".format(device))\n",
    "\n",
    "class NeuralNetwork(nn.Module):\n",
    "    def __init__(self):\n",
    "        super(NeuralNetwork, self).__init__()\n",
    "        self.flatten = nn.Flatten()\n",
    "        self.linear_relu_stack = nn.Sequential(\n",
    "            nn.Linear(28*28, 512),\n",
    "            nn.ReLU(),\n",
    "            nn.Linear(512, 512),\n",
    "            nn.ReLU(),\n",
    "            nn.Linear(512, 10),\n",
    "            nn.ReLU()\n",
    "        )\n",
    "\n",
    "    def forward(self, x):\n",
    "        x = self.flatten(x)\n",
    "        logits = self.linear_relu_stack(x)\n",
    "        return logits\n",
    "\n",
    "model = NeuralNetwork().to(device)\n",
    "print(model)"
   ]
  },
  {
   "cell_type": "code",
   "execution_count": 36,
   "metadata": {},
   "outputs": [],
   "source": [
    "loss_fn = nn.CrossEntropyLoss()\n",
    "optimizer = torch.optim.SGD(model.parameters(), lr=1e-3)\n",
    "\n",
    "def train(dataloader, model, loss_fn, optimizer):\n",
    "    size = len(dataloader.dataset)\n",
    "    for batch, (X, y) in enumerate(dataloader):\n",
    "        X, y = X.to(device), y.to(device)\n",
    "\n",
    "        # Compute prediction error\n",
    "        pred = model(X)\n",
    "        loss = loss_fn(pred, y)\n",
    "\n",
    "        # Backpropagation\n",
    "        optimizer.zero_grad()\n",
    "        loss.backward()\n",
    "        optimizer.step()\n",
    "\n",
    "        if batch % 100 == 0:\n",
    "            loss, current = loss.item(), batch * len(X)\n",
    "            print(f\"loss: {loss:>7f}  [{current:>5d}/{size:>5d}]\")\n",
    "\n",
    "def test(dataloader, model):\n",
    "    size = len(dataloader.dataset)\n",
    "    model.eval()\n",
    "    test_loss, correct = 0,0\n",
    "    with torch.no_grad():\n",
    "        for x,y in dataloader:\n",
    "            x,y = x.to(device), y.to(device)\n",
    "            pred = model(x)\n",
    "            test_loss += loss_fn(pred, y).item()\n",
    "            correct += (pred.argmax(1) == y).type(torch.float).sum().item()\n",
    "    test_loss /= size\n",
    "    correct /= size \n",
    "    print(f\"Test Error: \\n Accuracy: {(100*correct):>0.1f}%, Avg loss{test_loss:>8f} \\n\")\n",
    "\n"
   ]
  },
  {
   "cell_type": "code",
   "execution_count": 37,
   "metadata": {},
   "outputs": [
    {
     "output_type": "stream",
     "name": "stdout",
     "text": [
      "epoch 1\n",
      "--------------\n",
      "loss: 2.305175  [    0/60000]\n",
      "loss: 2.303651  [ 6400/60000]\n",
      "loss: 2.299656  [12800/60000]\n",
      "loss: 2.294626  [19200/60000]\n",
      "loss: 2.294367  [25600/60000]\n",
      "loss: 2.272651  [32000/60000]\n",
      "loss: 2.277911  [38400/60000]\n",
      "loss: 2.267232  [44800/60000]\n",
      "loss: 2.257237  [51200/60000]\n",
      "loss: 2.237620  [57600/60000]\n",
      "Test Error: \n",
      " Accuracy: 28.9%, Avg loss0.035425 \n",
      "\n",
      "epoch 2\n",
      "--------------\n",
      "loss: 2.260391  [    0/60000]\n",
      "loss: 2.274037  [ 6400/60000]\n",
      "loss: 2.256117  [12800/60000]\n",
      "loss: 2.258313  [19200/60000]\n",
      "loss: 2.227794  [25600/60000]\n",
      "loss: 2.179328  [32000/60000]\n",
      "loss: 2.200769  [38400/60000]\n",
      "loss: 2.169714  [44800/60000]\n",
      "loss: 2.175065  [51200/60000]\n",
      "loss: 2.110555  [57600/60000]\n",
      "Test Error: \n",
      " Accuracy: 39.8%, Avg loss0.033915 \n",
      "\n",
      "epoch 3\n",
      "--------------\n",
      "loss: 2.164233  [    0/60000]\n",
      "loss: 2.186702  [ 6400/60000]\n",
      "loss: 2.155107  [12800/60000]\n",
      "loss: 2.187005  [19200/60000]\n",
      "loss: 2.095282  [25600/60000]\n",
      "loss: 2.024502  [32000/60000]\n",
      "loss: 2.066649  [38400/60000]\n",
      "loss: 2.011987  [44800/60000]\n",
      "loss: 2.057124  [51200/60000]\n",
      "loss: 1.916582  [57600/60000]\n",
      "Test Error: \n",
      " Accuracy: 41.2%, Avg loss0.031689 \n",
      "\n",
      "epoch 4\n",
      "--------------\n",
      "loss: 2.022446  [    0/60000]\n",
      "loss: 2.054250  [ 6400/60000]\n",
      "loss: 2.013928  [12800/60000]\n",
      "loss: 2.088040  [19200/60000]\n",
      "loss: 1.911109  [25600/60000]\n",
      "loss: 1.830862  [32000/60000]\n",
      "loss: 1.897727  [38400/60000]\n",
      "loss: 1.825942  [44800/60000]\n",
      "loss: 1.929324  [51200/60000]\n",
      "loss: 1.712256  [57600/60000]\n",
      "Test Error: \n",
      " Accuracy: 41.0%, Avg loss0.029400 \n",
      "\n",
      "epoch 5\n",
      "--------------\n",
      "loss: 1.873082  [    0/60000]\n",
      "loss: 1.923168  [ 6400/60000]\n",
      "loss: 1.885755  [12800/60000]\n",
      "loss: 1.996350  [19200/60000]\n",
      "loss: 1.766440  [25600/60000]\n",
      "loss: 1.681816  [32000/60000]\n",
      "loss: 1.763432  [38400/60000]\n",
      "loss: 1.687519  [44800/60000]\n",
      "loss: 1.828920  [51200/60000]\n",
      "loss: 1.571557  [57600/60000]\n",
      "Test Error: \n",
      " Accuracy: 41.0%, Avg loss0.027763 \n",
      "\n",
      "Done!\n"
     ]
    }
   ],
   "source": [
    "epochs = 5\n",
    "\n",
    "for t in range(epochs):\n",
    "    print(f\"epoch {t+1}\\n--------------\")\n",
    "    train(train_dataloader, model, loss_fn, optimizer)\n",
    "    test(test_dataloader, model)\n",
    "print(\"Done!\")"
   ]
  },
  {
   "cell_type": "code",
   "execution_count": null,
   "metadata": {},
   "outputs": [],
   "source": []
  }
 ]
}