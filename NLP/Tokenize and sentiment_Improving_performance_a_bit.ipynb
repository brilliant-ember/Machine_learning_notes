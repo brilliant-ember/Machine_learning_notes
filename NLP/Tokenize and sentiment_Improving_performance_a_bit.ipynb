{
  "nbformat": 4,
  "nbformat_minor": 0,
  "metadata": {
    "colab": {
      "name": "Improving performance a bit.ipynb",
      "provenance": []
    },
    "kernelspec": {
      "name": "python3",
      "display_name": "Python 3"
    },
    "accelerator": "TPU"
  },
  "cells": [
    {
      "cell_type": "code",
      "metadata": {
        "id": "tjjC54MiX_My",
        "colab_type": "code",
        "colab": {
          "base_uri": "https://localhost:8080/",
          "height": 331
        },
        "outputId": "2542aeb4-6fdc-4786-f0c2-f71a6a2a9fc3"
      },
      "source": [
        "import tensorflow as tf\n",
        "\n",
        "from tensorflow.keras.preprocessing.text import Tokenizer\n",
        "from tensorflow.keras.preprocessing.sequence import pad_sequences\n",
        "\n",
        "import numpy as np\n",
        "import pandas as pd\n",
        "\n",
        "!wget --no-check-certificate \\\n",
        "    https://drive.google.com/uc?id=13ySLC_ue6Umt9RJYSeM2t-V0kCv-4C-P \\\n",
        "    -O /tmp/sentiment.csv"
      ],
      "execution_count": 1,
      "outputs": [
        {
          "output_type": "stream",
          "text": [
            "--2020-06-26 21:09:52--  https://drive.google.com/uc?id=13ySLC_ue6Umt9RJYSeM2t-V0kCv-4C-P\n",
            "Resolving drive.google.com (drive.google.com)... 172.217.212.102, 172.217.212.101, 172.217.212.113, ...\n",
            "Connecting to drive.google.com (drive.google.com)|172.217.212.102|:443... connected.\n",
            "HTTP request sent, awaiting response... 302 Moved Temporarily\n",
            "Location: https://doc-08-ak-docs.googleusercontent.com/docs/securesc/ha0ro937gcuc7l7deffksulhg5h7mbp1/hf6ieii4c301rdgcvnrofgbpmua2kfdn/1593205725000/11118900490791463723/*/13ySLC_ue6Umt9RJYSeM2t-V0kCv-4C-P [following]\n",
            "Warning: wildcards not supported in HTTP.\n",
            "--2020-06-26 21:09:52--  https://doc-08-ak-docs.googleusercontent.com/docs/securesc/ha0ro937gcuc7l7deffksulhg5h7mbp1/hf6ieii4c301rdgcvnrofgbpmua2kfdn/1593205725000/11118900490791463723/*/13ySLC_ue6Umt9RJYSeM2t-V0kCv-4C-P\n",
            "Resolving doc-08-ak-docs.googleusercontent.com (doc-08-ak-docs.googleusercontent.com)... 64.233.183.132, 2607:f8b0:4001:c0b::84\n",
            "Connecting to doc-08-ak-docs.googleusercontent.com (doc-08-ak-docs.googleusercontent.com)|64.233.183.132|:443... connected.\n",
            "HTTP request sent, awaiting response... 200 OK\n",
            "Length: 127831 (125K) [text/csv]\n",
            "Saving to: ‘/tmp/sentiment.csv’\n",
            "\n",
            "/tmp/sentiment.csv  100%[===================>] 124.83K  --.-KB/s    in 0.001s  \n",
            "\n",
            "2020-06-26 21:09:52 (114 MB/s) - ‘/tmp/sentiment.csv’ saved [127831/127831]\n",
            "\n"
          ],
          "name": "stdout"
        }
      ]
    },
    {
      "cell_type": "code",
      "metadata": {
        "id": "CjxUKjtNYJK_",
        "colab_type": "code",
        "colab": {}
      },
      "source": [
        "dataset = pd.read_csv('/tmp/sentiment.csv')\n",
        "\n",
        "sentences = dataset['text'].tolist()\n",
        "labels = dataset['sentiment'].tolist()\n",
        "\n",
        "# Separate out the sentences and labels into training and test sets\n",
        "training_size = int(len(sentences) * 0.8)\n",
        "\n",
        "training_sentences = sentences[0:training_size]\n",
        "testing_sentences = sentences[training_size:]\n",
        "training_labels = labels[0:training_size]\n",
        "testing_labels = labels[training_size:]\n",
        "\n",
        "# Make labels into numpy arrays for use with the network later\n",
        "training_labels_final = np.array(training_labels)\n",
        "testing_labels_final = np.array(testing_labels)"
      ],
      "execution_count": 2,
      "outputs": []
    },
    {
      "cell_type": "code",
      "metadata": {
        "id": "Ipw2rYI6YMRk",
        "colab_type": "code",
        "colab": {}
      },
      "source": [
        "# This is different from last time\n",
        "vocab_size = 500\n",
        "embedding_dim = 16\n",
        "max_length = 50\n",
        "trunc_type='post'\n",
        "padding_type='post'\n",
        "oov_tok = \"<OOV>\"\n",
        "\n",
        "tokenizer = Tokenizer(num_words=vocab_size, oov_token=oov_tok)\n",
        "tokenizer.fit_on_texts(training_sentences)\n",
        "word_index = tokenizer.word_index\n",
        "\n",
        "training_sequences = tokenizer.texts_to_sequences(training_sentences)\n",
        "training_padded = pad_sequences(training_sequences, maxlen=max_length, padding=padding_type, truncating=trunc_type)\n",
        "\n",
        "testing_sequences = tokenizer.texts_to_sequences(testing_sentences)\n",
        "testing_padded = pad_sequences(testing_sequences, maxlen=max_length, padding=padding_type, truncating=trunc_type)\n"
      ],
      "execution_count": 3,
      "outputs": []
    },
    {
      "cell_type": "code",
      "metadata": {
        "id": "cUpiqCTzalur",
        "colab_type": "code",
        "colab": {
          "base_uri": "https://localhost:8080/",
          "height": 294
        },
        "outputId": "19258157-439d-4534-8454-244b9737f2a9"
      },
      "source": [
        "# we tweak this part too\n",
        "model = tf.keras.Sequential([\n",
        "    tf.keras.layers.Embedding(vocab_size, embedding_dim, input_length=max_length),\n",
        "    tf.keras.layers.GlobalAveragePooling1D(),\n",
        "    tf.keras.layers.Dense(6, activation='relu'),\n",
        "    tf.keras.layers.Dense(1, activation='sigmoid')\n",
        "])\n",
        "model.compile(loss='binary_crossentropy',optimizer='adam',metrics=['accuracy'])\n",
        "model.summary()"
      ],
      "execution_count": 4,
      "outputs": [
        {
          "output_type": "stream",
          "text": [
            "Model: \"sequential\"\n",
            "_________________________________________________________________\n",
            "Layer (type)                 Output Shape              Param #   \n",
            "=================================================================\n",
            "embedding (Embedding)        (None, 50, 16)            8000      \n",
            "_________________________________________________________________\n",
            "global_average_pooling1d (Gl (None, 16)                0         \n",
            "_________________________________________________________________\n",
            "dense (Dense)                (None, 6)                 102       \n",
            "_________________________________________________________________\n",
            "dense_1 (Dense)              (None, 1)                 7         \n",
            "=================================================================\n",
            "Total params: 8,109\n",
            "Trainable params: 8,109\n",
            "Non-trainable params: 0\n",
            "_________________________________________________________________\n"
          ],
          "name": "stdout"
        }
      ]
    },
    {
      "cell_type": "code",
      "metadata": {
        "id": "JWRGr-k2druL",
        "colab_type": "code",
        "colab": {
          "base_uri": "https://localhost:8080/",
          "height": 1000
        },
        "outputId": "46d3a04f-d28e-4e0d-f2e8-1733910c646a"
      },
      "source": [
        "num_epochs = 30\n",
        "history = model.fit(training_padded, training_labels_final, epochs=num_epochs, validation_data=(testing_padded, testing_labels_final))"
      ],
      "execution_count": 5,
      "outputs": [
        {
          "output_type": "stream",
          "text": [
            "Epoch 1/30\n",
            "50/50 [==============================] - 0s 5ms/step - loss: 0.6930 - accuracy: 0.5185 - val_loss: 0.6939 - val_accuracy: 0.4160\n",
            "Epoch 2/30\n",
            "50/50 [==============================] - 0s 2ms/step - loss: 0.6914 - accuracy: 0.5223 - val_loss: 0.6982 - val_accuracy: 0.4110\n",
            "Epoch 3/30\n",
            "50/50 [==============================] - 0s 2ms/step - loss: 0.6870 - accuracy: 0.5323 - val_loss: 0.6974 - val_accuracy: 0.4261\n",
            "Epoch 4/30\n",
            "50/50 [==============================] - 0s 2ms/step - loss: 0.6805 - accuracy: 0.5480 - val_loss: 0.6910 - val_accuracy: 0.4687\n",
            "Epoch 5/30\n",
            "50/50 [==============================] - 0s 2ms/step - loss: 0.6709 - accuracy: 0.6183 - val_loss: 0.6802 - val_accuracy: 0.5338\n",
            "Epoch 6/30\n",
            "50/50 [==============================] - 0s 2ms/step - loss: 0.6565 - accuracy: 0.6466 - val_loss: 0.6689 - val_accuracy: 0.5564\n",
            "Epoch 7/30\n",
            "50/50 [==============================] - 0s 2ms/step - loss: 0.6359 - accuracy: 0.7043 - val_loss: 0.6532 - val_accuracy: 0.6015\n",
            "Epoch 8/30\n",
            "50/50 [==============================] - 0s 2ms/step - loss: 0.6101 - accuracy: 0.7345 - val_loss: 0.6315 - val_accuracy: 0.6566\n",
            "Epoch 9/30\n",
            "50/50 [==============================] - 0s 2ms/step - loss: 0.5805 - accuracy: 0.7702 - val_loss: 0.5986 - val_accuracy: 0.7744\n",
            "Epoch 10/30\n",
            "50/50 [==============================] - 0s 2ms/step - loss: 0.5479 - accuracy: 0.7972 - val_loss: 0.5769 - val_accuracy: 0.7744\n",
            "Epoch 11/30\n",
            "50/50 [==============================] - 0s 2ms/step - loss: 0.5184 - accuracy: 0.8236 - val_loss: 0.5882 - val_accuracy: 0.6667\n",
            "Epoch 12/30\n",
            "50/50 [==============================] - 0s 2ms/step - loss: 0.4886 - accuracy: 0.8142 - val_loss: 0.5415 - val_accuracy: 0.7895\n",
            "Epoch 13/30\n",
            "50/50 [==============================] - 0s 2ms/step - loss: 0.4586 - accuracy: 0.8437 - val_loss: 0.5461 - val_accuracy: 0.7218\n",
            "Epoch 14/30\n",
            "50/50 [==============================] - 0s 2ms/step - loss: 0.4318 - accuracy: 0.8443 - val_loss: 0.5282 - val_accuracy: 0.7343\n",
            "Epoch 15/30\n",
            "50/50 [==============================] - 0s 2ms/step - loss: 0.4076 - accuracy: 0.8569 - val_loss: 0.5076 - val_accuracy: 0.7719\n",
            "Epoch 16/30\n",
            "50/50 [==============================] - 0s 2ms/step - loss: 0.3891 - accuracy: 0.8569 - val_loss: 0.5098 - val_accuracy: 0.7519\n",
            "Epoch 17/30\n",
            "50/50 [==============================] - 0s 2ms/step - loss: 0.3700 - accuracy: 0.8638 - val_loss: 0.4927 - val_accuracy: 0.7794\n",
            "Epoch 18/30\n",
            "50/50 [==============================] - 0s 2ms/step - loss: 0.3537 - accuracy: 0.8732 - val_loss: 0.4819 - val_accuracy: 0.7995\n",
            "Epoch 19/30\n",
            "50/50 [==============================] - 0s 2ms/step - loss: 0.3378 - accuracy: 0.8726 - val_loss: 0.4938 - val_accuracy: 0.7544\n",
            "Epoch 20/30\n",
            "50/50 [==============================] - 0s 2ms/step - loss: 0.3258 - accuracy: 0.8795 - val_loss: 0.5182 - val_accuracy: 0.7193\n",
            "Epoch 21/30\n",
            "50/50 [==============================] - 0s 2ms/step - loss: 0.3138 - accuracy: 0.8845 - val_loss: 0.4718 - val_accuracy: 0.7970\n",
            "Epoch 22/30\n",
            "50/50 [==============================] - 0s 2ms/step - loss: 0.3019 - accuracy: 0.8858 - val_loss: 0.5252 - val_accuracy: 0.7118\n",
            "Epoch 23/30\n",
            "50/50 [==============================] - 0s 2ms/step - loss: 0.2934 - accuracy: 0.8901 - val_loss: 0.5010 - val_accuracy: 0.7343\n",
            "Epoch 24/30\n",
            "50/50 [==============================] - 0s 2ms/step - loss: 0.2831 - accuracy: 0.8914 - val_loss: 0.4797 - val_accuracy: 0.7744\n",
            "Epoch 25/30\n",
            "50/50 [==============================] - 0s 2ms/step - loss: 0.2754 - accuracy: 0.9014 - val_loss: 0.4734 - val_accuracy: 0.7920\n",
            "Epoch 26/30\n",
            "50/50 [==============================] - 0s 2ms/step - loss: 0.2673 - accuracy: 0.8958 - val_loss: 0.4980 - val_accuracy: 0.7444\n",
            "Epoch 27/30\n",
            "50/50 [==============================] - 0s 2ms/step - loss: 0.2607 - accuracy: 0.9058 - val_loss: 0.4718 - val_accuracy: 0.7995\n",
            "Epoch 28/30\n",
            "50/50 [==============================] - 0s 2ms/step - loss: 0.2558 - accuracy: 0.9002 - val_loss: 0.5261 - val_accuracy: 0.7243\n",
            "Epoch 29/30\n",
            "50/50 [==============================] - 0s 2ms/step - loss: 0.2487 - accuracy: 0.8970 - val_loss: 0.4888 - val_accuracy: 0.7644\n",
            "Epoch 30/30\n",
            "50/50 [==============================] - 0s 2ms/step - loss: 0.2439 - accuracy: 0.9021 - val_loss: 0.4995 - val_accuracy: 0.7494\n"
          ],
          "name": "stdout"
        }
      ]
    },
    {
      "cell_type": "code",
      "metadata": {
        "id": "iDYYwjGodx90",
        "colab_type": "code",
        "colab": {
          "base_uri": "https://localhost:8080/",
          "height": 541
        },
        "outputId": "52695407-ca2f-4c41-9243-4d09d0954358"
      },
      "source": [
        "import matplotlib.pyplot as plt\n",
        "\n",
        "\n",
        "def plot_graphs(history, string):\n",
        "  plt.plot(history.history[string])\n",
        "  plt.plot(history.history['val_'+string])\n",
        "  plt.xlabel(\"Epochs\")\n",
        "  plt.ylabel(string)\n",
        "  plt.legend([string, 'val_'+string])\n",
        "  plt.show()\n",
        "  \n",
        "plot_graphs(history, \"accuracy\")\n",
        "plot_graphs(history, \"loss\")"
      ],
      "execution_count": 7,
      "outputs": [
        {
          "output_type": "display_data",
          "data": {
            "image/png": "[encoded data removed]",
            "text/plain": [
              "<Figure size 432x288 with 1 Axes>"
            ]
          },
          "metadata": {
            "tags": [],
            "needs_background": "light"
          }
        },
        {
          "output_type": "display_data",
          "data": {
            "image/png": "[encoded data removed]",
            "text/plain": [
              "<Figure size 432x288 with 1 Axes>"
            ]
          },
          "metadata": {
            "tags": [],
            "needs_background": "light"
          }
        }
      ]
    },
    {
      "cell_type": "code",
      "metadata": {
        "id": "U40OS0loeHFC",
        "colab_type": "code",
        "colab": {
          "base_uri": "https://localhost:8080/",
          "height": 797
        },
        "outputId": "bab032a4-5dc1-446e-9378-3363e944b19e"
      },
      "source": [
        "# Use the model to predict a review   \n",
        "fake_reviews = ['I love this phone', 'I hate spaghetti', \n",
        "                'Everything was cold',\n",
        "                'Everything was hot exactly as I wanted', \n",
        "                'Everything was green', \n",
        "                'the host seated us immediately',\n",
        "                'they gave us free chocolate cake', \n",
        "                'not sure about the wilted flowers on the table',\n",
        "                'only works when I stand on tippy toes', \n",
        "                'does not work when I stand on my head']\n",
        "\n",
        "print(fake_reviews) \n",
        "\n",
        "# Create the sequences\n",
        "padding_type='post'\n",
        "sample_sequences = tokenizer.texts_to_sequences(fake_reviews)\n",
        "fakes_padded = pad_sequences(sample_sequences, padding=padding_type, maxlen=max_length)           \n",
        "\n",
        "print('\\nHOT OFF THE PRESS! HERE ARE SOME NEWLY MINTED, ABSOLUTELY GENUINE REVIEWS!\\n')              \n",
        "\n",
        "classes = model.predict(fakes_padded)\n",
        "\n",
        "# The closer the class is to 1, the more positive the review is deemed to be\n",
        "for x in range(len(fake_reviews)):\n",
        "  print(fake_reviews[x])\n",
        "  print(classes[x])\n",
        "  print('\\n')\n",
        "\n",
        "# Add some negative words (such as \"not\") to the good reviews and see what happens\n",
        "# For example:\n",
        "# they gave us free chocolate cake and did not charge us\n"
      ],
      "execution_count": 8,
      "outputs": [
        {
          "output_type": "stream",
          "text": [
            "['I love this phone', 'I hate spaghetti', 'Everything was cold', 'Everything was hot exactly as I wanted', 'Everything was green', 'the host seated us immediately', 'they gave us free chocolate cake', 'not sure about the wilted flowers on the table', 'only works when I stand on tippy toes', 'does not work when I stand on my head']\n",
            "\n",
            "HOT OFF THE PRESS! HERE ARE SOME NEWLY MINTED, ABSOLUTELY GENUINE REVIEWS!\n",
            "\n",
            "I love this phone\n",
            "[0.9262352]\n",
            "\n",
            "\n",
            "I hate spaghetti\n",
            "[0.13574842]\n",
            "\n",
            "\n",
            "Everything was cold\n",
            "[0.6016192]\n",
            "\n",
            "\n",
            "Everything was hot exactly as I wanted\n",
            "[0.41763833]\n",
            "\n",
            "\n",
            "Everything was green\n",
            "[0.6016192]\n",
            "\n",
            "\n",
            "the host seated us immediately\n",
            "[0.5716072]\n",
            "\n",
            "\n",
            "they gave us free chocolate cake\n",
            "[0.8752519]\n",
            "\n",
            "\n",
            "not sure about the wilted flowers on the table\n",
            "[0.07415995]\n",
            "\n",
            "\n",
            "only works when I stand on tippy toes\n",
            "[0.8863319]\n",
            "\n",
            "\n",
            "does not work when I stand on my head\n",
            "[0.02642697]\n",
            "\n",
            "\n"
          ],
          "name": "stdout"
        }
      ]
    }
  ]
}