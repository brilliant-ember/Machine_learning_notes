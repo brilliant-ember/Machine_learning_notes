{
 "cells": [
  {
   "cell_type": "markdown",
   "metadata": {},
   "source": [
    "# Basic Tensor operations\n",
    "\n",
    "\n",
    "https://github.com/sasidhar-programmer/Tensorflow_Advance_Techniques/blob/main/2-custom_and_distributed_training/week-1/C2_W1_Lab_1_basic-tensors.ipynb"
   ]
  },
  {
   "cell_type": "code",
   "execution_count": 7,
   "metadata": {},
   "outputs": [
    {
     "name": "stdout",
     "output_type": "stream",
     "text": [
      "2.5.0\n"
     ]
    }
   ],
   "source": [
    "import tensorflow as tf\n",
    "import numpy as np\n",
    "\n",
    "print(tf.__version__)"
   ]
  },
  {
   "cell_type": "code",
   "execution_count": 8,
   "metadata": {},
   "outputs": [
    {
     "data": {
      "text/plain": [
       "array([ 0,  1,  2,  3,  4,  5,  6,  7,  8,  9, 10, 11, 12, 13, 14, 15, 16,\n",
       "       17, 18, 19, 20, 21, 22, 23, 24])"
      ]
     },
     "execution_count": 8,
     "metadata": {},
     "output_type": "execute_result"
    }
   ],
   "source": [
    "# lets create a single dim np array\n",
    "x = np.arange(0, 25)\n",
    "x"
   ]
  },
  {
   "cell_type": "code",
   "execution_count": 9,
   "metadata": {},
   "outputs": [
    {
     "data": {
      "text/plain": [
       "<tf.Tensor: shape=(25,), dtype=int64, numpy=\n",
       "array([ 0,  1,  2,  3,  4,  5,  6,  7,  8,  9, 10, 11, 12, 13, 14, 15, 16,\n",
       "       17, 18, 19, 20, 21, 22, 23, 24])>"
      ]
     },
     "execution_count": 9,
     "metadata": {},
     "output_type": "execute_result"
    }
   ],
   "source": [
    "# now we want to tturn that array into a tensor\n",
    "x = tf.constant(x)\n",
    "x"
   ]
  },
  {
   "cell_type": "code",
   "execution_count": 10,
   "metadata": {},
   "outputs": [
    {
     "data": {
      "text/plain": [
       "<tf.Tensor: shape=(25,), dtype=int64, numpy=\n",
       "array([  0,   1,   4,   9,  16,  25,  36,  49,  64,  81, 100, 121, 144,\n",
       "       169, 196, 225, 256, 289, 324, 361, 400, 441, 484, 529, 576])>"
      ]
     },
     "execution_count": 10,
     "metadata": {},
     "output_type": "execute_result"
    }
   ],
   "source": [
    "# let's square the elements of the 1d tensor\n",
    "x = tf.square(x)\n",
    "x"
   ]
  },
  {
   "cell_type": "code",
   "execution_count": 12,
   "metadata": {},
   "outputs": [
    {
     "data": {
      "text/plain": [
       "<tf.Tensor: shape=(5, 5), dtype=int64, numpy=\n",
       "array([[  0,   1,   4,   9,  16],\n",
       "       [ 25,  36,  49,  64,  81],\n",
       "       [100, 121, 144, 169, 196],\n",
       "       [225, 256, 289, 324, 361],\n",
       "       [400, 441, 484, 529, 576]])>"
      ]
     },
     "execution_count": 12,
     "metadata": {},
     "output_type": "execute_result"
    }
   ],
   "source": [
    "## One cool thing about tensors is that they can be reshaped\n",
    "# here we change the shape of the tensor from 1x5 ternsor to a 5x5 tensor (matrix)\n",
    "\n",
    "x = tf.reshape(x, (5,5), name=\"reshaped-tensor\")\n",
    "x"
   ]
  },
  {
   "cell_type": "code",
   "execution_count": 17,
   "metadata": {},
   "outputs": [
    {
     "name": "stdout",
     "output_type": "stream",
     "text": [
      "Exception:  Input to reshape is a tensor with 25 values, but the requested shape has 10 [Op:Reshape]\n"
     ]
    }
   ],
   "source": [
    "# note that if the shape passed isnt possibel with the tensor we will get an error\n",
    "#if we reshape into a too small a shape\n",
    "try:\n",
    "\tx = tf.reshape(x, (2,5))\n",
    "except Exception as e:\n",
    "\tprint(\"Exception: \", e)"
   ]
  },
  {
   "cell_type": "code",
   "execution_count": 18,
   "metadata": {},
   "outputs": [
    {
     "name": "stdout",
     "output_type": "stream",
     "text": [
      "Exception:  Input to reshape is a tensor with 25 values, but the requested shape has 100 [Op:Reshape]\n"
     ]
    }
   ],
   "source": [
    "# if we give it a shape too big for the data\n",
    "try:\n",
    "\tx = tf.reshape(x, (10,10))\n",
    "except Exception as e:\n",
    "\tprint(\"Exception: \", e)"
   ]
  },
  {
   "cell_type": "code",
   "execution_count": 21,
   "metadata": {},
   "outputs": [
    {
     "data": {
      "text/plain": [
       "<tf.Tensor: shape=(25, 1), dtype=int64, numpy=\n",
       "array([[  0],\n",
       "       [  1],\n",
       "       [  4],\n",
       "       [  9],\n",
       "       [ 16],\n",
       "       [ 25],\n",
       "       [ 36],\n",
       "       [ 49],\n",
       "       [ 64],\n",
       "       [ 81],\n",
       "       [100],\n",
       "       [121],\n",
       "       [144],\n",
       "       [169],\n",
       "       [196],\n",
       "       [225],\n",
       "       [256],\n",
       "       [289],\n",
       "       [324],\n",
       "       [361],\n",
       "       [400],\n",
       "       [441],\n",
       "       [484],\n",
       "       [529],\n",
       "       [576]])>"
      ]
     },
     "execution_count": 21,
     "metadata": {},
     "output_type": "execute_result"
    }
   ],
   "source": [
    "# now we give a possible shape\n",
    "x = tf.reshape(x, (25, 1))\n",
    "x"
   ]
  },
  {
   "cell_type": "code",
   "execution_count": 24,
   "metadata": {},
   "outputs": [
    {
     "data": {
      "text/plain": [
       "<tf.Tensor: shape=(1, 25), dtype=int64, numpy=\n",
       "array([[  0,   1,   4,   9,  16,  25,  36,  49,  64,  81, 100, 121, 144,\n",
       "        169, 196, 225, 256, 289, 324, 361, 400, 441, 484, 529, 576]])>"
      ]
     },
     "execution_count": 24,
     "metadata": {},
     "output_type": "execute_result"
    }
   ],
   "source": [
    "# we can also do the transponse operation\n",
    "x = tf.transpose(x)\n",
    "x"
   ]
  },
  {
   "cell_type": "code",
   "execution_count": 25,
   "metadata": {},
   "outputs": [
    {
     "data": {
      "text/plain": [
       "<tf.Tensor: shape=(1, 25), dtype=float32, numpy=\n",
       "array([[  0.,   1.,   4.,   9.,  16.,  25.,  36.,  49.,  64.,  81., 100.,\n",
       "        121., 144., 169., 196., 225., 256., 289., 324., 361., 400., 441.,\n",
       "        484., 529., 576.]], dtype=float32)>"
      ]
     },
     "execution_count": 25,
     "metadata": {},
     "output_type": "execute_result"
    }
   ],
   "source": [
    "# we can change the datatype of the tensor\n",
    "x= tf.cast(x, tf.float32)\n",
    "x"
   ]
  },
  {
   "cell_type": "code",
   "execution_count": 26,
   "metadata": {},
   "outputs": [
    {
     "name": "stdout",
     "output_type": "stream",
     "text": [
      "the scaler is  tf.Tensor(2.0, shape=(), dtype=float32)\n"
     ]
    },
    {
     "data": {
      "text/plain": [
       "<tf.Tensor: shape=(1, 25), dtype=float32, numpy=\n",
       "array([[   0.,    2.,    8.,   18.,   32.,   50.,   72.,   98.,  128.,\n",
       "         162.,  200.,  242.,  288.,  338.,  392.,  450.,  512.,  578.,\n",
       "         648.,  722.,  800.,  882.,  968., 1058., 1152.]], dtype=float32)>"
      ]
     },
     "execution_count": 26,
     "metadata": {},
     "output_type": "execute_result"
    }
   ],
   "source": [
    "# we can multiply a tensor by a scaler, ie a constant num\n",
    "# this is called `broadcasting`\n",
    "y = tf.constant(2, dtype=tf.float32)\n",
    "print(\"the scaler is \", y)\n",
    "\n",
    "result = tf.multiply(x, y)\n",
    "result"
   ]
  },
  {
   "cell_type": "code",
   "execution_count": 28,
   "metadata": {},
   "outputs": [
    {
     "name": "stdout",
     "output_type": "stream",
     "text": [
      "y is tf.Tensor([1. 2. 3. 4. 5.], shape=(5,), dtype=float32)\n",
      "x is:  tf.Tensor(\n",
      "[[  0.   1.   4.   9.  16.]\n",
      " [ 25.  36.  49.  64.  81.]\n",
      " [100. 121. 144. 169. 196.]\n",
      " [225. 256. 289. 324. 361.]\n",
      " [400. 441. 484. 529. 576.]], shape=(5, 5), dtype=float32)\n",
      "x+y =  tf.Tensor(\n",
      "[[  1.   3.   7.  13.  21.]\n",
      " [ 26.  38.  52.  68.  86.]\n",
      " [101. 123. 147. 173. 201.]\n",
      " [226. 258. 292. 328. 366.]\n",
      " [401. 443. 487. 533. 581.]], shape=(5, 5), dtype=float32)\n"
     ]
    }
   ],
   "source": [
    "# We can add tensors even if they have mismatched number of rows\n",
    "\n",
    "x = tf.reshape(x, (5,5))# change shape to make it same col num as y\n",
    "y = tf.constant([1,2,3,4,5], dtype=tf.float32)\n",
    "\n",
    "print(\"y is\", y)\n",
    "print(\"x is: \", x)\n",
    "\n",
    "result = x + y # element wise addition\n",
    "print('x+y = ',  result)"
   ]
  },
  {
   "cell_type": "code",
   "execution_count": 30,
   "metadata": {},
   "outputs": [
    {
     "data": {
      "text/plain": [
       "<tf.Tensor: shape=(2, 2), dtype=int32, numpy=\n",
       "array([[1, 2],\n",
       "       [3, 4]], dtype=int32)>"
      ]
     },
     "execution_count": 30,
     "metadata": {},
     "output_type": "execute_result"
    }
   ],
   "source": [
    "# note a difference between setting up a tf.constant and a tf.Variable\n",
    "\n",
    "# here we can pass a 1D array and choose an output shape, and it will work, tf.Variable will not however\n",
    "tf.constant([1,2,3,4], shape=(2,2))\n"
   ]
  },
  {
   "cell_type": "code",
   "execution_count": 31,
   "metadata": {},
   "outputs": [
    {
     "name": "stdout",
     "output_type": "stream",
     "text": [
      "The initial value's shape ((4,)) is not compatible with the explicitly supplied `shape` argument ((2, 2)).\n"
     ]
    }
   ],
   "source": [
    "# unlike tf.constant, tf.Variable can't take a shape. This is because the shape is dereived from the shape of the passed array\n",
    "try:\n",
    "    # This will produce a ValueError\n",
    "    tf.Variable([1,2,3,4], shape=(2,2))\n",
    "except ValueError as v:\n",
    "    # See what the ValueError says\n",
    "    print(v)"
   ]
  },
  {
   "cell_type": "code",
   "execution_count": 34,
   "metadata": {},
   "outputs": [
    {
     "name": "stdout",
     "output_type": "stream",
     "text": [
      "<tf.Variable 'Variable:0' shape=(4,) dtype=int32, numpy=array([1, 2, 3, 4], dtype=int32)> tf.Tensor([1 2 3 4], shape=(4,), dtype=int32)\n"
     ]
    }
   ],
   "source": [
    "# both constants and variables can be reshaped just fine after they are initalized\n",
    "\n",
    "\n",
    "## we can reshape tf.Variables just fine\n",
    "x = tf.Variable([1,2,3,4])\n",
    "print(x)\n",
    "x = tf.reshape(x,(2,2))\n",
    "x\n"
   ]
  },
  {
   "cell_type": "code",
   "execution_count": 35,
   "metadata": {},
   "outputs": [
    {
     "data": {
      "text/plain": [
       "<tf.Tensor: shape=(2, 2), dtype=int32, numpy=\n",
       "array([[1, 2],\n",
       "       [3, 4]], dtype=int32)>"
      ]
     },
     "execution_count": 35,
     "metadata": {},
     "output_type": "execute_result"
    }
   ],
   "source": [
    "# and we can reshape constants just fine too!\n",
    "x = tf.constant([1,2,3,4])\n",
    "x = tf.reshape(x,(2,2))\n",
    "x"
   ]
  },
  {
   "cell_type": "code",
   "execution_count": null,
   "metadata": {},
   "outputs": [],
   "source": [
    "\n"
   ]
  }
 ],
 "metadata": {
  "interpreter": {
   "hash": "ac2eaa0ea0ebeafcc7822e65e46aa9d4f966f30b695406963e145ea4a91cd4fc"
  },
  "kernelspec": {
   "display_name": "Python 3.9.6 64-bit",
   "language": "python",
   "name": "python3"
  },
  "language_info": {
   "codemirror_mode": {
    "name": "ipython",
    "version": 3
   },
   "file_extension": ".py",
   "mimetype": "text/x-python",
   "name": "python",
   "nbconvert_exporter": "python",
   "pygments_lexer": "ipython3",
   "version": "3.9.7"
  },
  "orig_nbformat": 4
 },
 "nbformat": 4,
 "nbformat_minor": 2
}
