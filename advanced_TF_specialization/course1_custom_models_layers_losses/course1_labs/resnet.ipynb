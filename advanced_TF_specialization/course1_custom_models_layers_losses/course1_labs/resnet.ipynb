{
 "cells": [
  {
   "cell_type": "markdown",
   "id": "1c7b10e0-9b39-4d3c-ab7f-4cd298cb7769",
   "metadata": {},
   "source": [
    "# Resnet imp\n",
    "\n",
    "https://www.coursera.org/learn/custom-models-layers-loss-functions-with-tensorflow/lecture/YI2hH/resnet-code-walkthrough\n",
    "\n",
    "https://www.youtube.com/watch?v=RQ4sMZiciuI\n",
    "\n",
    "https://github.com/ANKITPODDER2000/Tensorflow-Advance/blob/main/Custom_Models_Layers_and_Loss_Functions_with_TensorFlow/Week4/resnet_implement.ipynb"
   ]
  },
  {
   "cell_type": "code",
   "execution_count": 1,
   "id": "903257b9-d4ea-4e52-a409-97febf19c95f",
   "metadata": {},
   "outputs": [
    {
     "name": "stdout",
     "output_type": "stream",
     "text": [
      "Version of tensorflow is :  2.6.0\n"
     ]
    }
   ],
   "source": [
    "import tensorflow as tf\n",
    "import tensorflow_datasets as tfds\n",
    "from tensorflow.keras.layers import Layer, Activation,MaxPool2D\n",
    "from tensorflow.keras.layers import BatchNormalization, Add, Dense\n",
    "from tensorflow.keras.layers import Conv2D, GlobalAveragePooling2D \n",
    "from tensorflow.keras.models import Model\n",
    "from tensorflow.keras.utils import plot_model\n",
    "print(\"Version of tensorflow is : \",tf.__version__)"
   ]
  },
  {
   "cell_type": "code",
   "execution_count": 2,
   "id": "35998be3-2932-4a65-bb3e-cd44d93b6003",
   "metadata": {},
   "outputs": [],
   "source": [
    "class IdentityBlock(Model):\n",
    "    def __init__(self, filters, kernel_size):\n",
    "        super(IdentityBlock, self).__init__(name='identityBlock')\n",
    "        \n",
    "        self.conv1 = Conv2D(filters, kernel_size, padding='same')\n",
    "        self.batch_norm1 = BatchNormalization()\n",
    "        \n",
    "        self.conv2 = Conv2D(filters, kernel_size, padding='same')\n",
    "        self.batch_norm2 = BatchNormalization()\n",
    "        \n",
    "        self.act = Activation('relu')\n",
    "        self.add = Add()\n",
    "    \n",
    "    def call(self, input_tensor):\n",
    "        x = self.conv1(input_tensor)\n",
    "        x = self.batch_norm1(x)\n",
    "        x = self.act(x)\n",
    "        \n",
    "        x = self.conv2(x)\n",
    "        x = self.batch_norm2(x)\n",
    "        x = self.act(x)\n",
    "        \n",
    "        # the skip happens here,\n",
    "        # we r adding the input to the deep features extracted by the deep learning layers\n",
    "        x = self.add([x, input_tensor]) \n",
    "        x = self.act(x)\n",
    "        \n",
    "        return x\n",
    "        "
   ]
  },
  {
   "cell_type": "code",
   "execution_count": 3,
   "id": "c4be33f4-addb-42e4-813c-9c514337c8cb",
   "metadata": {},
   "outputs": [],
   "source": [
    "class ResNet(Model):\n",
    "    def __init__(self, num_categories):\n",
    "        super(ResNet, self).__init__()\n",
    "        self.conv = Conv2D(64, 7, padding='same')\n",
    "        self.batch_norm = BatchNormalization()\n",
    "        self.act = Activation('relu')\n",
    "        self.max_pool = MaxPool2D((3,3))\n",
    "        \n",
    "        self.identity_block1 = IdentityBlock(64, 3)\n",
    "        self.identity_block2 = IdentityBlock(64, 3)\n",
    "        \n",
    "        self.global_pool = GlobalAveragePooling2D()\n",
    "        self.classifier = Dense(num_categories, activation='softmax')\n",
    "        \n",
    "    def call(self, inputs):\n",
    "        x = self.conv(inputs)\n",
    "        x = self.batch_norm(x)\n",
    "        x = self.act(x)\n",
    "        x = self.max_pool(x)\n",
    "        \n",
    "        x = self.identity_block1(x)\n",
    "        x = self.identity_block2(x)\n",
    "        \n",
    "        x = self.global_pool(x)\n",
    "        \n",
    "        return self.classifier(x)\n",
    "        \n",
    "\n",
    "        "
   ]
  },
  {
   "cell_type": "code",
   "execution_count": 7,
   "id": "a2845319-710b-42d7-8dbe-c5e4b0599d47",
   "metadata": {},
   "outputs": [],
   "source": [
    "def preprocess(features):\n",
    "#     print(features.keys())\n",
    "    return tf.cast(features['image'], tf.float32) / 255. , features['label']\n",
    "resnet = ResNet(10)\n",
    "resnet.compile(optimizer='adam', loss='sparse_categorical_crossentropy', metrics=['accuracy'])\n",
    "dataset = tfds.load(name='mnist' , split=tfds.Split.TRAIN)\n",
    "dataset = dataset.map(preprocess).batch(32)\n",
    "\n",
    "dataset_test = tfds.load(name='mnist' , split=tfds.Split.TEST)\n",
    "dataset_test = dataset_test.map(preprocess).batch(32)\n"
   ]
  },
  {
   "cell_type": "code",
   "execution_count": 11,
   "id": "704cc358-62e6-47e1-9ddb-8f5f842f6cea",
   "metadata": {},
   "outputs": [
    {
     "name": "stdout",
     "output_type": "stream",
     "text": [
      "Epoch 1/3\n",
      "1875/1875 [==============================] - 16s 6ms/step - loss: 0.1405 - accuracy: 0.9645\n",
      "Epoch 2/3\n",
      "1875/1875 [==============================] - 12s 6ms/step - loss: 0.0469 - accuracy: 0.9867\n",
      "Epoch 3/3\n",
      "1875/1875 [==============================] - 12s 6ms/step - loss: 0.0345 - accuracy: 0.9900\n"
     ]
    }
   ],
   "source": [
    "history = resnet.fit(dataset , epochs=3)"
   ]
  },
  {
   "cell_type": "code",
   "execution_count": 12,
   "id": "20e8ebc2-a46e-4cb2-9b63-e8ea9ee3e183",
   "metadata": {},
   "outputs": [
    {
     "name": "stdout",
     "output_type": "stream",
     "text": [
      "313/313 [==============================] - 1s 3ms/step - loss: 0.1119 - accuracy: 0.9637\n"
     ]
    },
    {
     "data": {
      "text/plain": [
       "[0.1119321659207344, 0.963699996471405]"
      ]
     },
     "execution_count": 12,
     "metadata": {},
     "output_type": "execute_result"
    }
   ],
   "source": [
    "resnet.evaluate(dataset_test)"
   ]
  },
  {
   "cell_type": "code",
   "execution_count": 13,
   "id": "03fcb37c-bc2b-4e53-bca2-e08e40896bf3",
   "metadata": {},
   "outputs": [
    {
     "name": "stdout",
     "output_type": "stream",
     "text": [
      "Model: \"res_net_3\"\n",
      "_________________________________________________________________\n",
      "Layer (type)                 Output Shape              Param #   \n",
      "=================================================================\n",
      "conv2d_15 (Conv2D)           multiple                  3200      \n",
      "_________________________________________________________________\n",
      "batch_normalization_15 (Batc multiple                  256       \n",
      "_________________________________________________________________\n",
      "activation_9 (Activation)    multiple                  0         \n",
      "_________________________________________________________________\n",
      "max_pooling2d_3 (MaxPooling2 multiple                  0         \n",
      "_________________________________________________________________\n",
      "identityBlock (IdentityBlock multiple                  74368     \n",
      "_________________________________________________________________\n",
      "identityBlock (IdentityBlock multiple                  74368     \n",
      "_________________________________________________________________\n",
      "global_average_pooling2d_3 ( multiple                  0         \n",
      "_________________________________________________________________\n",
      "dense_3 (Dense)              multiple                  650       \n",
      "=================================================================\n",
      "Total params: 152,842\n",
      "Trainable params: 152,202\n",
      "Non-trainable params: 640\n",
      "_________________________________________________________________\n"
     ]
    }
   ],
   "source": [
    "resnet.summary()"
   ]
  },
  {
   "cell_type": "code",
   "execution_count": null,
   "id": "85617a31-ca62-4559-9024-8df3a7f69d6c",
   "metadata": {},
   "outputs": [],
   "source": []
  }
 ],
 "metadata": {
  "kernelspec": {
   "display_name": "Python 3",
   "language": "python",
   "name": "python3"
  },
  "language_info": {
   "codemirror_mode": {
    "name": "ipython",
    "version": 3
   },
   "file_extension": ".py",
   "mimetype": "text/x-python",
   "name": "python",
   "nbconvert_exporter": "python",
   "pygments_lexer": "ipython3",
   "version": "3.6.9"
  }
 },
 "nbformat": 4,
 "nbformat_minor": 5
}
