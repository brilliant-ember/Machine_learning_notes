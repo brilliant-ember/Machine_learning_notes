{
 "cells": [
  {
   "cell_type": "markdown",
   "id": "d3b99cdf-edd1-4782-a796-e6c58d29cdfd",
   "metadata": {},
   "source": [
    "Callbacks can be called during training, evaluation, or inference. We can put  a callback in `fit()`, `evaluate()`, or `preditct()`\n",
    "\n",
    "https://github.com/stephenjohnmoore/Coursera-Deep-Learning/blob/master/Custom%20Models%2C%20Layers%2C%20and%20Loss%20Functions%20with%20TensorFlow/Week%205%20-%20Bonus%20Content%20-%20Callbacks/C1_W5_Lab_1_exploring-callbacks.ipynb"
   ]
  },
  {
   "cell_type": "code",
   "execution_count": 30,
   "id": "85b6e426-52a2-4a49-831c-f88b9fbfe719",
   "metadata": {},
   "outputs": [
    {
     "name": "stdout",
     "output_type": "stream",
     "text": [
      "The tensorboard extension is already loaded. To reload it, use:\n",
      "  %reload_ext tensorboard\n",
      "Version:  2.6.0\n"
     ]
    }
   ],
   "source": [
    "from __future__ import absolute_import, division, print_function, unicode_literals\n",
    "\n",
    "try:\n",
    "    # %tensorflow_version only exists in Colab.\n",
    "    %tensorflow_version 2.x\n",
    "except Exception:\n",
    "    pass\n",
    "\n",
    "import tensorflow as tf\n",
    "import tensorflow_datasets as tfds\n",
    "import matplotlib.pyplot as plt\n",
    "import io\n",
    "from PIL import Image\n",
    "\n",
    "from tensorflow.keras.callbacks import TensorBoard, EarlyStopping, LearningRateScheduler, ModelCheckpoint, CSVLogger, ReduceLROnPlateau\n",
    "%load_ext tensorboard\n",
    "\n",
    "from tensorflow.keras.layers import Conv2D, MaxPooling2D, Flatten, Dense\n",
    "from tensorflow.keras.models import Model\n",
    "import os\n",
    "import matplotlib.pylab as plt\n",
    "import numpy as np\n",
    "import math\n",
    "import datetime\n",
    "import pandas as pd\n",
    "\n",
    "print(\"Version: \", tf.__version__)\n",
    "tf.get_logger().setLevel('INFO')"
   ]
  },
  {
   "cell_type": "code",
   "execution_count": 2,
   "id": "5db9dc07-e112-4088-9a18-7bb43ad6db0c",
   "metadata": {},
   "outputs": [
    {
     "name": "stdout",
     "output_type": "stream",
     "text": [
      "\u001b[1mDownloading and preparing dataset 153.59 MiB (download: 153.59 MiB, generated: Unknown size, total: 153.59 MiB) to /home/mo/tensorflow_datasets/horses_or_humans/3.0.0...\u001b[0m\n"
     ]
    },
    {
     "data": {
      "application/vnd.jupyter.widget-view+json": {
       "model_id": "4a13947bb1e74437b361e653f050adf6",
       "version_major": 2,
       "version_minor": 0
      },
      "text/plain": [
       "Dl Completed...: 0 url [00:00, ? url/s]"
      ]
     },
     "metadata": {},
     "output_type": "display_data"
    },
    {
     "data": {
      "application/vnd.jupyter.widget-view+json": {
       "model_id": "3b424e62861845f69b65b8d881e8b994",
       "version_major": 2,
       "version_minor": 0
      },
      "text/plain": [
       "Dl Size...: 0 MiB [00:00, ? MiB/s]"
      ]
     },
     "metadata": {},
     "output_type": "display_data"
    },
    {
     "data": {
      "application/vnd.jupyter.widget-view+json": {
       "model_id": "",
       "version_major": 2,
       "version_minor": 0
      },
      "text/plain": [
       "Generating splits...:   0%|          | 0/2 [00:00<?, ? splits/s]"
      ]
     },
     "metadata": {},
     "output_type": "display_data"
    },
    {
     "data": {
      "application/vnd.jupyter.widget-view+json": {
       "model_id": "",
       "version_major": 2,
       "version_minor": 0
      },
      "text/plain": [
       "Generating train examples...:   0%|          | 0/1027 [00:00<?, ? examples/s]"
      ]
     },
     "metadata": {},
     "output_type": "display_data"
    },
    {
     "data": {
      "application/vnd.jupyter.widget-view+json": {
       "model_id": "",
       "version_major": 2,
       "version_minor": 0
      },
      "text/plain": [
       "Shuffling horses_or_humans-train.tfrecord...:   0%|          | 0/1027 [00:00<?, ? examples/s]"
      ]
     },
     "metadata": {},
     "output_type": "display_data"
    },
    {
     "data": {
      "application/vnd.jupyter.widget-view+json": {
       "model_id": "",
       "version_major": 2,
       "version_minor": 0
      },
      "text/plain": [
       "Generating test examples...:   0%|          | 0/256 [00:00<?, ? examples/s]"
      ]
     },
     "metadata": {},
     "output_type": "display_data"
    },
    {
     "data": {
      "application/vnd.jupyter.widget-view+json": {
       "model_id": "",
       "version_major": 2,
       "version_minor": 0
      },
      "text/plain": [
       "Shuffling horses_or_humans-test.tfrecord...:   0%|          | 0/256 [00:00<?, ? examples/s]"
      ]
     },
     "metadata": {},
     "output_type": "display_data"
    },
    {
     "name": "stdout",
     "output_type": "stream",
     "text": [
      "\u001b[1mDataset horses_or_humans downloaded and prepared to /home/mo/tensorflow_datasets/horses_or_humans/3.0.0. Subsequent calls will reuse this data.\u001b[0m\n"
     ]
    }
   ],
   "source": [
    "# Download and prepare the horses or humans dataset\n",
    "\n",
    "splits, info = tfds.load('horses_or_humans', as_supervised=True, with_info=True, split=['train[:80%]', 'train[80%:]', 'test'])\n",
    "\n",
    "(train_examples, validation_examples, test_examples) = splits\n",
    "# the data is in tuples(tensor img, tensor label)\n",
    "\n",
    "num_examples = info.splits['train'].num_examples\n",
    "num_classes = info.features['label'].num_classes"
   ]
  },
  {
   "cell_type": "code",
   "execution_count": 28,
   "id": "82330970-6333-476d-89c3-77f3cab53310",
   "metadata": {},
   "outputs": [
    {
     "name": "stdout",
     "output_type": "stream",
     "text": [
      "original image shape (300, 300, 3)\n",
      "image label tf.Tensor(0, shape=(), dtype=int64)\n"
     ]
    }
   ],
   "source": [
    "for img, label in train_examples.take(1):\n",
    "    print(\"original image shape\",img.shape)\n",
    "    print(\"image label\", label)"
   ]
  },
  {
   "cell_type": "code",
   "execution_count": 29,
   "id": "93ce8220-0839-4e62-b530-bf5fbc8345aa",
   "metadata": {},
   "outputs": [],
   "source": [
    "SIZE = 150 #@param {type:\"slider\", min:64, max:300, step:1}\n",
    "IMAGE_SIZE = (SIZE, SIZE)\n",
    "\n",
    "def format_image(image, label):\n",
    "    image = tf.image.resize(image, IMAGE_SIZE) / 255.0\n",
    "    return  image, label"
   ]
  },
  {
   "cell_type": "code",
   "execution_count": 5,
   "id": "deefb274-2983-4b31-a4b5-88b60cc55d23",
   "metadata": {},
   "outputs": [],
   "source": [
    "BATCH_SIZE = 32 #@param {type:\"integer\"}"
   ]
  },
  {
   "cell_type": "code",
   "execution_count": 32,
   "id": "6de49e3e-3518-4bb4-9f3e-d258e5ebcabb",
   "metadata": {},
   "outputs": [],
   "source": [
    "shuffle_buffer_size = num_examples // 4\n",
    "train_batches = train_examples.shuffle(shuffle_buffer_size)\n",
    "train_batches = train_batches.map(format_image).batch(BATCH_SIZE).prefetch(1)\n",
    "\n",
    "validation_batches = validation_examples.map(format_image).batch(BATCH_SIZE).prefetch(1)\n",
    "\n",
    "test_batches = test_examples.map(format_image).batch(1)"
   ]
  },
  {
   "cell_type": "code",
   "execution_count": 24,
   "id": "39f821e1-b9b5-4a96-8d1b-9558a1915b22",
   "metadata": {},
   "outputs": [
    {
     "name": "stdout",
     "output_type": "stream",
     "text": [
      "images batch shape (32, 150, 150, 3)\n",
      "labels batch: tf.Tensor([1 0 0 1 1 1 0 1 1 0 1 1 1 0 0 0 1 0 1 1 1 1 0 0 1 1 1 0 1 1 0 0], shape=(32,), dtype=int64)\n"
     ]
    },
    {
     "data": {
      "text/plain": [
       "TensorShape([32, 150, 150, 3])"
      ]
     },
     "execution_count": 24,
     "metadata": {},
     "output_type": "execute_result"
    }
   ],
   "source": [
    "for image_batch, label_batch in train_batches.take(1):\n",
    "    print(\"images batch shape\", image_batch.shape)\n",
    "    print(\"labels batch:\", label_batch)\n",
    "\n",
    "image_batch.shape"
   ]
  },
  {
   "cell_type": "code",
   "execution_count": 34,
   "id": "5379d235-6802-40fa-b445-5bf2d9665ce8",
   "metadata": {},
   "outputs": [],
   "source": [
    "def build_model(dense_units, input_shape=IMAGE_SIZE + (3,)):\n",
    "    inputs = tf.keras.layers.Input(shape = input_shape, name=\"input_layer\")\n",
    "    \n",
    "    x = Conv2D(16, (3,3), activation='relu', name=\"first_conv\")(inputs)\n",
    "    x = MaxPooling2D(2,2, name='first_maxpool')(x)\n",
    "    \n",
    "    x = Conv2D(32, (3,3), activation='relu', name='second_conv')(x)\n",
    "    x = MaxPooling2D(2,2, name='second_maxpool')(x)\n",
    "    \n",
    "    x = Conv2D(64, (3,3), activation='relu', name='third_conv')(x)\n",
    "    x = MaxPooling2D(2,2, name='third_maxpool')(x)\n",
    "    \n",
    "    x = Flatten()(x)\n",
    "    x = Dense(dense_units, activation='relu')(x)\n",
    "    outputs = Dense(2, activation='softmax', name='classifier_dense')(x)\n",
    "    \n",
    "    return Model(inputs, outputs)    "
   ]
  },
  {
   "cell_type": "code",
   "execution_count": 35,
   "id": "0e37b4dc-500f-4961-a6c7-72820c3ba3da",
   "metadata": {},
   "outputs": [
    {
     "name": "stdout",
     "output_type": "stream",
     "text": [
      "Epoch 1/10\n",
      "26/26 [==============================] - 6s 53ms/step - loss: 0.6663 - accuracy: 0.6204 - val_loss: 0.6645 - val_accuracy: 0.4976\n",
      "Epoch 2/10\n",
      "26/26 [==============================] - 0s 10ms/step - loss: 0.5930 - accuracy: 0.7433 - val_loss: 0.5497 - val_accuracy: 0.7902\n",
      "Epoch 3/10\n",
      "26/26 [==============================] - 0s 11ms/step - loss: 0.5401 - accuracy: 0.7506 - val_loss: 0.4679 - val_accuracy: 0.8098\n",
      "Epoch 4/10\n",
      "26/26 [==============================] - 0s 11ms/step - loss: 0.4589 - accuracy: 0.8017 - val_loss: 0.4031 - val_accuracy: 0.8732\n",
      "Epoch 5/10\n",
      "26/26 [==============================] - 0s 11ms/step - loss: 0.3851 - accuracy: 0.8479 - val_loss: 0.4443 - val_accuracy: 0.7951\n",
      "Epoch 6/10\n",
      "26/26 [==============================] - 0s 12ms/step - loss: 0.3013 - accuracy: 0.8917 - val_loss: 0.3157 - val_accuracy: 0.8634\n",
      "Epoch 7/10\n",
      "26/26 [==============================] - 0s 11ms/step - loss: 0.2747 - accuracy: 0.8990 - val_loss: 0.2002 - val_accuracy: 0.9463\n",
      "Epoch 8/10\n",
      "26/26 [==============================] - 0s 11ms/step - loss: 0.2017 - accuracy: 0.9392 - val_loss: 0.1895 - val_accuracy: 0.9220\n",
      "Epoch 9/10\n",
      "26/26 [==============================] - 0s 11ms/step - loss: 0.1789 - accuracy: 0.9477 - val_loss: 0.1406 - val_accuracy: 0.9561\n",
      "Epoch 10/10\n",
      "26/26 [==============================] - 0s 11ms/step - loss: 0.1411 - accuracy: 0.9586 - val_loss: 0.1484 - val_accuracy: 0.9463\n"
     ]
    },
    {
     "data": {
      "text/plain": [
       "<keras.callbacks.History at 0x7f4ac877ea20>"
      ]
     },
     "execution_count": 35,
     "metadata": {},
     "output_type": "execute_result"
    }
   ],
   "source": [
    "# first callback: Tensorboard\n",
    "!rm -rf logs\n",
    "\n",
    "model = build_model(dense_units=256)\n",
    "model.compile(\n",
    "    optimizer='sgd',\n",
    "    loss='sparse_categorical_crossentropy',\n",
    "    metrics=['accuracy'])\n",
    "\n",
    "logdir = os.path.join(\"logs\", datetime.datetime.now().strftime(\"%Y%m%d-%H%M%S\"))\n",
    "tensorboard_callback = TensorBoard(logdir)\n",
    "\n",
    "model.fit(train_batches, epochs=10, validation_data=validation_batches,\n",
    "          callbacks=[tensorboard_callback])\n"
   ]
  },
  {
   "cell_type": "code",
   "execution_count": 37,
   "id": "029f9b42-0273-4314-a227-f7b6344dd3af",
   "metadata": {},
   "outputs": [
    {
     "data": {
      "text/plain": [
       "Reusing TensorBoard on port 6006 (pid 6849), started 0:01:15 ago. (Use '!kill 6849' to kill it.)"
      ]
     },
     "metadata": {},
     "output_type": "display_data"
    },
    {
     "data": {
      "text/html": [
       "\n",
       "      <iframe id=\"tensorboard-frame-a5d3f9b615df3de6\" width=\"100%\" height=\"800\" frameborder=\"0\">\n",
       "      </iframe>\n",
       "      <script>\n",
       "        (function() {\n",
       "          const frame = document.getElementById(\"tensorboard-frame-a5d3f9b615df3de6\");\n",
       "          const url = new URL(\"/\", window.location);\n",
       "          const port = 6006;\n",
       "          if (port) {\n",
       "            url.port = port;\n",
       "          }\n",
       "          frame.src = url;\n",
       "        })();\n",
       "      </script>\n",
       "    "
      ],
      "text/plain": [
       "<IPython.core.display.HTML object>"
      ]
     },
     "metadata": {},
     "output_type": "display_data"
    }
   ],
   "source": [
    "%tensorboard --logdir logs"
   ]
  },
  {
   "cell_type": "code",
   "execution_count": 38,
   "id": "b28af252-1d1f-4e77-b125-b3395c5d9d6b",
   "metadata": {},
   "outputs": [
    {
     "name": "stdout",
     "output_type": "stream",
     "text": [
      "Epoch 1/5\n",
      "26/26 - 1s - loss: 0.6776 - accuracy: 0.5316 - val_loss: 0.6663 - val_accuracy: 0.8195\n",
      "\n",
      "Epoch 00001: saving model to weights.01-0.67.h5\n",
      "Epoch 2/5\n",
      "26/26 - 0s - loss: 0.6544 - accuracy: 0.5998 - val_loss: 0.6415 - val_accuracy: 0.7463\n",
      "\n",
      "Epoch 00002: saving model to weights.02-0.64.h5\n",
      "Epoch 3/5\n",
      "26/26 - 0s - loss: 0.6232 - accuracy: 0.6959 - val_loss: 0.6262 - val_accuracy: 0.5610\n",
      "\n",
      "Epoch 00003: saving model to weights.03-0.63.h5\n",
      "Epoch 4/5\n",
      "26/26 - 0s - loss: 0.5848 - accuracy: 0.7153 - val_loss: 0.5445 - val_accuracy: 0.7756\n",
      "\n",
      "Epoch 00004: saving model to weights.04-0.54.h5\n",
      "Epoch 5/5\n",
      "26/26 - 0s - loss: 0.5552 - accuracy: 0.7421 - val_loss: 0.5093 - val_accuracy: 0.8049\n",
      "\n",
      "Epoch 00005: saving model to weights.05-0.51.h5\n"
     ]
    },
    {
     "data": {
      "text/plain": [
       "<keras.callbacks.History at 0x7f4ca9923f98>"
      ]
     },
     "execution_count": 38,
     "metadata": {},
     "output_type": "execute_result"
    }
   ],
   "source": [
    "## model checkpoint, we can save a model or weights\n",
    "\n",
    "model = build_model(dense_units=256)\n",
    "model.compile(\n",
    "    optimizer='sgd',\n",
    "    loss='sparse_categorical_crossentropy', \n",
    "    metrics=['accuracy'])\n",
    "  \n",
    "model.fit(train_batches, \n",
    "          epochs=5, \n",
    "          validation_data=validation_batches, \n",
    "          verbose=2,\n",
    "          callbacks=[ModelCheckpoint('weights.{epoch:02d}-{val_loss:.2f}.h5', verbose=1),\n",
    "          ])\n",
    "\n"
   ]
  },
  {
   "cell_type": "code",
   "execution_count": 39,
   "id": "716e6b4e-b41d-4a1e-a292-0d04f461bb8c",
   "metadata": {},
   "outputs": [
    {
     "name": "stdout",
     "output_type": "stream",
     "text": [
      "26/26 - 1s - loss: 0.6715 - accuracy: 0.5827 - val_loss: 0.6672 - val_accuracy: 0.5317\n",
      "\n",
      "Epoch 00001: saving model to saved_model\n",
      "INFO:tensorflow:Assets written to: saved_model/assets\n"
     ]
    },
    {
     "name": "stderr",
     "output_type": "stream",
     "text": [
      "INFO:tensorflow:Assets written to: saved_model/assets\n"
     ]
    },
    {
     "data": {
      "text/plain": [
       "<keras.callbacks.History at 0x7f4cb8be1fd0>"
      ]
     },
     "execution_count": 39,
     "metadata": {},
     "output_type": "execute_result"
    }
   ],
   "source": [
    "model = build_model(dense_units=256)\n",
    "model.compile(\n",
    "    optimizer='sgd',\n",
    "    loss='sparse_categorical_crossentropy', \n",
    "    metrics=['accuracy'])\n",
    "  \n",
    "model.fit(train_batches, \n",
    "          epochs=1, \n",
    "          validation_data=validation_batches, \n",
    "          verbose=2,\n",
    "          callbacks=[ModelCheckpoint('saved_model', verbose=1)\n",
    "          ])"
   ]
  },
  {
   "cell_type": "code",
   "execution_count": 40,
   "id": "58c4e2e3-8499-4866-ac7b-6a4a1c697538",
   "metadata": {},
   "outputs": [
    {
     "name": "stdout",
     "output_type": "stream",
     "text": [
      "Epoch 1/2\n",
      "26/26 - 1s - loss: 0.6604 - accuracy: 0.5791 - val_loss: 0.6327 - val_accuracy: 0.6829\n",
      "\n",
      "Epoch 00001: saving model to model.h5\n",
      "Epoch 2/2\n",
      "26/26 - 0s - loss: 0.6038 - accuracy: 0.7105 - val_loss: 0.6136 - val_accuracy: 0.6000\n",
      "\n",
      "Epoch 00002: saving model to model.h5\n"
     ]
    },
    {
     "data": {
      "text/plain": [
       "<keras.callbacks.History at 0x7f4cb883cd30>"
      ]
     },
     "execution_count": 40,
     "metadata": {},
     "output_type": "execute_result"
    }
   ],
   "source": [
    "model = build_model(dense_units=256)\n",
    "model.compile(\n",
    "    optimizer='sgd',\n",
    "    loss='sparse_categorical_crossentropy', \n",
    "    metrics=['accuracy'])\n",
    "  \n",
    "model.fit(train_batches, \n",
    "          epochs=2, \n",
    "          validation_data=validation_batches, \n",
    "          verbose=2,\n",
    "          callbacks=[ModelCheckpoint('model.h5', verbose=1)\n",
    "          ])"
   ]
  },
  {
   "cell_type": "code",
   "execution_count": 41,
   "id": "af62d0e0-b33d-4b58-880a-72f1deb45183",
   "metadata": {},
   "outputs": [
    {
     "name": "stdout",
     "output_type": "stream",
     "text": [
      "Epoch 1/50\n",
      "26/26 - 1s - loss: 0.6695 - accuracy: 0.5815 - val_loss: 0.6559 - val_accuracy: 0.6439\n",
      "Epoch 2/50\n",
      "26/26 - 0s - loss: 0.6137 - accuracy: 0.7092 - val_loss: 0.5824 - val_accuracy: 0.7463\n",
      "Epoch 3/50\n",
      "26/26 - 0s - loss: 0.5445 - accuracy: 0.7445 - val_loss: 0.5119 - val_accuracy: 0.7659\n",
      "Epoch 4/50\n",
      "26/26 - 0s - loss: 0.4768 - accuracy: 0.7786 - val_loss: 0.5110 - val_accuracy: 0.7805\n",
      "Epoch 5/50\n",
      "26/26 - 0s - loss: 0.4276 - accuracy: 0.8236 - val_loss: 0.5087 - val_accuracy: 0.7561\n",
      "Epoch 6/50\n",
      "26/26 - 0s - loss: 0.3780 - accuracy: 0.8455 - val_loss: 0.3351 - val_accuracy: 0.8488\n",
      "Epoch 7/50\n",
      "26/26 - 0s - loss: 0.3178 - accuracy: 0.8735 - val_loss: 0.3076 - val_accuracy: 0.8927\n",
      "Epoch 8/50\n",
      "26/26 - 0s - loss: 0.2791 - accuracy: 0.9002 - val_loss: 0.3269 - val_accuracy: 0.8488\n",
      "Epoch 9/50\n",
      "26/26 - 0s - loss: 0.2147 - accuracy: 0.9380 - val_loss: 0.1607 - val_accuracy: 0.9610\n",
      "Epoch 10/50\n",
      "26/26 - 0s - loss: 0.1727 - accuracy: 0.9672 - val_loss: 0.2057 - val_accuracy: 0.9268\n",
      "Epoch 11/50\n",
      "26/26 - 0s - loss: 0.1415 - accuracy: 0.9635 - val_loss: 0.3116 - val_accuracy: 0.8341\n",
      "Epoch 12/50\n",
      "26/26 - 0s - loss: 0.1240 - accuracy: 0.9696 - val_loss: 0.0899 - val_accuracy: 0.9902\n",
      "Epoch 13/50\n",
      "26/26 - 0s - loss: 0.0886 - accuracy: 0.9878 - val_loss: 0.0844 - val_accuracy: 0.9902\n",
      "Epoch 14/50\n",
      "26/26 - 0s - loss: 0.0919 - accuracy: 0.9793 - val_loss: 0.0851 - val_accuracy: 0.9854\n",
      "Epoch 15/50\n",
      "26/26 - 0s - loss: 0.0707 - accuracy: 0.9891 - val_loss: 0.0610 - val_accuracy: 0.9902\n",
      "Restoring model weights from the end of the best epoch.\n",
      "Epoch 00015: early stopping\n"
     ]
    },
    {
     "data": {
      "text/plain": [
       "<keras.callbacks.History at 0x7f4cb88906d8>"
      ]
     },
     "execution_count": 41,
     "metadata": {},
     "output_type": "execute_result"
    }
   ],
   "source": [
    "#### Early stoppage callback, stop model when we stop improving\n",
    "\n",
    "\n",
    "\n",
    "model = build_model(dense_units=256)\n",
    "model.compile(\n",
    "    optimizer='sgd',\n",
    "    loss='sparse_categorical_crossentropy', \n",
    "    metrics=['accuracy'])\n",
    "  \n",
    "model.fit(train_batches, \n",
    "          epochs=50, \n",
    "          validation_data=validation_batches, \n",
    "          verbose=2,\n",
    "          callbacks=[EarlyStopping(\n",
    "              patience=3,\n",
    "              min_delta=0.05,\n",
    "              baseline=0.8,\n",
    "              mode='min',\n",
    "              monitor='val_loss',\n",
    "              restore_best_weights=True,\n",
    "              verbose=1)\n",
    "          ])\n",
    "\n"
   ]
  },
  {
   "cell_type": "code",
   "execution_count": 42,
   "id": "451d93c6-6516-4aa9-a532-0bbd2e31de3a",
   "metadata": {},
   "outputs": [
    {
     "name": "stdout",
     "output_type": "stream",
     "text": [
      "Epoch 1/5\n",
      "26/26 [==============================] - 1s 14ms/step - loss: 0.6719 - accuracy: 0.5268 - val_loss: 0.6726 - val_accuracy: 0.4878\n",
      "Epoch 2/5\n",
      "26/26 [==============================] - 0s 11ms/step - loss: 0.6310 - accuracy: 0.6375 - val_loss: 0.6868 - val_accuracy: 0.4927\n",
      "Epoch 3/5\n",
      "26/26 [==============================] - 0s 11ms/step - loss: 0.5682 - accuracy: 0.7263 - val_loss: 0.7127 - val_accuracy: 0.5756\n",
      "Epoch 4/5\n",
      "26/26 [==============================] - 0s 10ms/step - loss: 0.5808 - accuracy: 0.7007 - val_loss: 0.6023 - val_accuracy: 0.6000\n",
      "Epoch 5/5\n",
      "26/26 [==============================] - 0s 11ms/step - loss: 0.5026 - accuracy: 0.7749 - val_loss: 0.4873 - val_accuracy: 0.7854\n"
     ]
    },
    {
     "data": {
      "text/plain": [
       "<keras.callbacks.History at 0x7f4cb875b7b8>"
      ]
     },
     "execution_count": 42,
     "metadata": {},
     "output_type": "execute_result"
    }
   ],
   "source": [
    "#### CSV logger streams epoch results to a csv file\n",
    "model = build_model(dense_units=256)\n",
    "model.compile(\n",
    "    optimizer='sgd',\n",
    "    loss='sparse_categorical_crossentropy', \n",
    "    metrics=['accuracy'])\n",
    "  \n",
    "csv_file = 'training.csv'\n",
    "\n",
    "model.fit(train_batches, \n",
    "          epochs=5, \n",
    "          validation_data=validation_batches, \n",
    "          callbacks=[CSVLogger(csv_file)\n",
    "          ])"
   ]
  },
  {
   "cell_type": "code",
   "execution_count": 43,
   "id": "cba451af-f174-4011-932f-a75cc8e00edc",
   "metadata": {},
   "outputs": [
    {
     "data": {
      "text/html": [
       "<div>\n",
       "<style scoped>\n",
       "    .dataframe tbody tr th:only-of-type {\n",
       "        vertical-align: middle;\n",
       "    }\n",
       "\n",
       "    .dataframe tbody tr th {\n",
       "        vertical-align: top;\n",
       "    }\n",
       "\n",
       "    .dataframe thead th {\n",
       "        text-align: right;\n",
       "    }\n",
       "</style>\n",
       "<table border=\"1\" class=\"dataframe\">\n",
       "  <thead>\n",
       "    <tr style=\"text-align: right;\">\n",
       "      <th></th>\n",
       "      <th>epoch</th>\n",
       "      <th>accuracy</th>\n",
       "      <th>loss</th>\n",
       "      <th>val_accuracy</th>\n",
       "      <th>val_loss</th>\n",
       "    </tr>\n",
       "  </thead>\n",
       "  <tbody>\n",
       "    <tr>\n",
       "      <th>0</th>\n",
       "      <td>0</td>\n",
       "      <td>0.526764</td>\n",
       "      <td>0.671886</td>\n",
       "      <td>0.487805</td>\n",
       "      <td>0.672622</td>\n",
       "    </tr>\n",
       "    <tr>\n",
       "      <th>1</th>\n",
       "      <td>1</td>\n",
       "      <td>0.637470</td>\n",
       "      <td>0.630970</td>\n",
       "      <td>0.492683</td>\n",
       "      <td>0.686824</td>\n",
       "    </tr>\n",
       "    <tr>\n",
       "      <th>2</th>\n",
       "      <td>2</td>\n",
       "      <td>0.726277</td>\n",
       "      <td>0.568192</td>\n",
       "      <td>0.575610</td>\n",
       "      <td>0.712699</td>\n",
       "    </tr>\n",
       "    <tr>\n",
       "      <th>3</th>\n",
       "      <td>3</td>\n",
       "      <td>0.700730</td>\n",
       "      <td>0.580818</td>\n",
       "      <td>0.600000</td>\n",
       "      <td>0.602277</td>\n",
       "    </tr>\n",
       "    <tr>\n",
       "      <th>4</th>\n",
       "      <td>4</td>\n",
       "      <td>0.774939</td>\n",
       "      <td>0.502648</td>\n",
       "      <td>0.785366</td>\n",
       "      <td>0.487279</td>\n",
       "    </tr>\n",
       "  </tbody>\n",
       "</table>\n",
       "</div>"
      ],
      "text/plain": [
       "   epoch  accuracy      loss  val_accuracy  val_loss\n",
       "0      0  0.526764  0.671886      0.487805  0.672622\n",
       "1      1  0.637470  0.630970      0.492683  0.686824\n",
       "2      2  0.726277  0.568192      0.575610  0.712699\n",
       "3      3  0.700730  0.580818      0.600000  0.602277\n",
       "4      4  0.774939  0.502648      0.785366  0.487279"
      ]
     },
     "execution_count": 43,
     "metadata": {},
     "output_type": "execute_result"
    }
   ],
   "source": [
    "pd.read_csv(csv_file).head()"
   ]
  },
  {
   "cell_type": "code",
   "execution_count": 44,
   "id": "1a9d435b-9a55-45cd-88e6-f8dc90e07f1a",
   "metadata": {},
   "outputs": [
    {
     "name": "stdout",
     "output_type": "stream",
     "text": [
      "Epoch 1/5\n",
      "\n",
      "Epoch 00001: LearningRateScheduler setting learning rate to 0.005.\n",
      "26/26 [==============================] - 1s 35ms/step - loss: 0.6738 - accuracy: 0.5742 - val_loss: 0.6981 - val_accuracy: 0.4341\n",
      "Epoch 2/5\n",
      "\n",
      "Epoch 00002: LearningRateScheduler setting learning rate to 0.0025.\n",
      "26/26 [==============================] - 0s 10ms/step - loss: 0.6497 - accuracy: 0.6022 - val_loss: 0.6492 - val_accuracy: 0.7463\n",
      "Epoch 3/5\n",
      "\n",
      "Epoch 00003: LearningRateScheduler setting learning rate to 0.00125.\n",
      "26/26 [==============================] - 0s 11ms/step - loss: 0.6345 - accuracy: 0.7105 - val_loss: 0.6421 - val_accuracy: 0.7610\n",
      "Epoch 4/5\n",
      "\n",
      "Epoch 00004: LearningRateScheduler setting learning rate to 0.000625.\n",
      "26/26 [==============================] - 0s 10ms/step - loss: 0.6273 - accuracy: 0.7384 - val_loss: 0.6402 - val_accuracy: 0.7317\n",
      "Epoch 5/5\n",
      "\n",
      "Epoch 00005: LearningRateScheduler setting learning rate to 0.0003125.\n",
      "26/26 [==============================] - 0s 11ms/step - loss: 0.6230 - accuracy: 0.7591 - val_loss: 0.6398 - val_accuracy: 0.7220\n"
     ]
    },
    {
     "data": {
      "text/plain": [
       "<keras.callbacks.History at 0x7f4cb85b92b0>"
      ]
     },
     "execution_count": 44,
     "metadata": {},
     "output_type": "execute_result"
    }
   ],
   "source": [
    "### Learning rate scheduler\n",
    "#updates lr dufing training\n",
    "\n",
    "model = build_model(dense_units=256)\n",
    "model.compile(\n",
    "    optimizer='sgd',\n",
    "    loss='sparse_categorical_crossentropy', \n",
    "    metrics=['accuracy'])\n",
    "  \n",
    "def step_decay(epoch):\n",
    "\tinitial_lr = 0.01\n",
    "\tdrop = 0.5\n",
    "\tepochs_drop = 1\n",
    "\tlr = initial_lr * math.pow(drop, math.floor((1+epoch)/epochs_drop))\n",
    "\treturn lr\n",
    "\n",
    "model.fit(train_batches, \n",
    "          epochs=5, \n",
    "          validation_data=validation_batches, \n",
    "          callbacks=[LearningRateScheduler(step_decay, verbose=1),\n",
    "                    TensorBoard(log_dir='./log_dir')])"
   ]
  },
  {
   "cell_type": "code",
   "execution_count": 45,
   "id": "e97493d7-9d85-42a0-9f14-9afe1e914b0d",
   "metadata": {},
   "outputs": [
    {
     "data": {
      "text/html": [
       "\n",
       "      <iframe id=\"tensorboard-frame-900b6a8fcfcc3e7\" width=\"100%\" height=\"800\" frameborder=\"0\">\n",
       "      </iframe>\n",
       "      <script>\n",
       "        (function() {\n",
       "          const frame = document.getElementById(\"tensorboard-frame-900b6a8fcfcc3e7\");\n",
       "          const url = new URL(\"/\", window.location);\n",
       "          const port = 6007;\n",
       "          if (port) {\n",
       "            url.port = port;\n",
       "          }\n",
       "          frame.src = url;\n",
       "        })();\n",
       "      </script>\n",
       "    "
      ],
      "text/plain": [
       "<IPython.core.display.HTML object>"
      ]
     },
     "metadata": {},
     "output_type": "display_data"
    }
   ],
   "source": [
    "%tensorboard --logdir log_dir"
   ]
  },
  {
   "cell_type": "code",
   "execution_count": 46,
   "id": "58426c8c-2c32-4e3a-b8fe-e8070e037462",
   "metadata": {},
   "outputs": [
    {
     "name": "stdout",
     "output_type": "stream",
     "text": [
      "Epoch 1/50\n",
      "26/26 [==============================] - 1s 30ms/step - loss: 0.6642 - accuracy: 0.5925 - val_loss: 0.6583 - val_accuracy: 0.5122\n",
      "Epoch 2/50\n",
      "26/26 [==============================] - 0s 11ms/step - loss: 0.5897 - accuracy: 0.7372 - val_loss: 0.5679 - val_accuracy: 0.6829\n",
      "Epoch 3/50\n",
      "26/26 [==============================] - 0s 11ms/step - loss: 0.5417 - accuracy: 0.7409 - val_loss: 0.5313 - val_accuracy: 0.7756\n",
      "Epoch 4/50\n",
      "26/26 [==============================] - 0s 11ms/step - loss: 0.4603 - accuracy: 0.7993 - val_loss: 0.4352 - val_accuracy: 0.8634\n",
      "Epoch 5/50\n",
      "26/26 [==============================] - 0s 11ms/step - loss: 0.4098 - accuracy: 0.8285 - val_loss: 0.3510 - val_accuracy: 0.8390\n",
      "Epoch 6/50\n",
      "26/26 [==============================] - 0s 11ms/step - loss: 0.3491 - accuracy: 0.8735 - val_loss: 0.2975 - val_accuracy: 0.9122\n",
      "Epoch 7/50\n",
      "26/26 [==============================] - 0s 11ms/step - loss: 0.2991 - accuracy: 0.8905 - val_loss: 0.2391 - val_accuracy: 0.9024\n",
      "Epoch 8/50\n",
      "26/26 [==============================] - 0s 11ms/step - loss: 0.2436 - accuracy: 0.9197 - val_loss: 0.1885 - val_accuracy: 0.9561\n",
      "Epoch 9/50\n",
      "26/26 [==============================] - 0s 11ms/step - loss: 0.1816 - accuracy: 0.9489 - val_loss: 0.1497 - val_accuracy: 0.9659\n",
      "Epoch 10/50\n",
      "26/26 [==============================] - 0s 11ms/step - loss: 0.1584 - accuracy: 0.9623 - val_loss: 0.1658 - val_accuracy: 0.9366\n",
      "\n",
      "Epoch 00010: ReduceLROnPlateau reducing learning rate to 0.0019999999552965165.\n",
      "Epoch 11/50\n",
      "26/26 [==============================] - 0s 11ms/step - loss: 0.1224 - accuracy: 0.9793 - val_loss: 0.1168 - val_accuracy: 0.9659\n",
      "Epoch 12/50\n",
      "26/26 [==============================] - 0s 11ms/step - loss: 0.1143 - accuracy: 0.9842 - val_loss: 0.1149 - val_accuracy: 0.9659\n",
      "Epoch 13/50\n",
      "26/26 [==============================] - 0s 11ms/step - loss: 0.1090 - accuracy: 0.9866 - val_loss: 0.1142 - val_accuracy: 0.9561\n",
      "Epoch 14/50\n",
      "26/26 [==============================] - 0s 10ms/step - loss: 0.1039 - accuracy: 0.9854 - val_loss: 0.1055 - val_accuracy: 0.9659\n",
      "Epoch 15/50\n",
      "26/26 [==============================] - 0s 11ms/step - loss: 0.1003 - accuracy: 0.9842 - val_loss: 0.0984 - val_accuracy: 0.9756\n",
      "Epoch 16/50\n",
      "26/26 [==============================] - 0s 11ms/step - loss: 0.0973 - accuracy: 0.9866 - val_loss: 0.0974 - val_accuracy: 0.9707\n",
      "Epoch 17/50\n",
      "26/26 [==============================] - 0s 11ms/step - loss: 0.0936 - accuracy: 0.9854 - val_loss: 0.0915 - val_accuracy: 0.9902\n",
      "Epoch 18/50\n",
      "26/26 [==============================] - 0s 11ms/step - loss: 0.0900 - accuracy: 0.9842 - val_loss: 0.0921 - val_accuracy: 0.9756\n",
      "\n",
      "Epoch 00018: ReduceLROnPlateau reducing learning rate to 0.001.\n",
      "Epoch 19/50\n",
      "26/26 [==============================] - 0s 11ms/step - loss: 0.0868 - accuracy: 0.9854 - val_loss: 0.0888 - val_accuracy: 0.9756\n",
      "Epoch 20/50\n",
      "26/26 [==============================] - 0s 11ms/step - loss: 0.0850 - accuracy: 0.9854 - val_loss: 0.0886 - val_accuracy: 0.9756\n",
      "Epoch 21/50\n",
      "26/26 [==============================] - 0s 11ms/step - loss: 0.0836 - accuracy: 0.9878 - val_loss: 0.0880 - val_accuracy: 0.9756\n",
      "Epoch 22/50\n",
      "26/26 [==============================] - 0s 11ms/step - loss: 0.0823 - accuracy: 0.9854 - val_loss: 0.0862 - val_accuracy: 0.9756\n",
      "Epoch 23/50\n",
      "26/26 [==============================] - 0s 11ms/step - loss: 0.0814 - accuracy: 0.9866 - val_loss: 0.0838 - val_accuracy: 0.9805\n",
      "Epoch 24/50\n",
      "26/26 [==============================] - 0s 11ms/step - loss: 0.0797 - accuracy: 0.9866 - val_loss: 0.0866 - val_accuracy: 0.9707\n",
      "Epoch 25/50\n",
      "26/26 [==============================] - 0s 11ms/step - loss: 0.0785 - accuracy: 0.9866 - val_loss: 0.0822 - val_accuracy: 0.9756\n",
      "Epoch 26/50\n",
      "26/26 [==============================] - 0s 11ms/step - loss: 0.0769 - accuracy: 0.9866 - val_loss: 0.0800 - val_accuracy: 0.9902\n",
      "Epoch 27/50\n",
      "26/26 [==============================] - 0s 11ms/step - loss: 0.0758 - accuracy: 0.9866 - val_loss: 0.0793 - val_accuracy: 0.9805\n",
      "Epoch 28/50\n",
      "26/26 [==============================] - 0s 11ms/step - loss: 0.0743 - accuracy: 0.9878 - val_loss: 0.0778 - val_accuracy: 0.9854\n",
      "Epoch 29/50\n",
      "26/26 [==============================] - 0s 11ms/step - loss: 0.0735 - accuracy: 0.9878 - val_loss: 0.0786 - val_accuracy: 0.9756\n",
      "Epoch 30/50\n",
      "26/26 [==============================] - 0s 11ms/step - loss: 0.0720 - accuracy: 0.9866 - val_loss: 0.0778 - val_accuracy: 0.9756\n",
      "Epoch 31/50\n",
      "26/26 [==============================] - 0s 11ms/step - loss: 0.0715 - accuracy: 0.9878 - val_loss: 0.0770 - val_accuracy: 0.9756\n",
      "Epoch 32/50\n",
      "26/26 [==============================] - 0s 11ms/step - loss: 0.0699 - accuracy: 0.9866 - val_loss: 0.0757 - val_accuracy: 0.9805\n",
      "Epoch 33/50\n",
      "26/26 [==============================] - 0s 11ms/step - loss: 0.0693 - accuracy: 0.9878 - val_loss: 0.0743 - val_accuracy: 0.9854\n",
      "Epoch 34/50\n",
      "26/26 [==============================] - 0s 11ms/step - loss: 0.0677 - accuracy: 0.9866 - val_loss: 0.0746 - val_accuracy: 0.9805\n",
      "Epoch 35/50\n",
      "26/26 [==============================] - 0s 11ms/step - loss: 0.0672 - accuracy: 0.9891 - val_loss: 0.0733 - val_accuracy: 0.9805\n",
      "Epoch 36/50\n",
      "26/26 [==============================] - 0s 11ms/step - loss: 0.0661 - accuracy: 0.9878 - val_loss: 0.0704 - val_accuracy: 0.9854\n",
      "Epoch 37/50\n",
      "26/26 [==============================] - 0s 11ms/step - loss: 0.0647 - accuracy: 0.9891 - val_loss: 0.0710 - val_accuracy: 0.9854\n",
      "Epoch 38/50\n",
      "26/26 [==============================] - 0s 11ms/step - loss: 0.0637 - accuracy: 0.9903 - val_loss: 0.0706 - val_accuracy: 0.9854\n",
      "Epoch 39/50\n",
      "26/26 [==============================] - 0s 11ms/step - loss: 0.0627 - accuracy: 0.9891 - val_loss: 0.0718 - val_accuracy: 0.9805\n",
      "Epoch 40/50\n",
      "26/26 [==============================] - 0s 11ms/step - loss: 0.0621 - accuracy: 0.9866 - val_loss: 0.0666 - val_accuracy: 0.9854\n",
      "Epoch 41/50\n",
      "26/26 [==============================] - 0s 11ms/step - loss: 0.0607 - accuracy: 0.9891 - val_loss: 0.0672 - val_accuracy: 0.9854\n",
      "Epoch 42/50\n",
      "26/26 [==============================] - 0s 11ms/step - loss: 0.0605 - accuracy: 0.9891 - val_loss: 0.0664 - val_accuracy: 0.9854\n",
      "Epoch 43/50\n",
      "26/26 [==============================] - 0s 11ms/step - loss: 0.0594 - accuracy: 0.9903 - val_loss: 0.0675 - val_accuracy: 0.9854\n",
      "Epoch 44/50\n",
      "26/26 [==============================] - 0s 11ms/step - loss: 0.0583 - accuracy: 0.9891 - val_loss: 0.0645 - val_accuracy: 0.9854\n",
      "Epoch 45/50\n",
      "26/26 [==============================] - 0s 11ms/step - loss: 0.0574 - accuracy: 0.9915 - val_loss: 0.0640 - val_accuracy: 0.9854\n",
      "Epoch 46/50\n",
      "26/26 [==============================] - 0s 12ms/step - loss: 0.0572 - accuracy: 0.9903 - val_loss: 0.0620 - val_accuracy: 0.9854\n",
      "Epoch 47/50\n",
      "26/26 [==============================] - 0s 11ms/step - loss: 0.0559 - accuracy: 0.9891 - val_loss: 0.0612 - val_accuracy: 0.9854\n",
      "Epoch 48/50\n",
      "26/26 [==============================] - 0s 11ms/step - loss: 0.0552 - accuracy: 0.9903 - val_loss: 0.0606 - val_accuracy: 0.9854\n",
      "Epoch 49/50\n",
      "26/26 [==============================] - 0s 11ms/step - loss: 0.0546 - accuracy: 0.9903 - val_loss: 0.0624 - val_accuracy: 0.9854\n",
      "Epoch 50/50\n",
      "26/26 [==============================] - 0s 11ms/step - loss: 0.0539 - accuracy: 0.9903 - val_loss: 0.0610 - val_accuracy: 0.9854\n"
     ]
    },
    {
     "data": {
      "text/plain": [
       "<keras.callbacks.History at 0x7f4cb84dcfd0>"
      ]
     },
     "execution_count": 46,
     "metadata": {},
     "output_type": "execute_result"
    }
   ],
   "source": [
    "###\n",
    "\n",
    "# ReduceLROnPlateau\n",
    "\n",
    "# Reduce learning rate when a metric has stopped improving.\n",
    "\n",
    "model = build_model(dense_units=256)\n",
    "model.compile(\n",
    "    optimizer='sgd',\n",
    "    loss='sparse_categorical_crossentropy', \n",
    "    metrics=['accuracy'])\n",
    "  \n",
    "model.fit(train_batches, \n",
    "          epochs=50, \n",
    "          validation_data=validation_batches, \n",
    "          callbacks=[ReduceLROnPlateau(monitor='val_loss', \n",
    "                                       factor=0.2, verbose=1,\n",
    "                                       patience=1, min_lr=0.001),\n",
    "                     TensorBoard(log_dir='./log_dir')])"
   ]
  },
  {
   "cell_type": "code",
   "execution_count": 47,
   "id": "859e07b8-d0b6-4fd7-a84b-eaf8be8f2bce",
   "metadata": {},
   "outputs": [
    {
     "data": {
      "text/plain": [
       "Reusing TensorBoard on port 6007 (pid 8947), started 0:02:17 ago. (Use '!kill 8947' to kill it.)"
      ]
     },
     "metadata": {},
     "output_type": "display_data"
    },
    {
     "data": {
      "text/html": [
       "\n",
       "      <iframe id=\"tensorboard-frame-cb1b4f7e782594\" width=\"100%\" height=\"800\" frameborder=\"0\">\n",
       "      </iframe>\n",
       "      <script>\n",
       "        (function() {\n",
       "          const frame = document.getElementById(\"tensorboard-frame-cb1b4f7e782594\");\n",
       "          const url = new URL(\"/\", window.location);\n",
       "          const port = 6007;\n",
       "          if (port) {\n",
       "            url.port = port;\n",
       "          }\n",
       "          frame.src = url;\n",
       "        })();\n",
       "      </script>\n",
       "    "
      ],
      "text/plain": [
       "<IPython.core.display.HTML object>"
      ]
     },
     "metadata": {},
     "output_type": "display_data"
    }
   ],
   "source": [
    "%tensorboard --logdir log_dir"
   ]
  },
  {
   "cell_type": "code",
   "execution_count": 49,
   "id": "6ebb2341-39ed-4e2d-9930-3fd86c172350",
   "metadata": {},
   "outputs": [
    {
     "name": "stdout",
     "output_type": "stream",
     "text": [
      "256/256 [==============================] - 1s 2ms/step - loss: 1.3416 - accuracy: 0.7344\n"
     ]
    },
    {
     "data": {
      "text/plain": [
       "{'loss': 1.3415966033935547, 'accuracy': 0.734375}"
      ]
     },
     "execution_count": 49,
     "metadata": {},
     "output_type": "execute_result"
    }
   ],
   "source": [
    "model.evaluate(test_batches, return_dict=True)"
   ]
  },
  {
   "cell_type": "code",
   "execution_count": null,
   "id": "e9ad94ca-f8c3-4dbd-85ff-be0aa48363e4",
   "metadata": {},
   "outputs": [],
   "source": []
  }
 ],
 "metadata": {
  "kernelspec": {
   "display_name": "Python 3",
   "language": "python",
   "name": "python3"
  },
  "language_info": {
   "codemirror_mode": {
    "name": "ipython",
    "version": 3
   },
   "file_extension": ".py",
   "mimetype": "text/x-python",
   "name": "python",
   "nbconvert_exporter": "python",
   "pygments_lexer": "ipython3",
   "version": "3.6.9"
  }
 },
 "nbformat": 4,
 "nbformat_minor": 5
}
