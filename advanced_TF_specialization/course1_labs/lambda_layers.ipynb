{
 "cells": [
  {
   "cell_type": "code",
   "execution_count": 76,
   "id": "dd565246-4254-4f4b-b07c-86ef92730328",
   "metadata": {},
   "outputs": [],
   "source": [
    "import tensorflow as tf\n",
    "from tensorflow.keras.layers import Dense, Flatten, Lambda\n",
    "from tensorflow.keras.models import Model\n",
    "from tensorflow.keras import backend as K"
   ]
  },
  {
   "cell_type": "code",
   "execution_count": 79,
   "id": "c4743e4a-8d9c-4969-aeef-c0b7134eb598",
   "metadata": {},
   "outputs": [
    {
     "name": "stdout",
     "output_type": "stream",
     "text": [
      "y_train:(60000,)\n",
      "x_train:(60000, 28, 28)\n",
      "------\n",
      "y_test:(10000,)\n",
      "x_test:(10000, 28, 28)\n",
      "\n"
     ]
    }
   ],
   "source": [
    "(x_train, y_train), (x_test, y_test) = tf.keras.datasets.mnist.load_data()\n",
    "\n",
    "print(f'''y_train:{y_train.shape}\n",
    "x_train:{x_train.shape}\n",
    "------\n",
    "y_test:{y_test.shape}\n",
    "x_test:{x_test.shape}\n",
    "''')"
   ]
  },
  {
   "cell_type": "code",
   "execution_count": 80,
   "id": "4a036ea3-d6bf-4d83-bf1a-f50759006c86",
   "metadata": {},
   "outputs": [
    {
     "data": {
      "text/plain": [
       "255"
      ]
     },
     "execution_count": 80,
     "metadata": {},
     "output_type": "execute_result"
    }
   ],
   "source": [
    "x_train.max()"
   ]
  },
  {
   "cell_type": "code",
   "execution_count": 81,
   "id": "38672f04-e088-492b-a76f-5bd8ef562fc7",
   "metadata": {},
   "outputs": [
    {
     "data": {
      "text/plain": [
       "dtype('uint8')"
      ]
     },
     "execution_count": 81,
     "metadata": {},
     "output_type": "execute_result"
    }
   ],
   "source": [
    "x_train[3][1].dtype"
   ]
  },
  {
   "cell_type": "code",
   "execution_count": 82,
   "id": "7bd1cb53-1766-4c9b-8a91-75b456435c21",
   "metadata": {},
   "outputs": [],
   "source": [
    "# normalize the dataset and change type to float 32\n",
    "# normalize to make data between range 0 and 1\n",
    "\n",
    "max_val = 255.0\n",
    "x_train = x_train/max_val\n",
    "x_test = x_test/max_val"
   ]
  },
  {
   "cell_type": "code",
   "execution_count": 83,
   "id": "48ef2d28-65b7-4008-8ff1-2aa47a8aa091",
   "metadata": {},
   "outputs": [
    {
     "name": "stdout",
     "output_type": "stream",
     "text": [
      "Epoch 1/5\n",
      "1875/1875 [==============================] - 3s 1ms/step - loss: 0.2625 - accuracy: 0.9259\n",
      "Epoch 2/5\n",
      "1875/1875 [==============================] - 3s 1ms/step - loss: 0.1145 - accuracy: 0.9660\n",
      "Epoch 3/5\n",
      "1875/1875 [==============================] - 2s 1ms/step - loss: 0.0803 - accuracy: 0.9762\n",
      "Epoch 4/5\n",
      "1875/1875 [==============================] - 2s 1ms/step - loss: 0.0594 - accuracy: 0.9816\n",
      "Epoch 5/5\n",
      "1875/1875 [==============================] - 2s 1ms/step - loss: 0.0463 - accuracy: 0.9859\n",
      "313/313 [==============================] - 0s 1ms/step - loss: 0.0810 - accuracy: 0.9744\n"
     ]
    },
    {
     "data": {
      "text/plain": [
       "[0.081016905605793, 0.974399983882904]"
      ]
     },
     "execution_count": 83,
     "metadata": {},
     "output_type": "execute_result"
    }
   ],
   "source": [
    "# this model uses a relu activation\n",
    "model_1 = tf.keras.models.Sequential([\n",
    "    Flatten(input_shape=(28,28)), \n",
    "    Dense(128, activation='relu'),\n",
    "    Dense(10, activation='softmax')\n",
    "])\n",
    "\n",
    "model_1.compile(optimizer='adam',\n",
    "                loss='sparse_categorical_crossentropy',\n",
    "                metrics=['accuracy'])\n",
    "\n",
    "model_1.fit(x_train, y_train, epochs=5)\n",
    "model_1.evaluate(x_test, y_test)"
   ]
  },
  {
   "cell_type": "code",
   "execution_count": 84,
   "id": "828ed1af-fdf5-4c40-84e2-356c8073829a",
   "metadata": {},
   "outputs": [
    {
     "name": "stdout",
     "output_type": "stream",
     "text": [
      "Epoch 1/5\n",
      "1875/1875 [==============================] - 3s 1ms/step - loss: 0.2249 - accuracy: 0.9365\n",
      "Epoch 2/5\n",
      "1875/1875 [==============================] - 2s 1ms/step - loss: 0.0911 - accuracy: 0.9728\n",
      "Epoch 3/5\n",
      "1875/1875 [==============================] - 3s 1ms/step - loss: 0.0629 - accuracy: 0.9809\n",
      "Epoch 4/5\n",
      "1875/1875 [==============================] - 2s 1ms/step - loss: 0.0492 - accuracy: 0.9847\n",
      "Epoch 5/5\n",
      "1875/1875 [==============================] - 2s 1ms/step - loss: 0.0368 - accuracy: 0.9880\n",
      "313/313 [==============================] - 0s 1ms/step - loss: 0.0823 - accuracy: 0.9771\n"
     ]
    },
    {
     "data": {
      "text/plain": [
       "[0.08233264833688736, 0.9771000146865845]"
      ]
     },
     "execution_count": 84,
     "metadata": {},
     "output_type": "execute_result"
    }
   ],
   "source": [
    "# this model uses a lambda layer instead of relu activation\n",
    "model_2 = tf.keras.models.Sequential([\n",
    "    Flatten(input_shape=(28,28)), \n",
    "    Dense(128),\n",
    "    Lambda(lambda x: tf.abs(x), name=\"lambda_layer_with_abs\"),\n",
    "    Dense(10, activation='softmax')\n",
    "])\n",
    "\n",
    "model_2.compile(optimizer='adam',\n",
    "                loss='sparse_categorical_crossentropy',\n",
    "                metrics=['accuracy'])\n",
    "\n",
    "model_2.fit(x_train, y_train, epochs=5)\n",
    "model_2.evaluate(x_test, y_test)"
   ]
  },
  {
   "cell_type": "code",
   "execution_count": 89,
   "id": "faf92d84-ec39-465b-8276-be15b9bafba5",
   "metadata": {},
   "outputs": [
    {
     "name": "stdout",
     "output_type": "stream",
     "text": [
      "Epoch 1/5\n",
      "1875/1875 [==============================] - 3s 1ms/step - loss: 0.2669 - accuracy: 0.9227\n",
      "Epoch 2/5\n",
      "1875/1875 [==============================] - 3s 1ms/step - loss: 0.1163 - accuracy: 0.9659\n",
      "Epoch 3/5\n",
      "1875/1875 [==============================] - 3s 1ms/step - loss: 0.0768 - accuracy: 0.9764\n",
      "Epoch 4/5\n",
      "1875/1875 [==============================] - 3s 1ms/step - loss: 0.0565 - accuracy: 0.9829\n",
      "Epoch 5/5\n",
      "1875/1875 [==============================] - 3s 1ms/step - loss: 0.0447 - accuracy: 0.9858\n",
      "313/313 [==============================] - 0s 1ms/step - loss: 0.0768 - accuracy: 0.9774\n"
     ]
    },
    {
     "data": {
      "text/plain": [
       "[0.07682792097330093, 0.977400004863739]"
      ]
     },
     "execution_count": 89,
     "metadata": {},
     "output_type": "execute_result"
    }
   ],
   "source": [
    "# this model uses a lambda layer with my own relu function that I can edit\n",
    "def my_relu(x):\n",
    "    threshold = -0.3\n",
    "    return K.maximum(x, threshold)\n",
    "\n",
    "model_3 = tf.keras.models.Sequential([\n",
    "    Flatten(input_shape=(28,28)), \n",
    "    Dense(128),\n",
    "    Lambda(my_relu, name=\"lambda_layer_with_my_relu\"),\n",
    "    Dense(10, activation='softmax')\n",
    "])\n",
    "\n",
    "model_3.compile(optimizer='adam',\n",
    "                loss='sparse_categorical_crossentropy',\n",
    "                metrics=['accuracy'])\n",
    "\n",
    "model_3.fit(x_train, y_train, epochs=5)\n",
    "model_3.evaluate(x_test, y_test)"
   ]
  },
  {
   "cell_type": "code",
   "execution_count": null,
   "id": "7ec86113-37fd-4377-a569-70db3612bd64",
   "metadata": {},
   "outputs": [],
   "source": []
  }
 ],
 "metadata": {
  "kernelspec": {
   "display_name": "Python 3",
   "language": "python",
   "name": "python3"
  },
  "language_info": {
   "codemirror_mode": {
    "name": "ipython",
    "version": 3
   },
   "file_extension": ".py",
   "mimetype": "text/x-python",
   "name": "python",
   "nbconvert_exporter": "python",
   "pygments_lexer": "ipython3",
   "version": "3.6.9"
  }
 },
 "nbformat": 4,
 "nbformat_minor": 5
}
