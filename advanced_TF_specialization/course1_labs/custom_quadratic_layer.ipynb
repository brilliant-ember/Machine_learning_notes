{
 "cells": [
  {
   "cell_type": "markdown",
   "id": "de57c13c-fc27-484c-a262-429b03845c9f",
   "metadata": {},
   "source": [
    "\n",
    "# Week 3 Assignment: Implement a Quadratic Layer¶\n",
    "\n",
    "\n",
    "\n",
    "In this week's programming exercise, you will build a custom quadratic layer which computes $y = ax^2 + bx + c$. \n",
    "We will find the a,b,c coffienct values using the power of our custom made machine learning layer!\n",
    "\n",
    "Similar to the ungraded lab, this layer will be plugged into a model that will be trained on the MNIST dataset. Let's get started!\n",
    "\n",
    "\n",
    "https://github.com/ANKITPODDER2000/Tensorflow-Advance/blob/main/Custom_Models_Layers_and_Loss_Functions_with_TensorFlow/Week3/C1W3_Assignment.ipynb"
   ]
  },
  {
   "cell_type": "code",
   "execution_count": 8,
   "id": "ec7a37f2-82ee-4e19-a6a6-cd3e84971c8e",
   "metadata": {},
   "outputs": [],
   "source": [
    "import tensorflow as tf\n",
    "from tensorflow.keras.layers import Layer\n",
    "\n",
    "import quadratic_test"
   ]
  },
  {
   "cell_type": "markdown",
   "id": "b7f12834-ff93-4314-8893-3702acdae9bd",
   "metadata": {},
   "source": [
    "Implement a simple quadratic layer. It has 3 state variables: $a$, $b$ and $c$. The computation returned is $ax^2 + bx + c$. Make sure it can also accept an activation function."
   ]
  },
  {
   "cell_type": "code",
   "execution_count": 11,
   "id": "05e472a2-e441-487f-99f3-e70873daf7aa",
   "metadata": {},
   "outputs": [
    {
     "name": "stdout",
     "output_type": "stream",
     "text": [
      "\u001b[92m All public tests passed\n"
     ]
    }
   ],
   "source": [
    "class QuadraticLayer(Layer):\n",
    "    def __init__(self,\n",
    "                 units=32, activation=None):\n",
    "        super(QuadraticLayer, self).__init__()\n",
    "        self.activation=tf.keras.activations.get(activation)\n",
    "        self.units = units\n",
    "        \n",
    "        \n",
    "    def build(self, input_shape):\n",
    "        # initializer functions\n",
    "        a_init = tf.random_normal_initializer()\n",
    "        b_init = tf.random_normal_initializer()\n",
    "        c_init = tf.zeros_initializer() # c is like the bias\n",
    "        \n",
    "        # initial values using initalizers above\n",
    "        shape = (input_shape[-1], self.units)\n",
    "        c_shape = (self.units,)\n",
    "        a_init_value = a_init(shape=shape, dtype='float32')\n",
    "        b_init_value = b_init(shape=shape, dtype='float32')\n",
    "        c_init_value = c_init(shape=c_shape, dtype='float32')\n",
    "        \n",
    "        # set instance variable tensors\n",
    "        self.a = tf.Variable(initial_value = a_init_value,\n",
    "                             trainable=True)\n",
    "        self.b = tf.Variable(initial_value = b_init_value,\n",
    "                             trainable=True)\n",
    "        self.c = tf.Variable(initial_value = c_init_value,\n",
    "                             trainable=True)\n",
    "        \n",
    "    def call(self, training_inputs):\n",
    "        # we want to do this\n",
    "        # ax^2 + bx +c ,ie quadratic formula \n",
    "        x = training_inputs # alias\n",
    "        x_squared = tf.math.square(x)\n",
    "        # order matters in matrix multiplication!\n",
    "        a_term = tf.matmul(x_squared, self.a)\n",
    "        b_term = tf.matmul(x, self.b)\n",
    "        # c_term is just self.c\n",
    "        \n",
    "        quad_func = a_term + b_term + self.c\n",
    "        \n",
    "        return self.activation(quad_func)\n",
    "        \n",
    "        \n",
    "        \n",
    "quadratic_test.test_simple_quadratic(QuadraticLayer)\n",
    "        \n",
    "   "
   ]
  },
  {
   "cell_type": "code",
   "execution_count": 14,
   "id": "056bc0b8-1015-45e4-bf50-feea44f9f4c9",
   "metadata": {},
   "outputs": [
    {
     "name": "stdout",
     "output_type": "stream",
     "text": [
      "Epoch 1/5\n",
      "1875/1875 [==============================] - 3s 1ms/step - loss: 0.2707 - accuracy: 0.9192\n",
      "Epoch 2/5\n",
      "1875/1875 [==============================] - 3s 2ms/step - loss: 0.1343 - accuracy: 0.9592\n",
      "Epoch 3/5\n",
      "1875/1875 [==============================] - 3s 1ms/step - loss: 0.1006 - accuracy: 0.9696\n",
      "Epoch 4/5\n",
      "1875/1875 [==============================] - 3s 1ms/step - loss: 0.0837 - accuracy: 0.9742\n",
      "Epoch 5/5\n",
      "1875/1875 [==============================] - 3s 1ms/step - loss: 0.0717 - accuracy: 0.9769\n",
      "313/313 [==============================] - 0s 1ms/step - loss: 0.0744 - accuracy: 0.9770\n"
     ]
    },
    {
     "data": {
      "text/plain": [
       "[0.07442031055688858, 0.9769999980926514]"
      ]
     },
     "execution_count": 14,
     "metadata": {},
     "output_type": "execute_result"
    }
   ],
   "source": [
    "# THIS CODE SHOULD RUN WITHOUT MODIFICATION\n",
    "# AND SHOULD RETURN TRAINING/TESTING ACCURACY at 97%+\n",
    "\n",
    "mnist = tf.keras.datasets.mnist\n",
    "\n",
    "(x_train, y_train),(x_test, y_test) = mnist.load_data()\n",
    "x_train, x_test = x_train / 255.0, x_test / 255.0\n",
    "\n",
    "model = tf.keras.models.Sequential([\n",
    "  tf.keras.layers.Flatten(input_shape=(28, 28)),\n",
    "  QuadraticLayer(128, activation='relu'),\n",
    "  tf.keras.layers.Dropout(0.2),\n",
    "  tf.keras.layers.Dense(10, activation='softmax')\n",
    "])\n",
    "\n",
    "model.compile(optimizer='adam',\n",
    "              loss='sparse_categorical_crossentropy',\n",
    "              metrics=['accuracy'])\n",
    "\n",
    "model.fit(x_train, y_train, epochs=5)\n",
    "model.evaluate(x_test, y_test)"
   ]
  },
  {
   "cell_type": "code",
   "execution_count": null,
   "id": "5f15382a-ee0d-4821-b347-8f06e7cdb1b5",
   "metadata": {},
   "outputs": [],
   "source": []
  }
 ],
 "metadata": {
  "kernelspec": {
   "display_name": "Python 3",
   "language": "python",
   "name": "python3"
  },
  "language_info": {
   "codemirror_mode": {
    "name": "ipython",
    "version": 3
   },
   "file_extension": ".py",
   "mimetype": "text/x-python",
   "name": "python",
   "nbconvert_exporter": "python",
   "pygments_lexer": "ipython3",
   "version": "3.6.9"
  }
 },
 "nbformat": 4,
 "nbformat_minor": 5
}
