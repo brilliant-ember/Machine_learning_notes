{
 "cells": [
  {
   "cell_type": "markdown",
   "id": "de354b84-aac0-4f70-a902-5cbea5ba80da",
   "metadata": {},
   "source": [
    "https://github.com/shreyasvedpathak/Tensorflow-Advanced-Techniques-Solutions/blob/main/Course%201/Week4_Assignment.ipynb"
   ]
  },
  {
   "cell_type": "code",
   "execution_count": 22,
   "id": "b75c1679-af3a-4b37-abc4-4567a0b29faf",
   "metadata": {},
   "outputs": [],
   "source": [
    "import tensorflow as tf\n",
    "import tensorflow_datasets as tfds\n",
    "from tensorflow.keras.layers import Conv2D, MaxPool2D, Dense, Flatten\n",
    "from tensorflow.keras.models import Model"
   ]
  },
  {
   "cell_type": "code",
   "execution_count": 8,
   "id": "bfd7abee-ee12-400b-9929-5e7ec45da6a9",
   "metadata": {},
   "outputs": [],
   "source": [
    "class MyClass:\n",
    "    def __init__(self):\n",
    "        self.var1 = 1\n",
    "my_obj = MyClass()"
   ]
  },
  {
   "cell_type": "code",
   "execution_count": 9,
   "id": "94930a21-d6e9-447b-847a-c5af0a71b74c",
   "metadata": {},
   "outputs": [
    {
     "data": {
      "text/plain": [
       "{'var1': 1}"
      ]
     },
     "execution_count": 9,
     "metadata": {},
     "output_type": "execute_result"
    }
   ],
   "source": [
    "my_obj.__dict__ # object's instance variables and values as key value pairs"
   ]
  },
  {
   "cell_type": "code",
   "execution_count": 11,
   "id": "5985bdba-8f0f-4e91-a5bc-76301f5313b5",
   "metadata": {},
   "outputs": [
    {
     "data": {
      "text/plain": [
       "{'var1': 1}"
      ]
     },
     "execution_count": 11,
     "metadata": {},
     "output_type": "execute_result"
    }
   ],
   "source": [
    "# using vars function does the same thing\n",
    "vars(my_obj)"
   ]
  },
  {
   "cell_type": "code",
   "execution_count": 12,
   "id": "5b5189a8-8dd9-4781-9821-5c0dac9a6dc2",
   "metadata": {},
   "outputs": [
    {
     "data": {
      "text/plain": [
       "{'var1': 1, 'var2': 2}"
      ]
     },
     "execution_count": 12,
     "metadata": {},
     "output_type": "execute_result"
    }
   ],
   "source": [
    "\n",
    "\n",
    "# Add a new instance variable and give it a value\n",
    "my_obj.var2 = 2\n",
    "\n",
    "# Calls vars() again to see the object's instance variables\n",
    "vars(my_obj)\n",
    "\n"
   ]
  },
  {
   "cell_type": "code",
   "execution_count": 14,
   "id": "79833fd5-986f-4f57-bc12-f3608bff7b09",
   "metadata": {},
   "outputs": [
    {
     "data": {
      "text/plain": [
       "{'var1': 1, 'var2': 2, 'var3': 3, 'var4': 4}"
      ]
     },
     "execution_count": 14,
     "metadata": {},
     "output_type": "execute_result"
    }
   ],
   "source": [
    "# Another way to add a variable which we can use to programmically add instance variables is this\n",
    "my_obj.__dict__['var3'] = 3\n",
    "vars(my_obj)['var4'] = 4 # or this\n",
    "\n",
    "vars(my_obj)"
   ]
  },
  {
   "cell_type": "code",
   "execution_count": 15,
   "id": "fd54f20e-760f-476b-a43e-8dae07c93db4",
   "metadata": {},
   "outputs": [
    {
     "data": {
      "text/plain": [
       "{'var1': 1,\n",
       " 'var2': 2,\n",
       " 'var3': 3,\n",
       " 'var4': 4,\n",
       " 'var5': 5,\n",
       " 'var6': 6,\n",
       " 'var7': 7,\n",
       " 'var8': 8,\n",
       " 'var9': 9}"
      ]
     },
     "execution_count": 15,
     "metadata": {},
     "output_type": "execute_result"
    }
   ],
   "source": [
    "# Use a for loop to increment the index 'i'\n",
    "for i in range(4,10):\n",
    "    # Format a string that is var\n",
    "    vars(my_obj)[f'var{i}'] = i\n",
    "    \n",
    "# View the object's instance variables!\n",
    "vars(my_obj)"
   ]
  },
  {
   "cell_type": "code",
   "execution_count": 23,
   "id": "4fac33e2-19d3-4f67-bced-403e5d1cfb30",
   "metadata": {},
   "outputs": [],
   "source": [
    "# now use the dynamic class var creation method to create a block that has\n",
    "# an arbitrary number of conv layers\n",
    "class Block(Model):\n",
    "    def __init__(self, num_filters, kernel_size, repetitions:int, pool_size=2, strides=2):\n",
    "        super(Block, self).__init__()\n",
    "        self.num_filters = num_filters\n",
    "        self.kernel_size = kernel_size\n",
    "        self.repetitions = repetitions\n",
    "        # define conv layers as instance vars\n",
    "        for i in range(repetitions):\n",
    "            self.__dict__[f'conv{i}'] = Conv2D(self.num_filters, self.kernel_size,\n",
    "                                               padding=\"same\", activation='relu')\n",
    "        self.max_pooling = MaxPool2D(pool_size=pool_size, strides=strides)\n",
    "        \n",
    "        \n",
    "    def call(self, inputs):\n",
    "        conv0 = self.__dict__['conv0']\n",
    "        x = conv0(inputs) # connect the inputs to the conv layer\n",
    "        \n",
    "        # connect the rest of the conv layers\n",
    "        for i in range(1, self.repetitions):\n",
    "            conv_i = self.__dict__['conv{}'.format(i)]\n",
    "            x = conv_i(x)\n",
    "        max_pool  = self.max_pooling(x)\n",
    "        return max_pool"
   ]
  },
  {
   "cell_type": "code",
   "execution_count": 25,
   "id": "add4c43f-8853-4d07-9a83-9012e3eea339",
   "metadata": {},
   "outputs": [],
   "source": [
    "class MyVGG(Model):\n",
    "    def __init__(self, num_classes):\n",
    "        super(MyVGG, self).__init__()\n",
    "        self.block_a = Block(64, 3, 2)\n",
    "        self.block_b = Block(128, 3, 2)\n",
    "        self.block_c = Block(256, 3, 3)\n",
    "        self.block_d = Block(512, 3, 3)\n",
    "        self.block_e = Block(512, 3, 3)\n",
    "        self.flatten = Flatten()\n",
    "        self.dense = Dense(256, activation = 'relu')\n",
    "        self.classifier = Dense(num_classes, activation = 'softmax')\n",
    "        \n",
    "    def call(self, inputs):\n",
    "        x = self.block_a(inputs)\n",
    "        x = self.block_b(x)\n",
    "        x = self.block_c(x)\n",
    "        x = self.block_d(x)\n",
    "        x = self.block_e(x)\n",
    "        x = self.flatten(x)\n",
    "        x = self.dense(x)\n",
    "        x = self.classifier(x)\n",
    "        \n",
    "        return x\n",
    "\n"
   ]
  },
  {
   "cell_type": "code",
   "execution_count": 29,
   "id": "da64ad74-5bcb-4449-a5ee-fbe78d41a803",
   "metadata": {},
   "outputs": [
    {
     "name": "stdout",
     "output_type": "stream",
     "text": [
      "Epoch 1/10\n",
      "727/727 [==============================] - 85s 104ms/step - loss: 0.6823 - accuracy: 0.5694\n",
      "Epoch 2/10\n",
      "727/727 [==============================] - 70s 97ms/step - loss: 0.6387 - accuracy: 0.6468\n",
      "Epoch 3/10\n",
      "727/727 [==============================] - 70s 97ms/step - loss: 0.6086 - accuracy: 0.6708\n",
      "Epoch 4/10\n",
      "727/727 [==============================] - 70s 97ms/step - loss: 0.5940 - accuracy: 0.6809\n",
      "Epoch 5/10\n",
      "727/727 [==============================] - 71s 97ms/step - loss: 0.5844 - accuracy: 0.6904\n",
      "Epoch 6/10\n",
      "727/727 [==============================] - 70s 97ms/step - loss: 0.5765 - accuracy: 0.6960\n",
      "Epoch 7/10\n",
      "727/727 [==============================] - 70s 96ms/step - loss: 0.5695 - accuracy: 0.7014\n",
      "Epoch 8/10\n",
      "727/727 [==============================] - 70s 97ms/step - loss: 0.5630 - accuracy: 0.7069\n",
      "Epoch 9/10\n",
      "727/727 [==============================] - 70s 97ms/step - loss: 0.5568 - accuracy: 0.7123\n",
      "Epoch 10/10\n",
      "727/727 [==============================] - 71s 97ms/step - loss: 0.5509 - accuracy: 0.7163\n"
     ]
    },
    {
     "data": {
      "text/plain": [
       "<keras.callbacks.History at 0x7f5c226bfb38>"
      ]
     },
     "execution_count": 29,
     "metadata": {},
     "output_type": "execute_result"
    }
   ],
   "source": [
    "ds = tfds.load('cats_vs_dogs', split=tfds.Split.TRAIN)\n",
    "vgg = MyVGG(num_classes=2)\n",
    "vgg.compile(optimizer = 'adam', loss='sparse_categorical_crossentropy', metrics=['accuracy'])\n",
    "\n",
    "def preprocess(features):\n",
    "    img = tf.image.resize(features['image'], (244, 244))\n",
    "    return tf.cast(img, tf.float32)/255., features['label']\n",
    "\n",
    "ds = ds.map(preprocess).batch(32)\n",
    "\n",
    "vgg.fit(ds, epochs=10)"
   ]
  },
  {
   "cell_type": "code",
   "execution_count": 31,
   "id": "68474446-f08e-4485-9854-b96e51028b40",
   "metadata": {},
   "outputs": [
    {
     "name": "stdout",
     "output_type": "stream",
     "text": [
      "727/727 [==============================] - 70s 96ms/step - loss: 0.5555 - accuracy: 0.7110\n"
     ]
    },
    {
     "data": {
      "text/plain": [
       "[0.5555102229118347, 0.7109878659248352]"
      ]
     },
     "execution_count": 31,
     "metadata": {},
     "output_type": "execute_result"
    }
   ],
   "source": [
    "# ds_test = tfds.load('cats_vs_dogs', split=tfds.Split.T) # this is probably the wrong way of getting data but its fine\n",
    "# ds_test = ds.map(preprocess).batch(32)\n",
    "vgg.evaluate(ds) # should't use same as the trainig ds but its fine\n"
   ]
  },
  {
   "cell_type": "code",
   "execution_count": null,
   "id": "5cc1191f-5514-4943-8e8f-14fcdbaab8a6",
   "metadata": {},
   "outputs": [],
   "source": []
  }
 ],
 "metadata": {
  "kernelspec": {
   "display_name": "Python 3",
   "language": "python",
   "name": "python3"
  },
  "language_info": {
   "codemirror_mode": {
    "name": "ipython",
    "version": 3
   },
   "file_extension": ".py",
   "mimetype": "text/x-python",
   "name": "python",
   "nbconvert_exporter": "python",
   "pygments_lexer": "ipython3",
   "version": "3.6.9"
  }
 },
 "nbformat": 4,
 "nbformat_minor": 5
}
