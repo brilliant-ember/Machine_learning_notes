{
 "cells": [
  {
   "cell_type": "code",
   "execution_count": 6,
   "id": "0c9b008a-306c-46fa-84b0-5022636e98bf",
   "metadata": {},
   "outputs": [],
   "source": [
    "# we make a custom layer using MNIST dataset\n",
    "# https://github.com/ANKITPODDER2000/Tensorflow-Advance/blob/main/Custom_Models_Layers_and_Loss_Functions_with_TensorFlow/Week3/customlayerMNIST.ipynb\n",
    "\n",
    "import tensorflow as tf\n",
    "from tensorflow.keras.layers import Dense, Flatten, Lambda\n",
    "from tensorflow.keras.models import Model\n",
    "from tensorflow.keras import backend as K\n",
    "import numpy as np"
   ]
  },
  {
   "cell_type": "code",
   "execution_count": 2,
   "id": "6beb9172-14e1-4243-aea6-e4816a5a86d7",
   "metadata": {},
   "outputs": [
    {
     "name": "stdout",
     "output_type": "stream",
     "text": [
      "y_train:(60000,)\n",
      "x_train:(60000, 28, 28)\n",
      "------\n",
      "y_test:(10000,)\n",
      "x_test:(10000, 28, 28)\n",
      "\n"
     ]
    }
   ],
   "source": [
    "(x_train, y_train), (x_test, y_test) = tf.keras.datasets.mnist.load_data()\n",
    "\n",
    "print(f'''y_train:{y_train.shape}\n",
    "x_train:{x_train.shape}\n",
    "------\n",
    "y_test:{y_test.shape}\n",
    "x_test:{x_test.shape}\n",
    "''')"
   ]
  },
  {
   "cell_type": "code",
   "execution_count": 3,
   "id": "74fd32f0-809b-4b72-b29e-6bd02d54ef26",
   "metadata": {},
   "outputs": [],
   "source": [
    "max_val = 255.0\n",
    "x_train = x_train/max_val\n",
    "x_test = x_test/max_val"
   ]
  },
  {
   "cell_type": "code",
   "execution_count": 5,
   "id": "79253a0f-0e36-483d-8d74-f983cade9b8b",
   "metadata": {},
   "outputs": [
    {
     "name": "stdout",
     "output_type": "stream",
     "text": [
      "input shape is (1, 1)\n",
      "[<tf.Variable 'simple_dense_1/kernal:0' shape=(1, 1) dtype=float32, numpy=array([[-0.03094523]], dtype=float32)>, <tf.Variable 'simple_dense_1/bias:0' shape=(1,) dtype=float32, numpy=array([0.], dtype=float32)>]\n"
     ]
    }
   ],
   "source": [
    "class SimpleDense(tf.keras.layers.Layer):\n",
    "    def __init__(self, units=32):\n",
    "        super(SimpleDense, self).__init__()\n",
    "        self.units=units\n",
    "        \n",
    "    # create the state of layer (weights)    \n",
    "    def build(self, input_shape):\n",
    "        # we expect an output shape of the number of units in dense\n",
    "        shape= (input_shape[-1], self.units)\n",
    "        \n",
    "        # random weights initializer\n",
    "        weights_init = tf.random_normal_initializer()\n",
    "        weights = weights_init(shape=shape, dtype='float32')\n",
    "        \n",
    "        print(\"input shape is {}\".format(input_shape))\n",
    "        self.w= tf.Variable(name=\"kernal\",\n",
    "                            initial_value= weights,\n",
    "                            trainable=True)\n",
    "        \n",
    "        # inializer to start bias at 0\n",
    "        b_init = tf.zeros_initializer()\n",
    "        bias = b_init(shape=(self.units,), dtype='float32')\n",
    "        self.b = tf.Variable(name=\"bias\", initial_value=bias, \n",
    "                             trainable=True)\n",
    "    # the computation from inputs to output\n",
    "    def call(self, inputs):\n",
    "        return tf.matmul(inputs, self.w) + self.b\n",
    "        \n",
    " \n",
    "my_dense = SimpleDense(units=1)\n",
    "x = tf.ones((1,1))\n",
    "y = my_dense(x)\n",
    "print(my_dense.variables)"
   ]
  },
  {
   "cell_type": "code",
   "execution_count": 10,
   "id": "e54635df-bff7-4616-b1f7-918049afb193",
   "metadata": {},
   "outputs": [
    {
     "name": "stdout",
     "output_type": "stream",
     "text": [
      "inputs [-2.  -0.8  0.4  1.6  2.8  4. ], \n",
      "Labels [-5.  -2.6 -0.2  2.2  4.6  7. ]\n"
     ]
    }
   ],
   "source": [
    "x = np.linspace(-2, 4, num=6)\n",
    "y = 2*x -1\n",
    "print(f\"inputs {x}, \\nLabels {y}\")"
   ]
  },
  {
   "cell_type": "code",
   "execution_count": 11,
   "id": "167f2079-d9bf-4cda-bab1-76ef69139b3c",
   "metadata": {},
   "outputs": [
    {
     "name": "stdout",
     "output_type": "stream",
     "text": [
      "input shape is (None, 1)\n",
      "[<tf.Variable 'simple_dense_2/kernal:0' shape=(1, 1) dtype=float32, numpy=array([[1.9998722]], dtype=float32)>, <tf.Variable 'simple_dense_2/bias:0' shape=(1,) dtype=float32, numpy=array([-0.9994343], dtype=float32)>]\n"
     ]
    }
   ],
   "source": [
    "my_layer= SimpleDense(units=1)\n",
    "model=tf.keras.Sequential([my_layer])\n",
    "model.compile(optimizer='sgd', loss='mse')\n",
    "model.fit(x,y,epochs=500, verbose=0)\n",
    "print(my_layer.variables)"
   ]
  },
  {
   "cell_type": "code",
   "execution_count": 12,
   "id": "059e6b0c-43e3-4107-bd8a-7b3949f0617d",
   "metadata": {},
   "outputs": [],
   "source": [
    "# we see that the model trains the weight to be 1.9998722 which is very close to the original value\n",
    "# of 2 and the bias to -0.999 which is also close to 1. GREAT! that's close enough approx!!"
   ]
  },
  {
   "cell_type": "code",
   "execution_count": null,
   "id": "21cc4fd7-ae4b-46c3-9512-1d2c0872544a",
   "metadata": {},
   "outputs": [],
   "source": []
  }
 ],
 "metadata": {
  "kernelspec": {
   "display_name": "Python 3",
   "language": "python",
   "name": "python3"
  },
  "language_info": {
   "codemirror_mode": {
    "name": "ipython",
    "version": 3
   },
   "file_extension": ".py",
   "mimetype": "text/x-python",
   "name": "python",
   "nbconvert_exporter": "python",
   "pygments_lexer": "ipython3",
   "version": "3.6.9"
  }
 },
 "nbformat": 4,
 "nbformat_minor": 5
}
